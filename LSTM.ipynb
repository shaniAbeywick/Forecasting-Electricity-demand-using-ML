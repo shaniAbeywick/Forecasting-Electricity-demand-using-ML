{
 "cells": [
  {
   "cell_type": "code",
   "execution_count": 84,
   "id": "480c746b",
   "metadata": {},
   "outputs": [],
   "source": [
    "import tensorflow as tf\n",
    "import math\n",
    "from tensorflow import keras\n",
    "import numpy as np\n",
    "import matplotlib.pyplot as plt\n",
    "import pandas as pd \n",
    "import seaborn as sns\n",
    "from keras.preprocessing.sequence import TimeseriesGenerator\n",
    "from sklearn.preprocessing import MinMaxScaler,StandardScaler\n",
    "from math import sqrt\n",
    "from sklearn.metrics import mean_squared_error,mean_absolute_error,mean_absolute_percentage_error\n",
    "from sklearn.impute import SimpleImputer # import simple imputer\n",
    "from sklearn.model_selection import train_test_split\n",
    "\n",
    "\n"
   ]
  },
  {
   "cell_type": "code",
   "execution_count": 42,
   "id": "f60b7e47",
   "metadata": {},
   "outputs": [
    {
     "data": {
      "text/html": [
       "<div>\n",
       "<style scoped>\n",
       "    .dataframe tbody tr th:only-of-type {\n",
       "        vertical-align: middle;\n",
       "    }\n",
       "\n",
       "    .dataframe tbody tr th {\n",
       "        vertical-align: top;\n",
       "    }\n",
       "\n",
       "    .dataframe thead th {\n",
       "        text-align: right;\n",
       "    }\n",
       "</style>\n",
       "<table border=\"1\" class=\"dataframe\">\n",
       "  <thead>\n",
       "    <tr style=\"text-align: right;\">\n",
       "      <th></th>\n",
       "      <th>Demand</th>\n",
       "      <th>Temp_Avg</th>\n",
       "      <th>Temp_Max</th>\n",
       "      <th>Temp_Min</th>\n",
       "      <th>Rainfall_Avg</th>\n",
       "      <th>HumidityDay</th>\n",
       "      <th>HumidityNight</th>\n",
       "    </tr>\n",
       "    <tr>\n",
       "      <th>Month</th>\n",
       "      <th></th>\n",
       "      <th></th>\n",
       "      <th></th>\n",
       "      <th></th>\n",
       "      <th></th>\n",
       "      <th></th>\n",
       "      <th></th>\n",
       "    </tr>\n",
       "  </thead>\n",
       "  <tbody>\n",
       "    <tr>\n",
       "      <th>2015-01-01</th>\n",
       "      <td>13.355776</td>\n",
       "      <td>26.7</td>\n",
       "      <td>31.3</td>\n",
       "      <td>22.2</td>\n",
       "      <td>15.8</td>\n",
       "      <td>69</td>\n",
       "      <td>92.0</td>\n",
       "    </tr>\n",
       "    <tr>\n",
       "      <th>2015-02-01</th>\n",
       "      <td>12.717279</td>\n",
       "      <td>26.8</td>\n",
       "      <td>31.2</td>\n",
       "      <td>22.3</td>\n",
       "      <td>129.8</td>\n",
       "      <td>71</td>\n",
       "      <td>92.0</td>\n",
       "    </tr>\n",
       "    <tr>\n",
       "      <th>2015-03-01</th>\n",
       "      <td>13.780719</td>\n",
       "      <td>28.7</td>\n",
       "      <td>33.6</td>\n",
       "      <td>23.7</td>\n",
       "      <td>26.0</td>\n",
       "      <td>64</td>\n",
       "      <td>89.0</td>\n",
       "    </tr>\n",
       "    <tr>\n",
       "      <th>2015-04-01</th>\n",
       "      <td>14.926229</td>\n",
       "      <td>29.2</td>\n",
       "      <td>34.1</td>\n",
       "      <td>24.2</td>\n",
       "      <td>288.2</td>\n",
       "      <td>68</td>\n",
       "      <td>91.0</td>\n",
       "    </tr>\n",
       "    <tr>\n",
       "      <th>2015-05-01</th>\n",
       "      <td>15.463069</td>\n",
       "      <td>29.3</td>\n",
       "      <td>33.5</td>\n",
       "      <td>25.1</td>\n",
       "      <td>264.7</td>\n",
       "      <td>73</td>\n",
       "      <td>91.0</td>\n",
       "    </tr>\n",
       "  </tbody>\n",
       "</table>\n",
       "</div>"
      ],
      "text/plain": [
       "               Demand  Temp_Avg  Temp_Max  Temp_Min  Rainfall_Avg  \\\n",
       "Month                                                               \n",
       "2015-01-01  13.355776      26.7      31.3      22.2          15.8   \n",
       "2015-02-01  12.717279      26.8      31.2      22.3         129.8   \n",
       "2015-03-01  13.780719      28.7      33.6      23.7          26.0   \n",
       "2015-04-01  14.926229      29.2      34.1      24.2         288.2   \n",
       "2015-05-01  15.463069      29.3      33.5      25.1         264.7   \n",
       "\n",
       "            HumidityDay  HumidityNight  \n",
       "Month                                   \n",
       "2015-01-01           69           92.0  \n",
       "2015-02-01           71           92.0  \n",
       "2015-03-01           64           89.0  \n",
       "2015-04-01           68           91.0  \n",
       "2015-05-01           73           91.0  "
      ]
     },
     "execution_count": 42,
     "metadata": {},
     "output_type": "execute_result"
    }
   ],
   "source": [
    "data =pd.read_csv(\"Data/Anuradapura_demand.csv\",index_col=\"Month\",parse_dates=[\"Month\"])\n",
    "data.head()"
   ]
  },
  {
   "cell_type": "code",
   "execution_count": 43,
   "id": "ef4abdbc",
   "metadata": {},
   "outputs": [
    {
     "data": {
      "text/plain": [
       "(84, 7)"
      ]
     },
     "execution_count": 43,
     "metadata": {},
     "output_type": "execute_result"
    }
   ],
   "source": [
    "data.shape"
   ]
  },
  {
   "cell_type": "code",
   "execution_count": 44,
   "id": "b9fe05d2",
   "metadata": {},
   "outputs": [
    {
     "data": {
      "text/html": [
       "<div>\n",
       "<style scoped>\n",
       "    .dataframe tbody tr th:only-of-type {\n",
       "        vertical-align: middle;\n",
       "    }\n",
       "\n",
       "    .dataframe tbody tr th {\n",
       "        vertical-align: top;\n",
       "    }\n",
       "\n",
       "    .dataframe thead th {\n",
       "        text-align: right;\n",
       "    }\n",
       "</style>\n",
       "<table border=\"1\" class=\"dataframe\">\n",
       "  <thead>\n",
       "    <tr style=\"text-align: right;\">\n",
       "      <th></th>\n",
       "      <th>Demand</th>\n",
       "      <th>Temp_Avg</th>\n",
       "      <th>Temp_Max</th>\n",
       "      <th>Temp_Min</th>\n",
       "      <th>Rainfall_Avg</th>\n",
       "      <th>HumidityDay</th>\n",
       "      <th>HumidityNight</th>\n",
       "    </tr>\n",
       "  </thead>\n",
       "  <tbody>\n",
       "    <tr>\n",
       "      <th>count</th>\n",
       "      <td>84.000000</td>\n",
       "      <td>84.000000</td>\n",
       "      <td>84.000000</td>\n",
       "      <td>84.000000</td>\n",
       "      <td>84.000000</td>\n",
       "      <td>84.000000</td>\n",
       "      <td>83.000000</td>\n",
       "    </tr>\n",
       "    <tr>\n",
       "      <th>mean</th>\n",
       "      <td>18.291453</td>\n",
       "      <td>28.398810</td>\n",
       "      <td>32.642857</td>\n",
       "      <td>24.151190</td>\n",
       "      <td>114.367857</td>\n",
       "      <td>69.238095</td>\n",
       "      <td>90.397590</td>\n",
       "    </tr>\n",
       "    <tr>\n",
       "      <th>std</th>\n",
       "      <td>3.224086</td>\n",
       "      <td>1.349296</td>\n",
       "      <td>1.755356</td>\n",
       "      <td>1.193203</td>\n",
       "      <td>117.104345</td>\n",
       "      <td>6.399584</td>\n",
       "      <td>3.083946</td>\n",
       "    </tr>\n",
       "    <tr>\n",
       "      <th>min</th>\n",
       "      <td>8.302096</td>\n",
       "      <td>25.600000</td>\n",
       "      <td>28.600000</td>\n",
       "      <td>20.900000</td>\n",
       "      <td>0.000000</td>\n",
       "      <td>57.000000</td>\n",
       "      <td>83.000000</td>\n",
       "    </tr>\n",
       "    <tr>\n",
       "      <th>25%</th>\n",
       "      <td>16.197128</td>\n",
       "      <td>27.150000</td>\n",
       "      <td>31.275000</td>\n",
       "      <td>23.475000</td>\n",
       "      <td>18.500000</td>\n",
       "      <td>65.000000</td>\n",
       "      <td>88.000000</td>\n",
       "    </tr>\n",
       "    <tr>\n",
       "      <th>50%</th>\n",
       "      <td>18.773882</td>\n",
       "      <td>28.800000</td>\n",
       "      <td>33.000000</td>\n",
       "      <td>24.350000</td>\n",
       "      <td>73.950000</td>\n",
       "      <td>68.500000</td>\n",
       "      <td>91.000000</td>\n",
       "    </tr>\n",
       "    <tr>\n",
       "      <th>75%</th>\n",
       "      <td>20.547705</td>\n",
       "      <td>29.400000</td>\n",
       "      <td>33.925000</td>\n",
       "      <td>25.100000</td>\n",
       "      <td>170.975000</td>\n",
       "      <td>73.250000</td>\n",
       "      <td>92.000000</td>\n",
       "    </tr>\n",
       "    <tr>\n",
       "      <th>max</th>\n",
       "      <td>30.408826</td>\n",
       "      <td>31.100000</td>\n",
       "      <td>36.400000</td>\n",
       "      <td>25.900000</td>\n",
       "      <td>463.100000</td>\n",
       "      <td>84.000000</td>\n",
       "      <td>96.000000</td>\n",
       "    </tr>\n",
       "  </tbody>\n",
       "</table>\n",
       "</div>"
      ],
      "text/plain": [
       "          Demand   Temp_Avg   Temp_Max   Temp_Min  Rainfall_Avg  HumidityDay  \\\n",
       "count  84.000000  84.000000  84.000000  84.000000     84.000000    84.000000   \n",
       "mean   18.291453  28.398810  32.642857  24.151190    114.367857    69.238095   \n",
       "std     3.224086   1.349296   1.755356   1.193203    117.104345     6.399584   \n",
       "min     8.302096  25.600000  28.600000  20.900000      0.000000    57.000000   \n",
       "25%    16.197128  27.150000  31.275000  23.475000     18.500000    65.000000   \n",
       "50%    18.773882  28.800000  33.000000  24.350000     73.950000    68.500000   \n",
       "75%    20.547705  29.400000  33.925000  25.100000    170.975000    73.250000   \n",
       "max    30.408826  31.100000  36.400000  25.900000    463.100000    84.000000   \n",
       "\n",
       "       HumidityNight  \n",
       "count      83.000000  \n",
       "mean       90.397590  \n",
       "std         3.083946  \n",
       "min        83.000000  \n",
       "25%        88.000000  \n",
       "50%        91.000000  \n",
       "75%        92.000000  \n",
       "max        96.000000  "
      ]
     },
     "execution_count": 44,
     "metadata": {},
     "output_type": "execute_result"
    }
   ],
   "source": [
    "data.describe(include='all')"
   ]
  },
  {
   "cell_type": "code",
   "execution_count": 45,
   "id": "e4216082",
   "metadata": {},
   "outputs": [
    {
     "data": {
      "text/plain": [
       "Demand           0\n",
       "Temp_Avg         0\n",
       "Temp_Max         0\n",
       "Temp_Min         0\n",
       "Rainfall_Avg     0\n",
       "HumidityDay      0\n",
       "HumidityNight    1\n",
       "dtype: int64"
      ]
     },
     "execution_count": 45,
     "metadata": {},
     "output_type": "execute_result"
    }
   ],
   "source": [
    "data.isnull().sum()"
   ]
  },
  {
   "cell_type": "code",
   "execution_count": 46,
   "id": "c6cde3c1",
   "metadata": {},
   "outputs": [
    {
     "data": {
      "text/plain": [
       "Demand           0\n",
       "Temp_Avg         0\n",
       "Temp_Max         0\n",
       "Temp_Min         0\n",
       "Rainfall_Avg     0\n",
       "HumidityDay      0\n",
       "HumidityNight    1\n",
       "dtype: int64"
      ]
     },
     "execution_count": 46,
     "metadata": {},
     "output_type": "execute_result"
    }
   ],
   "source": [
    "sample_data= data.copy()\n",
    "sample_data.isnull().sum()"
   ]
  },
  {
   "cell_type": "code",
   "execution_count": 47,
   "id": "b9e0f0ec",
   "metadata": {},
   "outputs": [],
   "source": [
    "imputer = SimpleImputer(missing_values=np.NaN, strategy='mean') \n",
    "sample_data.HumidityNight = imputer.fit_transform(sample_data['HumidityNight'].values.reshape(-1,1))[:,0]"
   ]
  },
  {
   "cell_type": "code",
   "execution_count": 48,
   "id": "d9e25cc3",
   "metadata": {},
   "outputs": [
    {
     "data": {
      "text/plain": [
       "Demand           0\n",
       "Temp_Avg         0\n",
       "Temp_Max         0\n",
       "Temp_Min         0\n",
       "Rainfall_Avg     0\n",
       "HumidityDay      0\n",
       "HumidityNight    0\n",
       "dtype: int64"
      ]
     },
     "execution_count": 48,
     "metadata": {},
     "output_type": "execute_result"
    }
   ],
   "source": [
    "sample_data.isnull().sum()"
   ]
  },
  {
   "cell_type": "code",
   "execution_count": 49,
   "id": "3f690d3f",
   "metadata": {},
   "outputs": [
    {
     "data": {
      "image/png": "[encoded data removed]",
      "text/plain": [
       "<Figure size 1000x600 with 7 Axes>"
      ]
     },
     "metadata": {},
     "output_type": "display_data"
    }
   ],
   "source": [
    "no_cols =len(sample_data.columns)\n",
    "index=1\n",
    "plt.figure(figsize=(10,6))\n",
    "for column in sample_data.columns:\n",
    "    plt.subplot(no_cols,1,index)\n",
    "    plt.plot(sample_data[column],linewidth=2)\n",
    "    plt.title(column,loc='right',y=0.5)\n",
    "    index+=1\n",
    "    \n",
    "plt.show()   \n"
   ]
  },
  {
   "cell_type": "code",
   "execution_count": 50,
   "id": "f21a75d7",
   "metadata": {},
   "outputs": [],
   "source": [
    "df_input=sample_data[['Demand','Temp_Avg','Rainfall_Avg','HumidityDay','HumidityNight']]"
   ]
  },
  {
   "cell_type": "code",
   "execution_count": 10,
   "id": "aa71efbb",
   "metadata": {},
   "outputs": [
    {
     "data": {
      "text/html": [
       "<div>\n",
       "<style scoped>\n",
       "    .dataframe tbody tr th:only-of-type {\n",
       "        vertical-align: middle;\n",
       "    }\n",
       "\n",
       "    .dataframe tbody tr th {\n",
       "        vertical-align: top;\n",
       "    }\n",
       "\n",
       "    .dataframe thead th {\n",
       "        text-align: right;\n",
       "    }\n",
       "</style>\n",
       "<table border=\"1\" class=\"dataframe\">\n",
       "  <thead>\n",
       "    <tr style=\"text-align: right;\">\n",
       "      <th></th>\n",
       "      <th>Demand</th>\n",
       "      <th>Temp_Avg</th>\n",
       "      <th>Rainfall_Avg</th>\n",
       "      <th>HumidityDay</th>\n",
       "      <th>HumidityNight</th>\n",
       "    </tr>\n",
       "  </thead>\n",
       "  <tbody>\n",
       "    <tr>\n",
       "      <th>count</th>\n",
       "      <td>84.000000</td>\n",
       "      <td>84.000000</td>\n",
       "      <td>84.000000</td>\n",
       "      <td>84.000000</td>\n",
       "      <td>84.000000</td>\n",
       "    </tr>\n",
       "    <tr>\n",
       "      <th>mean</th>\n",
       "      <td>18.291453</td>\n",
       "      <td>28.398810</td>\n",
       "      <td>114.367857</td>\n",
       "      <td>69.238095</td>\n",
       "      <td>90.397590</td>\n",
       "    </tr>\n",
       "    <tr>\n",
       "      <th>std</th>\n",
       "      <td>3.224086</td>\n",
       "      <td>1.349296</td>\n",
       "      <td>117.104345</td>\n",
       "      <td>6.399584</td>\n",
       "      <td>3.065312</td>\n",
       "    </tr>\n",
       "    <tr>\n",
       "      <th>min</th>\n",
       "      <td>8.302096</td>\n",
       "      <td>25.600000</td>\n",
       "      <td>0.000000</td>\n",
       "      <td>57.000000</td>\n",
       "      <td>83.000000</td>\n",
       "    </tr>\n",
       "    <tr>\n",
       "      <th>25%</th>\n",
       "      <td>16.197128</td>\n",
       "      <td>27.150000</td>\n",
       "      <td>18.500000</td>\n",
       "      <td>65.000000</td>\n",
       "      <td>88.000000</td>\n",
       "    </tr>\n",
       "    <tr>\n",
       "      <th>50%</th>\n",
       "      <td>18.773882</td>\n",
       "      <td>28.800000</td>\n",
       "      <td>73.950000</td>\n",
       "      <td>68.500000</td>\n",
       "      <td>91.000000</td>\n",
       "    </tr>\n",
       "    <tr>\n",
       "      <th>75%</th>\n",
       "      <td>20.547705</td>\n",
       "      <td>29.400000</td>\n",
       "      <td>170.975000</td>\n",
       "      <td>73.250000</td>\n",
       "      <td>92.000000</td>\n",
       "    </tr>\n",
       "    <tr>\n",
       "      <th>max</th>\n",
       "      <td>30.408826</td>\n",
       "      <td>31.100000</td>\n",
       "      <td>463.100000</td>\n",
       "      <td>84.000000</td>\n",
       "      <td>96.000000</td>\n",
       "    </tr>\n",
       "  </tbody>\n",
       "</table>\n",
       "</div>"
      ],
      "text/plain": [
       "          Demand   Temp_Avg  Rainfall_Avg  HumidityDay  HumidityNight\n",
       "count  84.000000  84.000000     84.000000    84.000000      84.000000\n",
       "mean   18.291453  28.398810    114.367857    69.238095      90.397590\n",
       "std     3.224086   1.349296    117.104345     6.399584       3.065312\n",
       "min     8.302096  25.600000      0.000000    57.000000      83.000000\n",
       "25%    16.197128  27.150000     18.500000    65.000000      88.000000\n",
       "50%    18.773882  28.800000     73.950000    68.500000      91.000000\n",
       "75%    20.547705  29.400000    170.975000    73.250000      92.000000\n",
       "max    30.408826  31.100000    463.100000    84.000000      96.000000"
      ]
     },
     "execution_count": 10,
     "metadata": {},
     "output_type": "execute_result"
    }
   ],
   "source": [
    "df_input.describe()"
   ]
  },
  {
   "cell_type": "code",
   "execution_count": 11,
   "id": "f58f590c",
   "metadata": {},
   "outputs": [],
   "source": [
    "features_1=sample_data[['Demand','Temp_Avg','Rainfall_Avg','HumidityDay','HumidityNight']].to_numpy().tolist()\n",
    "\n",
    "target_1=sample_data['Demand'].tolist()"
   ]
  },
  {
   "cell_type": "code",
   "execution_count": 12,
   "id": "6f4db80e",
   "metadata": {},
   "outputs": [],
   "source": [
    "ts_generator=TimeseriesGenerator(features_1,target_1,length=6,sampling_rate=1,batch_size=1)\n"
   ]
  },
  {
   "cell_type": "code",
   "execution_count": 13,
   "id": "b5b32fc2",
   "metadata": {},
   "outputs": [
    {
     "data": {
      "text/plain": [
       "(array([[[ 13.355776,  26.7     ,  15.8     ,  69.      ,  92.      ],\n",
       "         [ 12.717279,  26.8     , 129.8     ,  71.      ,  92.      ],\n",
       "         [ 13.780719,  28.7     ,  26.      ,  64.      ,  89.      ],\n",
       "         [ 14.926229,  29.2     , 288.2     ,  68.      ,  91.      ],\n",
       "         [ 15.463069,  29.3     , 264.7     ,  73.      ,  91.      ],\n",
       "         [ 15.668344,  29.4     ,  10.1     ,  68.      ,  88.      ]]]),\n",
       " array([16.077157]))"
      ]
     },
     "execution_count": 13,
     "metadata": {},
     "output_type": "execute_result"
    }
   ],
   "source": [
    "ts_generator[0]"
   ]
  },
  {
   "cell_type": "code",
   "execution_count": 51,
   "id": "b44a6b80",
   "metadata": {},
   "outputs": [
    {
     "name": "stdout",
     "output_type": "stream",
     "text": [
      "[[-1.54007105e+00 -1.26659538e+00 -8.46765011e-01 -3.74282533e-02\n",
      "   5.25895475e-01]\n",
      " [-1.73930021e+00 -1.19203755e+00  1.32572615e-01  2.76969074e-01\n",
      "   5.25895475e-01]\n",
      " [-1.40747679e+00  2.24561058e-01 -7.59140066e-01 -8.23421573e-01\n",
      "  -4.58675753e-01]\n",
      " [-1.05004521e+00  5.97350167e-01  1.49333648e+00 -1.94626917e-01\n",
      "   1.97705066e-01]\n",
      " [-8.82535913e-01  6.71907989e-01  1.29145547e+00  5.91366402e-01\n",
      "   1.97705066e-01]\n",
      " [-8.18484295e-01  7.46465811e-01 -8.95731893e-01 -1.94626917e-01\n",
      "  -7.86866162e-01]\n",
      " [-6.90923053e-01  9.70139276e-01 -9.82497770e-01 -8.23421573e-01\n",
      "  -2.09962780e+00]\n",
      " [-6.59910556e-01  1.04469710e+00  5.65542935e-01 -1.13781890e+00\n",
      "  -1.11505657e+00]\n",
      " [-7.50160073e-01  5.22792345e-01  2.75177919e-01 -3.51825581e-01\n",
      "  -1.30485344e-01]\n",
      " [-7.68019327e-01 -2.97343694e-01  2.21667181e+00  1.06296239e+00\n",
      "   8.54085885e-01]\n",
      " [-9.22143854e-01 -8.93806268e-01  2.89533560e+00  2.00615438e+00\n",
      "   1.51046670e+00]\n",
      " [-9.80022615e-01 -1.04292191e+00  1.47787325e+00  1.53455839e+00\n",
      "   1.18227629e+00]\n",
      " [-1.01503656e+00 -1.34115320e+00 -7.08455048e-01  4.34167738e-01\n",
      "   1.97705066e-01]\n",
      " [-9.11408831e-01 -4.46459337e-01 -7.37663363e-01 -1.94626917e-01\n",
      "   1.97705066e-01]\n",
      " [-6.98639826e-01  1.34292838e+00 -9.04322573e-01 -1.76661356e+00\n",
      "  -7.86866162e-01]\n",
      " [-2.63408754e-03  2.01394878e+00 -2.30107525e-03 -1.29501756e+00\n",
      "  -7.86866162e-01]\n",
      " [-3.76197538e-01  5.22792345e-01  2.99584657e+00  7.48565066e-01\n",
      "   5.25895475e-01]\n",
      " [-2.56775555e-01  5.22792345e-01 -9.21503935e-01 -3.74282533e-02\n",
      "  -1.11505657e+00]\n",
      " [-4.86401892e-01  6.71907989e-01 -8.61369169e-01 -6.66222909e-01\n",
      "  -1.44324698e+00]\n",
      " [-2.37546619e-02  7.46465811e-01 -9.82497770e-01 -1.29501756e+00\n",
      "  -2.09962780e+00]\n",
      " [ 1.86181628e-02  9.70139276e-01 -9.82497770e-01 -1.76661356e+00\n",
      "  -2.42781821e+00]\n",
      " [-2.77330422e-01  6.71907989e-01  1.74666952e-01 -1.29501756e+00\n",
      "  -1.11505657e+00]\n",
      " [-8.27425779e-01 -8.93806268e-01  4.42696197e-01  1.22016106e+00\n",
      "   8.54085885e-01]\n",
      " [-4.08972995e-01 -1.34115320e+00 -4.14653760e-01  2.76969074e-01\n",
      "   8.54085885e-01]\n",
      " [-5.50932161e-01 -2.08673142e+00 -3.33901359e-01  1.19770411e-01\n",
      "   5.25895475e-01]\n",
      " [-6.51348186e-01 -1.63938449e+00 -6.43165873e-01 -6.66222909e-01\n",
      "   5.25895475e-01]\n",
      " [-1.44114153e+00  1.50003237e-01  2.32224514e-01 -5.09024245e-01\n",
      "   1.97705066e-01]\n",
      " [ 2.68531334e-01  1.41748621e+00  1.40212185e-02 -1.13781890e+00\n",
      "  -1.30485344e-01]\n",
      " [ 7.81896587e-01  8.21023632e-01  9.42673828e-01 -3.74282533e-02\n",
      "  -1.30485344e-01]\n",
      " [ 3.61282383e-01  9.70139276e-01 -9.08617914e-01 -6.66222909e-01\n",
      "  -7.86866162e-01]\n",
      " [ 2.86274514e-01  1.56660185e+00 -8.85423075e-01 -1.29501756e+00\n",
      "  -1.77143739e+00]\n",
      " [ 3.01983269e-01  8.95581454e-01  4.32295337e-02 -3.51825581e-01\n",
      "  -1.11505657e+00]\n",
      " [-3.10701186e+00 -7.36702286e-02 -2.29187095e-02  4.34167738e-01\n",
      "   5.25895475e-01]\n",
      " [ 2.48528757e-01  2.24561058e-01  8.51612610e-01  2.76969074e-01\n",
      "   5.25895475e-01]\n",
      " [ 7.25929936e-01 -1.04292191e+00  1.52855827e+00  1.69175705e+00\n",
      "   1.51046670e+00]\n",
      " [ 6.64630285e-02 -1.34115320e+00 -3.46787381e-01  9.05763730e-01\n",
      "   1.18227629e+00]\n",
      " [-4.08150800e-01 -2.01217359e+00 -8.15838560e-01 -3.74282533e-02\n",
      "   5.25895475e-01]\n",
      " [ 6.62853094e-01 -1.11747973e+00 -6.59488167e-01 -6.66222909e-01\n",
      "   5.25895475e-01]\n",
      " [ 8.45703263e-01  1.50003237e-01 -4.74788527e-01 -6.66222909e-01\n",
      "   1.97705066e-01]\n",
      " [ 1.12339757e+00  8.21023632e-01  2.76036987e-01 -5.09024245e-01\n",
      "   5.25895475e-01]\n",
      " [-3.11696244e+00  8.87593116e-04  9.47828236e-01  9.05763730e-01\n",
      "   8.54085885e-01]\n",
      " [-6.72781101e-01  2.24561058e-01 -9.62739204e-01  2.76969074e-01\n",
      "  -4.58675753e-01]\n",
      " [ 6.96709730e-01  5.22792345e-01 -9.82497770e-01 -6.66222909e-01\n",
      "  -1.77143739e+00]\n",
      " [ 3.92995695e-01  4.48234524e-01 -7.91784653e-01 -6.66222909e-01\n",
      "  -1.77143739e+00]\n",
      " [ 2.59672226e-01  8.95581454e-01 -4.98842433e-01 -1.45221623e+00\n",
      "  -4.58675753e-01]\n",
      " [ 1.49262245e-01 -8.19248446e-01  1.30348243e+00  1.53455839e+00\n",
      "   1.51046670e+00]\n",
      " [ 6.99770917e-02 -1.11747973e+00 -7.87489313e-01  1.69175705e+00\n",
      "   1.51046670e+00]\n",
      " [-3.04412922e-01 -1.26659538e+00 -6.02789673e-01  1.22016106e+00\n",
      "   8.54085885e-01]\n",
      " [-4.12290168e-01 -1.86305795e+00 -9.82497770e-01  2.76969074e-01\n",
      "   5.25895475e-01]\n",
      " [-1.09595219e-01 -4.46459337e-01 -2.30813188e-01  2.76969074e-01\n",
      "   5.25895475e-01]\n",
      " [ 4.05592280e-01  9.70139276e-01 -9.82497770e-01 -1.92381222e+00\n",
      "  -1.11505657e+00]\n",
      " [ 6.11123164e-01  1.34292838e+00  5.29462075e-01 -1.13781890e+00\n",
      "  -7.86866162e-01]\n",
      " [ 8.85890017e-01  1.56660185e+00 -9.48994114e-01 -9.80620237e-01\n",
      "  -7.86866162e-01]\n",
      " [ 7.69692535e-01  1.26837056e+00 -9.80779634e-01 -8.23421573e-01\n",
      "  -1.11505657e+00]\n",
      " [ 7.56699362e-01  1.11925492e+00 -9.69611749e-01 -1.45221623e+00\n",
      "  -1.77143739e+00]\n",
      " [ 6.90412686e-01  4.48234524e-01 -1.55215196e-01 -1.94626917e-01\n",
      "  -4.58675753e-01]\n",
      " [ 6.04495058e-01  4.48234524e-01 -3.47646449e-01 -3.74282533e-02\n",
      "  -4.58675753e-01]\n",
      " [ 2.21719282e-01 -8.19248446e-01  1.22874350e+00  1.22016106e+00\n",
      "   1.51046670e+00]\n",
      " [ 1.40126991e-01 -4.46459337e-01  2.00276386e+00  1.37735972e+00\n",
      "   1.51046670e+00]\n",
      " [-9.64735912e-04 -1.56482666e+00  1.53714895e+00  1.84895571e+00\n",
      "   1.51046670e+00]\n",
      " [ 1.19339039e-01 -1.19203755e+00 -8.84564007e-01  2.76969074e-01\n",
      "   5.25895475e-01]\n",
      " [ 2.22288422e-01 -6.70132803e-01 -6.76669529e-01 -5.09024245e-01\n",
      "   0.00000000e+00]\n",
      " [-2.88101753e+00  7.46465811e-01 -8.64805441e-01 -1.60941489e+00\n",
      "  -7.86866162e-01]\n",
      " [ 1.51800908e-01  1.41748621e+00  2.57996557e-01 -9.80620237e-01\n",
      "  -1.30485344e-01]\n",
      " [ 3.78096386e+00  8.21023632e-01  7.87182503e-01  5.91366402e-01\n",
      "   1.97705066e-01]\n",
      " [ 5.80324406e-01  6.71907989e-01 -8.65664509e-01 -3.74282533e-02\n",
      "  -7.86866162e-01]\n",
      " [ 7.54158516e-01  1.50003237e-01  4.71904512e-01  4.34167738e-01\n",
      "  -4.58675753e-01]\n",
      " [ 8.41991374e-01  3.73676702e-01 -6.47461213e-01 -5.09024245e-01\n",
      "  -4.58675753e-01]\n",
      " [ 9.61515702e-01 -2.22785872e-01 -5.90762719e-01  2.76969074e-01\n",
      "  -1.30485344e-01]\n",
      " [ 7.36173202e-01  4.48234524e-01 -6.44884009e-01 -8.23421573e-01\n",
      "  -1.30485344e-01]\n",
      " [ 4.69087239e-01 -5.95574981e-01  1.60329719e+00  1.53455839e+00\n",
      "   1.51046670e+00]\n",
      " [ 5.80970929e-01 -1.93761577e+00  8.03504796e-01  2.32055170e+00\n",
      "   1.83865711e+00]\n",
      " [ 3.22400843e-01 -1.56482666e+00  4.63313831e-01  1.53455839e+00\n",
      "   1.18227629e+00]\n",
      " [ 7.88012532e-02 -1.11747973e+00 -8.12402287e-01 -3.74282533e-02\n",
      "   5.25895475e-01]\n",
      " [ 7.32420125e-01  8.87593116e-04 -6.34575192e-01 -3.51825581e-01\n",
      "   1.97705066e-01]\n",
      " [ 1.26345898e+00  8.21023632e-01  1.42881433e-01 -3.51825581e-01\n",
      "   1.97705066e-01]\n",
      " [ 1.02747412e+00  3.73676702e-01 -2.04182077e-01  7.48565066e-01\n",
      "   5.25895475e-01]\n",
      " [ 8.06174576e-01  5.22792345e-01 -9.56725727e-01 -1.94626917e-01\n",
      "  -4.58675753e-01]\n",
      " [ 1.18673058e+00  5.22792345e-01 -3.63109675e-01 -1.94626917e-01\n",
      "  -7.86866162e-01]\n",
      " [ 7.63934676e-01  4.48234524e-01 -7.01674546e-02 -5.09024245e-01\n",
      "  -1.11505657e+00]\n",
      " [ 1.04275602e+00  5.97350167e-01  1.56626522e-01 -3.51825581e-01\n",
      "  -4.58675753e-01]\n",
      " [ 9.12022702e-01 -3.71901516e-01  1.39282551e+00  1.22016106e+00\n",
      "   8.54085885e-01]\n",
      " [ 6.53322189e-01 -1.11747973e+00  2.57060786e+00  2.00615438e+00\n",
      "   1.51046670e+00]\n",
      " [ 8.16339836e-01 -1.26659538e+00 -5.18600999e-01  1.06296239e+00\n",
      "   1.18227629e+00]]\n"
     ]
    }
   ],
   "source": [
    "scaler =StandardScaler()\n",
    "scaled_data=scaler.fit_transform(df_input)\n",
    "print(scaled_data)"
   ]
  },
  {
   "cell_type": "code",
   "execution_count": 49,
   "id": "30cf6434",
   "metadata": {
    "scrolled": true
   },
   "outputs": [
    {
     "data": {
      "text/plain": [
       "<Axes: >"
      ]
     },
     "execution_count": 49,
     "metadata": {},
     "output_type": "execute_result"
    },
    {
     "data": {
      "image/png": "[encoded data removed]",
      "text/plain": [
       "<Figure size 640x480 with 2 Axes>"
      ]
     },
     "metadata": {},
     "output_type": "display_data"
    }
   ],
   "source": [
    "sns.heatmap(df_input.corr(),annot=True)"
   ]
  },
  {
   "cell_type": "code",
   "execution_count": 52,
   "id": "33e33399",
   "metadata": {},
   "outputs": [],
   "source": [
    "features=scaled_data\n",
    "target=scaled_data[:,0]"
   ]
  },
  {
   "cell_type": "code",
   "execution_count": 53,
   "id": "4471ec33",
   "metadata": {},
   "outputs": [
    {
     "data": {
      "text/plain": [
       "(array([[[-1.54007105, -1.26659538, -0.84676501, -0.03742825,\n",
       "           0.52589548],\n",
       "         [-1.73930021, -1.19203755,  0.13257262,  0.27696907,\n",
       "           0.52589548],\n",
       "         [-1.40747679,  0.22456106, -0.75914007, -0.82342157,\n",
       "          -0.45867575],\n",
       "         [-1.05004521,  0.59735017,  1.49333648, -0.19462692,\n",
       "           0.19770507],\n",
       "         [-0.88253591,  0.67190799,  1.29145547,  0.5913664 ,\n",
       "           0.19770507],\n",
       "         [-0.81848429,  0.74646581, -0.89573189, -0.19462692,\n",
       "          -0.78686616]]]),\n",
       " array([-0.69092305]))"
      ]
     },
     "execution_count": 53,
     "metadata": {},
     "output_type": "execute_result"
    }
   ],
   "source": [
    "TimeseriesGenerator(features,target,length=6,sampling_rate=1,batch_size=1)[0]"
   ]
  },
  {
   "cell_type": "code",
   "execution_count": 54,
   "id": "62e099b4",
   "metadata": {},
   "outputs": [],
   "source": [
    "X_train,X_test,y_train,y_test =train_test_split(features,target,test_size=0.20,random_state=123,shuffle=False)\n"
   ]
  },
  {
   "cell_type": "code",
   "execution_count": 55,
   "id": "4f578ddd",
   "metadata": {},
   "outputs": [
    {
     "data": {
      "text/plain": [
       "(67, 5)"
      ]
     },
     "execution_count": 55,
     "metadata": {},
     "output_type": "execute_result"
    }
   ],
   "source": [
    "X_train.shape"
   ]
  },
  {
   "cell_type": "code",
   "execution_count": 56,
   "id": "a4d4c4db",
   "metadata": {},
   "outputs": [
    {
     "data": {
      "text/plain": [
       "(17, 5)"
      ]
     },
     "execution_count": 56,
     "metadata": {},
     "output_type": "execute_result"
    }
   ],
   "source": [
    "X_test.shape"
   ]
  },
  {
   "cell_type": "code",
   "execution_count": 57,
   "id": "f57d0002",
   "metadata": {},
   "outputs": [],
   "source": [
    "train_generator=TimeseriesGenerator(X_train,y_train,length=6,sampling_rate=1,batch_size=10)\n",
    "test_generator=TimeseriesGenerator(X_test,y_test,length=6,sampling_rate=1,batch_size=10)"
   ]
  },
  {
   "cell_type": "code",
   "execution_count": 56,
   "id": "abdc90db",
   "metadata": {},
   "outputs": [
    {
     "data": {
      "text/plain": [
       "(array([[[0.22860369, 0.2       , 0.0341179 , 0.44444444, 0.69230769],\n",
       "         [0.19972122, 0.21818182, 0.28028504, 0.51851852, 0.69230769],\n",
       "         [0.24782602, 0.56363636, 0.05614338, 0.25925926, 0.46153846],\n",
       "         [0.29964328, 0.65454545, 0.62232779, 0.40740741, 0.61538462],\n",
       "         [0.32392728, 0.67272727, 0.57158281, 0.59259259, 0.61538462],\n",
       "         [0.33321292, 0.69090909, 0.02180954, 0.40740741, 0.38461538]],\n",
       " \n",
       "        [[0.19972122, 0.21818182, 0.28028504, 0.51851852, 0.69230769],\n",
       "         [0.24782602, 0.56363636, 0.05614338, 0.25925926, 0.46153846],\n",
       "         [0.29964328, 0.65454545, 0.62232779, 0.40740741, 0.61538462],\n",
       "         [0.32392728, 0.67272727, 0.57158281, 0.59259259, 0.61538462],\n",
       "         [0.33321292, 0.69090909, 0.02180954, 0.40740741, 0.38461538],\n",
       "         [0.35170561, 0.74545455, 0.        , 0.25925926, 0.07692308]],\n",
       " \n",
       "        [[0.24782602, 0.56363636, 0.05614338, 0.25925926, 0.46153846],\n",
       "         [0.29964328, 0.65454545, 0.62232779, 0.40740741, 0.61538462],\n",
       "         [0.32392728, 0.67272727, 0.57158281, 0.59259259, 0.61538462],\n",
       "         [0.33321292, 0.69090909, 0.02180954, 0.40740741, 0.38461538],\n",
       "         [0.35170561, 0.74545455, 0.        , 0.25925926, 0.07692308],\n",
       "         [0.35620153, 0.76363636, 0.38911682, 0.18518519, 0.30769231]],\n",
       " \n",
       "        [[0.29964328, 0.65454545, 0.62232779, 0.40740741, 0.61538462],\n",
       "         [0.32392728, 0.67272727, 0.57158281, 0.59259259, 0.61538462],\n",
       "         [0.33321292, 0.69090909, 0.02180954, 0.40740741, 0.38461538],\n",
       "         [0.35170561, 0.74545455, 0.        , 0.25925926, 0.07692308],\n",
       "         [0.35620153, 0.76363636, 0.38911682, 0.18518519, 0.30769231],\n",
       "         [0.34311796, 0.63636364, 0.31613043, 0.37037037, 0.53846154]],\n",
       " \n",
       "        [[0.32392728, 0.67272727, 0.57158281, 0.59259259, 0.61538462],\n",
       "         [0.33321292, 0.69090909, 0.02180954, 0.40740741, 0.38461538],\n",
       "         [0.35170561, 0.74545455, 0.        , 0.25925926, 0.07692308],\n",
       "         [0.35620153, 0.76363636, 0.38911682, 0.18518519, 0.30769231],\n",
       "         [0.34311796, 0.63636364, 0.31613043, 0.37037037, 0.53846154],\n",
       "         [0.34052888, 0.43636364, 0.80414597, 0.7037037 , 0.76923077]],\n",
       " \n",
       "        [[0.33321292, 0.69090909, 0.02180954, 0.40740741, 0.38461538],\n",
       "         [0.35170561, 0.74545455, 0.        , 0.25925926, 0.07692308],\n",
       "         [0.35620153, 0.76363636, 0.38911682, 0.18518519, 0.30769231],\n",
       "         [0.34311796, 0.63636364, 0.31613043, 0.37037037, 0.53846154],\n",
       "         [0.34052888, 0.43636364, 0.80414597, 0.7037037 , 0.76923077],\n",
       "         [0.31818528, 0.29090909, 0.97473548, 0.92592593, 0.92307692]],\n",
       " \n",
       "        [[0.35170561, 0.74545455, 0.        , 0.25925926, 0.07692308],\n",
       "         [0.35620153, 0.76363636, 0.38911682, 0.18518519, 0.30769231],\n",
       "         [0.34311796, 0.63636364, 0.31613043, 0.37037037, 0.53846154],\n",
       "         [0.34052888, 0.43636364, 0.80414597, 0.7037037 , 0.76923077],\n",
       "         [0.31818528, 0.29090909, 0.97473548, 0.92592593, 0.92307692],\n",
       "         [0.30979453, 0.25454545, 0.61844094, 0.81481481, 0.84615385]],\n",
       " \n",
       "        [[0.35620153, 0.76363636, 0.38911682, 0.18518519, 0.30769231],\n",
       "         [0.34311796, 0.63636364, 0.31613043, 0.37037037, 0.53846154],\n",
       "         [0.34052888, 0.43636364, 0.80414597, 0.7037037 , 0.76923077],\n",
       "         [0.31818528, 0.29090909, 0.97473548, 0.92592593, 0.92307692],\n",
       "         [0.30979453, 0.25454545, 0.61844094, 0.81481481, 0.84615385],\n",
       "         [0.30471852, 0.18181818, 0.06888361, 0.55555556, 0.61538462]],\n",
       " \n",
       "        [[0.34311796, 0.63636364, 0.31613043, 0.37037037, 0.53846154],\n",
       "         [0.34052888, 0.43636364, 0.80414597, 0.7037037 , 0.76923077],\n",
       "         [0.31818528, 0.29090909, 0.97473548, 0.92592593, 0.92307692],\n",
       "         [0.30979453, 0.25454545, 0.61844094, 0.81481481, 0.84615385],\n",
       "         [0.30471852, 0.18181818, 0.06888361, 0.55555556, 0.61538462],\n",
       "         [0.31974154, 0.4       , 0.06154178, 0.40740741, 0.61538462]],\n",
       " \n",
       "        [[0.34052888, 0.43636364, 0.80414597, 0.7037037 , 0.76923077],\n",
       "         [0.31818528, 0.29090909, 0.97473548, 0.92592593, 0.92307692],\n",
       "         [0.30979453, 0.25454545, 0.61844094, 0.81481481, 0.84615385],\n",
       "         [0.30471852, 0.18181818, 0.06888361, 0.55555556, 0.61538462],\n",
       "         [0.31974154, 0.4       , 0.06154178, 0.40740741, 0.61538462],\n",
       "         [0.3505869 , 0.83636364, 0.01965018, 0.03703704, 0.38461538]]]),\n",
       " array([0.35170561, 0.35620153, 0.34311796, 0.34052888, 0.31818528,\n",
       "        0.30979453, 0.30471852, 0.31974154, 0.3505869 , 0.45148762]))"
      ]
     },
     "execution_count": 56,
     "metadata": {},
     "output_type": "execute_result"
    }
   ],
   "source": [
    "train_generator[0]"
   ]
  },
  {
   "cell_type": "code",
   "execution_count": 58,
   "id": "0d64e943",
   "metadata": {},
   "outputs": [],
   "source": [
    "#difine model architecture\n",
    "model=keras.Sequential()\n",
    "model.add(keras.layers.LSTM(128,input_shape=(6,5),return_sequences=True))\n",
    "model.add(keras.layers.LeakyReLU(alpha=0.5)) #activation functon\n",
    "model.add(keras.layers.LSTM(128,return_sequences=True))\n",
    "model.add(keras.layers.LeakyReLU(alpha=0.5))\n",
    "model.add(keras.layers.Dropout(0.3))\n",
    "model.add(keras.layers.LSTM(64,return_sequences=False))\n",
    "model.add(keras.layers.Dropout(0.3))\n",
    "model.add(keras.layers.Dense(1))\n",
    "\n",
    "\n",
    "\n",
    "\n"
   ]
  },
  {
   "cell_type": "code",
   "execution_count": 60,
   "id": "eab1b7c9",
   "metadata": {},
   "outputs": [
    {
     "name": "stdout",
     "output_type": "stream",
     "text": [
      "Model: \"sequential\"\n",
      "_________________________________________________________________\n",
      " Layer (type)                Output Shape              Param #   \n",
      "=================================================================\n",
      " lstm (LSTM)                 (None, 6, 128)            68608     \n",
      "                                                                 \n",
      " leaky_re_lu (LeakyReLU)     (None, 6, 128)            0         \n",
      "                                                                 \n",
      " lstm_1 (LSTM)               (None, 6, 128)            131584    \n",
      "                                                                 \n",
      " leaky_re_lu_1 (LeakyReLU)   (None, 6, 128)            0         \n",
      "                                                                 \n",
      " dropout (Dropout)           (None, 6, 128)            0         \n",
      "                                                                 \n",
      " lstm_2 (LSTM)               (None, 64)                49408     \n",
      "                                                                 \n",
      " dropout_1 (Dropout)         (None, 64)                0         \n",
      "                                                                 \n",
      " dense (Dense)               (None, 1)                 65        \n",
      "                                                                 \n",
      "=================================================================\n",
      "Total params: 249,665\n",
      "Trainable params: 249,665\n",
      "Non-trainable params: 0\n",
      "_________________________________________________________________\n"
     ]
    }
   ],
   "source": [
    "model.summary()"
   ]
  },
  {
   "cell_type": "code",
   "execution_count": 61,
   "id": "878b6df3",
   "metadata": {},
   "outputs": [
    {
     "name": "stdout",
     "output_type": "stream",
     "text": [
      "Epoch 1/50\n",
      "7/7 [==============================] - 13s 479ms/step - loss: 1.0357 - mean_absolute_error: 0.7002 - val_loss: 0.7932 - val_mean_absolute_error: 0.8393\n",
      "Epoch 2/50\n",
      "7/7 [==============================] - 0s 35ms/step - loss: 0.9825 - mean_absolute_error: 0.6657 - val_loss: 0.7029 - val_mean_absolute_error: 0.7855\n",
      "Epoch 3/50\n",
      "7/7 [==============================] - 0s 47ms/step - loss: 0.9375 - mean_absolute_error: 0.6286 - val_loss: 0.5667 - val_mean_absolute_error: 0.7012\n",
      "Epoch 4/50\n",
      "7/7 [==============================] - 0s 47ms/step - loss: 0.9069 - mean_absolute_error: 0.5787 - val_loss: 0.4229 - val_mean_absolute_error: 0.6056\n",
      "Epoch 5/50\n",
      "7/7 [==============================] - 0s 43ms/step - loss: 0.8884 - mean_absolute_error: 0.5199 - val_loss: 0.3334 - val_mean_absolute_error: 0.5352\n",
      "Epoch 6/50\n",
      "7/7 [==============================] - 0s 40ms/step - loss: 0.8956 - mean_absolute_error: 0.4964 - val_loss: 0.2966 - val_mean_absolute_error: 0.5022\n",
      "Epoch 7/50\n",
      "7/7 [==============================] - 0s 39ms/step - loss: 0.8968 - mean_absolute_error: 0.5033 - val_loss: 0.3241 - val_mean_absolute_error: 0.5241\n",
      "Epoch 8/50\n",
      "7/7 [==============================] - 0s 41ms/step - loss: 0.8655 - mean_absolute_error: 0.4960 - val_loss: 0.3564 - val_mean_absolute_error: 0.5467\n"
     ]
    }
   ],
   "source": [
    "early_stopping =keras.callbacks.EarlyStopping(monitor='val_loss',patience=2,mode='min')\n",
    "\n",
    "model.compile(loss=tf.losses.MeanSquaredError(),optimizer=tf.optimizers.Adam(),metrics=[tf.metrics.MeanAbsoluteError()])\n",
    "\n",
    "history=model.fit(train_generator,epochs=50,validation_data=test_generator,shuffle=False,callbacks=[early_stopping])"
   ]
  },
  {
   "cell_type": "code",
   "execution_count": 62,
   "id": "32a20c75",
   "metadata": {},
   "outputs": [
    {
     "name": "stdout",
     "output_type": "stream",
     "text": [
      "2/2 [==============================] - 0s 6ms/step - loss: 0.3564 - mean_absolute_error: 0.5467\n"
     ]
    },
    {
     "data": {
      "text/plain": [
       "[0.3564210832118988, 0.5466734170913696]"
      ]
     },
     "execution_count": 62,
     "metadata": {},
     "output_type": "execute_result"
    }
   ],
   "source": [
    "model.evaluate(test_generator)"
   ]
  },
  {
   "cell_type": "code",
   "execution_count": 63,
   "id": "a1efbe92",
   "metadata": {},
   "outputs": [
    {
     "name": "stdout",
     "output_type": "stream",
     "text": [
      "2/2 [==============================] - 2s 6ms/step\n"
     ]
    }
   ],
   "source": [
    "prediction=model.predict(test_generator)"
   ]
  },
  {
   "cell_type": "code",
   "execution_count": 64,
   "id": "2a1b84c9",
   "metadata": {},
   "outputs": [
    {
     "data": {
      "text/plain": [
       "11"
      ]
     },
     "execution_count": 64,
     "metadata": {},
     "output_type": "execute_result"
    }
   ],
   "source": [
    "prediction.shape[0]"
   ]
  },
  {
   "cell_type": "code",
   "execution_count": 65,
   "id": "06a26cd8",
   "metadata": {},
   "outputs": [
    {
     "data": {
      "text/plain": [
       "array([[0.2565101 ],\n",
       "       [0.22374953],\n",
       "       [0.21935737],\n",
       "       [0.2590827 ],\n",
       "       [0.37805414],\n",
       "       [0.4242091 ],\n",
       "       [0.4839672 ],\n",
       "       [0.44191095],\n",
       "       [0.3910555 ],\n",
       "       [0.3488789 ],\n",
       "       [0.19866952]], dtype=float32)"
      ]
     },
     "execution_count": 65,
     "metadata": {},
     "output_type": "execute_result"
    }
   ],
   "source": [
    "prediction"
   ]
  },
  {
   "cell_type": "code",
   "execution_count": 66,
   "id": "02a39dc9",
   "metadata": {},
   "outputs": [
    {
     "data": {
      "text/plain": [
       "array([0.84199137, 0.9615157 , 0.7361732 , 0.46908724, 0.58097093,\n",
       "       0.32240084, 0.07880125, 0.73242013, 1.26345898, 1.02747412,\n",
       "       0.80617458, 1.18673058, 0.76393468, 1.04275602, 0.9120227 ,\n",
       "       0.65332219, 0.81633984])"
      ]
     },
     "execution_count": 66,
     "metadata": {},
     "output_type": "execute_result"
    }
   ],
   "source": [
    "y_test"
   ]
  },
  {
   "cell_type": "code",
   "execution_count": 67,
   "id": "375b819c",
   "metadata": {},
   "outputs": [
    {
     "data": {
      "text/plain": [
       "array([[ 8.41991374e-01,  3.73676702e-01, -6.47461213e-01,\n",
       "        -5.09024245e-01, -4.58675753e-01],\n",
       "       [ 9.61515702e-01, -2.22785872e-01, -5.90762719e-01,\n",
       "         2.76969074e-01, -1.30485344e-01],\n",
       "       [ 7.36173202e-01,  4.48234524e-01, -6.44884009e-01,\n",
       "        -8.23421573e-01, -1.30485344e-01],\n",
       "       [ 4.69087239e-01, -5.95574981e-01,  1.60329719e+00,\n",
       "         1.53455839e+00,  1.51046670e+00],\n",
       "       [ 5.80970929e-01, -1.93761577e+00,  8.03504796e-01,\n",
       "         2.32055170e+00,  1.83865711e+00],\n",
       "       [ 3.22400843e-01, -1.56482666e+00,  4.63313831e-01,\n",
       "         1.53455839e+00,  1.18227629e+00],\n",
       "       [ 7.88012532e-02, -1.11747973e+00, -8.12402287e-01,\n",
       "        -3.74282533e-02,  5.25895475e-01],\n",
       "       [ 7.32420125e-01,  8.87593116e-04, -6.34575192e-01,\n",
       "        -3.51825581e-01,  1.97705066e-01],\n",
       "       [ 1.26345898e+00,  8.21023632e-01,  1.42881433e-01,\n",
       "        -3.51825581e-01,  1.97705066e-01],\n",
       "       [ 1.02747412e+00,  3.73676702e-01, -2.04182077e-01,\n",
       "         7.48565066e-01,  5.25895475e-01],\n",
       "       [ 8.06174576e-01,  5.22792345e-01, -9.56725727e-01,\n",
       "        -1.94626917e-01, -4.58675753e-01],\n",
       "       [ 1.18673058e+00,  5.22792345e-01, -3.63109675e-01,\n",
       "        -1.94626917e-01, -7.86866162e-01],\n",
       "       [ 7.63934676e-01,  4.48234524e-01, -7.01674546e-02,\n",
       "        -5.09024245e-01, -1.11505657e+00],\n",
       "       [ 1.04275602e+00,  5.97350167e-01,  1.56626522e-01,\n",
       "        -3.51825581e-01, -4.58675753e-01],\n",
       "       [ 9.12022702e-01, -3.71901516e-01,  1.39282551e+00,\n",
       "         1.22016106e+00,  8.54085885e-01],\n",
       "       [ 6.53322189e-01, -1.11747973e+00,  2.57060786e+00,\n",
       "         2.00615438e+00,  1.51046670e+00],\n",
       "       [ 8.16339836e-01, -1.26659538e+00, -5.18600999e-01,\n",
       "         1.06296239e+00,  1.18227629e+00]])"
      ]
     },
     "execution_count": 67,
     "metadata": {},
     "output_type": "execute_result"
    }
   ],
   "source": [
    "X_test"
   ]
  },
  {
   "cell_type": "code",
   "execution_count": 68,
   "id": "fae89028",
   "metadata": {},
   "outputs": [
    {
     "data": {
      "text/plain": [
       "array([[-1.11747973e+00, -8.12402287e-01, -3.74282533e-02,\n",
       "         5.25895475e-01],\n",
       "       [ 8.87593116e-04, -6.34575192e-01, -3.51825581e-01,\n",
       "         1.97705066e-01],\n",
       "       [ 8.21023632e-01,  1.42881433e-01, -3.51825581e-01,\n",
       "         1.97705066e-01],\n",
       "       [ 3.73676702e-01, -2.04182077e-01,  7.48565066e-01,\n",
       "         5.25895475e-01],\n",
       "       [ 5.22792345e-01, -9.56725727e-01, -1.94626917e-01,\n",
       "        -4.58675753e-01],\n",
       "       [ 5.22792345e-01, -3.63109675e-01, -1.94626917e-01,\n",
       "        -7.86866162e-01],\n",
       "       [ 4.48234524e-01, -7.01674546e-02, -5.09024245e-01,\n",
       "        -1.11505657e+00],\n",
       "       [ 5.97350167e-01,  1.56626522e-01, -3.51825581e-01,\n",
       "        -4.58675753e-01],\n",
       "       [-3.71901516e-01,  1.39282551e+00,  1.22016106e+00,\n",
       "         8.54085885e-01],\n",
       "       [-1.11747973e+00,  2.57060786e+00,  2.00615438e+00,\n",
       "         1.51046670e+00],\n",
       "       [-1.26659538e+00, -5.18600999e-01,  1.06296239e+00,\n",
       "         1.18227629e+00]])"
      ]
     },
     "execution_count": 68,
     "metadata": {},
     "output_type": "execute_result"
    }
   ],
   "source": [
    "X_test[:,1:][6:]"
   ]
  },
  {
   "cell_type": "code",
   "execution_count": 69,
   "id": "4ebfe812",
   "metadata": {},
   "outputs": [],
   "source": [
    "df_pred=pd.concat([pd.DataFrame(prediction),pd.DataFrame(X_test[:,1:][6:])],axis=1)"
   ]
  },
  {
   "cell_type": "code",
   "execution_count": 70,
   "id": "4036b607",
   "metadata": {},
   "outputs": [
    {
     "data": {
      "text/html": [
       "<div>\n",
       "<style scoped>\n",
       "    .dataframe tbody tr th:only-of-type {\n",
       "        vertical-align: middle;\n",
       "    }\n",
       "\n",
       "    .dataframe tbody tr th {\n",
       "        vertical-align: top;\n",
       "    }\n",
       "\n",
       "    .dataframe thead th {\n",
       "        text-align: right;\n",
       "    }\n",
       "</style>\n",
       "<table border=\"1\" class=\"dataframe\">\n",
       "  <thead>\n",
       "    <tr style=\"text-align: right;\">\n",
       "      <th></th>\n",
       "      <th>0</th>\n",
       "      <th>0</th>\n",
       "      <th>1</th>\n",
       "      <th>2</th>\n",
       "      <th>3</th>\n",
       "    </tr>\n",
       "  </thead>\n",
       "  <tbody>\n",
       "    <tr>\n",
       "      <th>0</th>\n",
       "      <td>0.256510</td>\n",
       "      <td>-1.117480</td>\n",
       "      <td>-0.812402</td>\n",
       "      <td>-0.037428</td>\n",
       "      <td>0.525895</td>\n",
       "    </tr>\n",
       "    <tr>\n",
       "      <th>1</th>\n",
       "      <td>0.223750</td>\n",
       "      <td>0.000888</td>\n",
       "      <td>-0.634575</td>\n",
       "      <td>-0.351826</td>\n",
       "      <td>0.197705</td>\n",
       "    </tr>\n",
       "    <tr>\n",
       "      <th>2</th>\n",
       "      <td>0.219357</td>\n",
       "      <td>0.821024</td>\n",
       "      <td>0.142881</td>\n",
       "      <td>-0.351826</td>\n",
       "      <td>0.197705</td>\n",
       "    </tr>\n",
       "    <tr>\n",
       "      <th>3</th>\n",
       "      <td>0.259083</td>\n",
       "      <td>0.373677</td>\n",
       "      <td>-0.204182</td>\n",
       "      <td>0.748565</td>\n",
       "      <td>0.525895</td>\n",
       "    </tr>\n",
       "    <tr>\n",
       "      <th>4</th>\n",
       "      <td>0.378054</td>\n",
       "      <td>0.522792</td>\n",
       "      <td>-0.956726</td>\n",
       "      <td>-0.194627</td>\n",
       "      <td>-0.458676</td>\n",
       "    </tr>\n",
       "    <tr>\n",
       "      <th>5</th>\n",
       "      <td>0.424209</td>\n",
       "      <td>0.522792</td>\n",
       "      <td>-0.363110</td>\n",
       "      <td>-0.194627</td>\n",
       "      <td>-0.786866</td>\n",
       "    </tr>\n",
       "    <tr>\n",
       "      <th>6</th>\n",
       "      <td>0.483967</td>\n",
       "      <td>0.448235</td>\n",
       "      <td>-0.070167</td>\n",
       "      <td>-0.509024</td>\n",
       "      <td>-1.115057</td>\n",
       "    </tr>\n",
       "    <tr>\n",
       "      <th>7</th>\n",
       "      <td>0.441911</td>\n",
       "      <td>0.597350</td>\n",
       "      <td>0.156627</td>\n",
       "      <td>-0.351826</td>\n",
       "      <td>-0.458676</td>\n",
       "    </tr>\n",
       "    <tr>\n",
       "      <th>8</th>\n",
       "      <td>0.391055</td>\n",
       "      <td>-0.371902</td>\n",
       "      <td>1.392826</td>\n",
       "      <td>1.220161</td>\n",
       "      <td>0.854086</td>\n",
       "    </tr>\n",
       "    <tr>\n",
       "      <th>9</th>\n",
       "      <td>0.348879</td>\n",
       "      <td>-1.117480</td>\n",
       "      <td>2.570608</td>\n",
       "      <td>2.006154</td>\n",
       "      <td>1.510467</td>\n",
       "    </tr>\n",
       "    <tr>\n",
       "      <th>10</th>\n",
       "      <td>0.198670</td>\n",
       "      <td>-1.266595</td>\n",
       "      <td>-0.518601</td>\n",
       "      <td>1.062962</td>\n",
       "      <td>1.182276</td>\n",
       "    </tr>\n",
       "  </tbody>\n",
       "</table>\n",
       "</div>"
      ],
      "text/plain": [
       "           0         0         1         2         3\n",
       "0   0.256510 -1.117480 -0.812402 -0.037428  0.525895\n",
       "1   0.223750  0.000888 -0.634575 -0.351826  0.197705\n",
       "2   0.219357  0.821024  0.142881 -0.351826  0.197705\n",
       "3   0.259083  0.373677 -0.204182  0.748565  0.525895\n",
       "4   0.378054  0.522792 -0.956726 -0.194627 -0.458676\n",
       "5   0.424209  0.522792 -0.363110 -0.194627 -0.786866\n",
       "6   0.483967  0.448235 -0.070167 -0.509024 -1.115057\n",
       "7   0.441911  0.597350  0.156627 -0.351826 -0.458676\n",
       "8   0.391055 -0.371902  1.392826  1.220161  0.854086\n",
       "9   0.348879 -1.117480  2.570608  2.006154  1.510467\n",
       "10  0.198670 -1.266595 -0.518601  1.062962  1.182276"
      ]
     },
     "execution_count": 70,
     "metadata": {},
     "output_type": "execute_result"
    }
   ],
   "source": [
    "df_pred"
   ]
  },
  {
   "cell_type": "code",
   "execution_count": 71,
   "id": "75f13032",
   "metadata": {},
   "outputs": [],
   "source": [
    "rev_trans=scaler.inverse_transform(df_pred)\n"
   ]
  },
  {
   "cell_type": "code",
   "execution_count": 72,
   "id": "cdd8efdf",
   "metadata": {},
   "outputs": [
    {
     "data": {
      "text/plain": [
       "array([[ 19.11352593,  26.9       ,  19.8       ,  69.        ,\n",
       "         92.        ],\n",
       "       [ 19.00853362,  28.4       ,  40.5       ,  67.        ,\n",
       "         91.        ],\n",
       "       [ 18.99445746,  29.5       , 131.        ,  67.        ,\n",
       "         91.        ],\n",
       "       [ 19.12177068,  28.9       ,  90.6       ,  74.        ,\n",
       "         92.        ],\n",
       "       [ 19.50305476,  29.1       ,   3.        ,  68.        ,\n",
       "         89.        ],\n",
       "       [ 19.65097384,  29.1       ,  72.1       ,  68.        ,\n",
       "         88.        ],\n",
       "       [ 19.8424889 ,  29.        , 106.2       ,  66.        ,\n",
       "         87.        ],\n",
       "       [ 19.70770543,  29.2       , 132.6       ,  67.        ,\n",
       "         89.        ],\n",
       "       [ 19.54472197,  27.9       , 276.5       ,  77.        ,\n",
       "         93.        ],\n",
       "       [ 19.40955283,  26.9       , 413.6       ,  82.        ,\n",
       "         95.        ],\n",
       "       [ 18.92815628,  26.7       ,  54.        ,  76.        ,\n",
       "         94.        ]])"
      ]
     },
     "execution_count": 72,
     "metadata": {},
     "output_type": "execute_result"
    }
   ],
   "source": [
    "rev_trans"
   ]
  },
  {
   "cell_type": "code",
   "execution_count": 73,
   "id": "48c71b0a",
   "metadata": {},
   "outputs": [],
   "source": [
    "df_final=df_input[prediction.shape[0]*-1:]"
   ]
  },
  {
   "cell_type": "code",
   "execution_count": 74,
   "id": "35b7c07f",
   "metadata": {},
   "outputs": [
    {
     "data": {
      "text/plain": [
       "Demand           11\n",
       "Temp_Avg         11\n",
       "Rainfall_Avg     11\n",
       "HumidityDay      11\n",
       "HumidityNight    11\n",
       "dtype: int64"
      ]
     },
     "execution_count": 74,
     "metadata": {},
     "output_type": "execute_result"
    }
   ],
   "source": [
    "df_final.count()"
   ]
  },
  {
   "cell_type": "code",
   "execution_count": 75,
   "id": "aa7143b2",
   "metadata": {},
   "outputs": [
    {
     "name": "stderr",
     "output_type": "stream",
     "text": [
      "C:\\Users\\Shani\\AppData\\Local\\Temp\\ipykernel_54168\\4142619263.py:1: SettingWithCopyWarning: \n",
      "A value is trying to be set on a copy of a slice from a DataFrame.\n",
      "Try using .loc[row_indexer,col_indexer] = value instead\n",
      "\n",
      "See the caveats in the documentation: https://pandas.pydata.org/pandas-docs/stable/user_guide/indexing.html#returning-a-view-versus-a-copy\n",
      "  df_final['Demand_Predicted']=rev_trans[:,0]\n"
     ]
    }
   ],
   "source": [
    "df_final['Demand_Predicted']=rev_trans[:,0]"
   ]
  },
  {
   "cell_type": "code",
   "execution_count": 76,
   "id": "db3ed338",
   "metadata": {},
   "outputs": [
    {
     "data": {
      "text/html": [
       "<div>\n",
       "<style scoped>\n",
       "    .dataframe tbody tr th:only-of-type {\n",
       "        vertical-align: middle;\n",
       "    }\n",
       "\n",
       "    .dataframe tbody tr th {\n",
       "        vertical-align: top;\n",
       "    }\n",
       "\n",
       "    .dataframe thead th {\n",
       "        text-align: right;\n",
       "    }\n",
       "</style>\n",
       "<table border=\"1\" class=\"dataframe\">\n",
       "  <thead>\n",
       "    <tr style=\"text-align: right;\">\n",
       "      <th></th>\n",
       "      <th>Demand</th>\n",
       "      <th>Temp_Avg</th>\n",
       "      <th>Rainfall_Avg</th>\n",
       "      <th>HumidityDay</th>\n",
       "      <th>HumidityNight</th>\n",
       "      <th>Demand_Predicted</th>\n",
       "    </tr>\n",
       "    <tr>\n",
       "      <th>Month</th>\n",
       "      <th></th>\n",
       "      <th></th>\n",
       "      <th></th>\n",
       "      <th></th>\n",
       "      <th></th>\n",
       "      <th></th>\n",
       "    </tr>\n",
       "  </thead>\n",
       "  <tbody>\n",
       "    <tr>\n",
       "      <th>2021-02-01</th>\n",
       "      <td>18.543998</td>\n",
       "      <td>26.9</td>\n",
       "      <td>19.8</td>\n",
       "      <td>69</td>\n",
       "      <td>92.0</td>\n",
       "      <td>19.113526</td>\n",
       "    </tr>\n",
       "    <tr>\n",
       "      <th>2021-03-01</th>\n",
       "      <td>20.638740</td>\n",
       "      <td>28.4</td>\n",
       "      <td>40.5</td>\n",
       "      <td>67</td>\n",
       "      <td>91.0</td>\n",
       "      <td>19.008534</td>\n",
       "    </tr>\n",
       "    <tr>\n",
       "      <th>2021-04-01</th>\n",
       "      <td>22.340633</td>\n",
       "      <td>29.5</td>\n",
       "      <td>131.0</td>\n",
       "      <td>67</td>\n",
       "      <td>91.0</td>\n",
       "      <td>18.994457</td>\n",
       "    </tr>\n",
       "    <tr>\n",
       "      <th>2021-05-01</th>\n",
       "      <td>21.584340</td>\n",
       "      <td>28.9</td>\n",
       "      <td>90.6</td>\n",
       "      <td>74</td>\n",
       "      <td>92.0</td>\n",
       "      <td>19.121771</td>\n",
       "    </tr>\n",
       "    <tr>\n",
       "      <th>2021-06-01</th>\n",
       "      <td>20.875111</td>\n",
       "      <td>29.1</td>\n",
       "      <td>3.0</td>\n",
       "      <td>68</td>\n",
       "      <td>89.0</td>\n",
       "      <td>19.503055</td>\n",
       "    </tr>\n",
       "    <tr>\n",
       "      <th>2021-07-01</th>\n",
       "      <td>22.094731</td>\n",
       "      <td>29.1</td>\n",
       "      <td>72.1</td>\n",
       "      <td>68</td>\n",
       "      <td>88.0</td>\n",
       "      <td>19.650974</td>\n",
       "    </tr>\n",
       "    <tr>\n",
       "      <th>2021-08-01</th>\n",
       "      <td>20.739739</td>\n",
       "      <td>29.0</td>\n",
       "      <td>106.2</td>\n",
       "      <td>66</td>\n",
       "      <td>87.0</td>\n",
       "      <td>19.842489</td>\n",
       "    </tr>\n",
       "    <tr>\n",
       "      <th>2021-09-01</th>\n",
       "      <td>21.633316</td>\n",
       "      <td>29.2</td>\n",
       "      <td>132.6</td>\n",
       "      <td>67</td>\n",
       "      <td>89.0</td>\n",
       "      <td>19.707705</td>\n",
       "    </tr>\n",
       "    <tr>\n",
       "      <th>2021-10-01</th>\n",
       "      <td>21.214337</td>\n",
       "      <td>27.9</td>\n",
       "      <td>276.5</td>\n",
       "      <td>77</td>\n",
       "      <td>93.0</td>\n",
       "      <td>19.544722</td>\n",
       "    </tr>\n",
       "    <tr>\n",
       "      <th>2021-11-01</th>\n",
       "      <td>20.385244</td>\n",
       "      <td>26.9</td>\n",
       "      <td>413.6</td>\n",
       "      <td>82</td>\n",
       "      <td>95.0</td>\n",
       "      <td>19.409553</td>\n",
       "    </tr>\n",
       "    <tr>\n",
       "      <th>2021-12-01</th>\n",
       "      <td>20.907689</td>\n",
       "      <td>26.7</td>\n",
       "      <td>54.0</td>\n",
       "      <td>76</td>\n",
       "      <td>94.0</td>\n",
       "      <td>18.928156</td>\n",
       "    </tr>\n",
       "  </tbody>\n",
       "</table>\n",
       "</div>"
      ],
      "text/plain": [
       "               Demand  Temp_Avg  Rainfall_Avg  HumidityDay  HumidityNight  \\\n",
       "Month                                                                       \n",
       "2021-02-01  18.543998      26.9          19.8           69           92.0   \n",
       "2021-03-01  20.638740      28.4          40.5           67           91.0   \n",
       "2021-04-01  22.340633      29.5         131.0           67           91.0   \n",
       "2021-05-01  21.584340      28.9          90.6           74           92.0   \n",
       "2021-06-01  20.875111      29.1           3.0           68           89.0   \n",
       "2021-07-01  22.094731      29.1          72.1           68           88.0   \n",
       "2021-08-01  20.739739      29.0         106.2           66           87.0   \n",
       "2021-09-01  21.633316      29.2         132.6           67           89.0   \n",
       "2021-10-01  21.214337      27.9         276.5           77           93.0   \n",
       "2021-11-01  20.385244      26.9         413.6           82           95.0   \n",
       "2021-12-01  20.907689      26.7          54.0           76           94.0   \n",
       "\n",
       "            Demand_Predicted  \n",
       "Month                         \n",
       "2021-02-01         19.113526  \n",
       "2021-03-01         19.008534  \n",
       "2021-04-01         18.994457  \n",
       "2021-05-01         19.121771  \n",
       "2021-06-01         19.503055  \n",
       "2021-07-01         19.650974  \n",
       "2021-08-01         19.842489  \n",
       "2021-09-01         19.707705  \n",
       "2021-10-01         19.544722  \n",
       "2021-11-01         19.409553  \n",
       "2021-12-01         18.928156  "
      ]
     },
     "execution_count": 76,
     "metadata": {},
     "output_type": "execute_result"
    }
   ],
   "source": [
    "df_final"
   ]
  },
  {
   "cell_type": "code",
   "execution_count": 77,
   "id": "e046da40",
   "metadata": {},
   "outputs": [
    {
     "data": {
      "text/plain": [
       "<Axes: xlabel='Month'>"
      ]
     },
     "execution_count": 77,
     "metadata": {},
     "output_type": "execute_result"
    },
    {
     "data": {
      "image/png": "[encoded data removed]",
      "text/plain": [
       "<Figure size 640x480 with 1 Axes>"
      ]
     },
     "metadata": {},
     "output_type": "display_data"
    }
   ],
   "source": [
    "df_final[['Demand','Demand_Predicted']].plot()"
   ]
  },
  {
   "cell_type": "code",
   "execution_count": 78,
   "id": "8ad48a6c",
   "metadata": {},
   "outputs": [
    {
     "name": "stdout",
     "output_type": "stream",
     "text": [
      "1.9133201013448953\n"
     ]
    }
   ],
   "source": [
    "rmse=sqrt(mean_squared_error(df_final['Demand'],df_final['Demand_Predicted']))\n",
    "print(rmse)"
   ]
  },
  {
   "cell_type": "code",
   "execution_count": 80,
   "id": "15fba549",
   "metadata": {},
   "outputs": [
    {
     "name": "stdout",
     "output_type": "stream",
     "text": [
      "3.66079381021044\n"
     ]
    }
   ],
   "source": [
    "mse=mean_squared_error(df_final['Demand'],df_final['Demand_Predicted'])\n",
    "print(mse)"
   ]
  },
  {
   "cell_type": "code",
   "execution_count": 81,
   "id": "8f4d069c",
   "metadata": {},
   "outputs": [
    {
     "name": "stdout",
     "output_type": "stream",
     "text": [
      "1.751999287928151\n"
     ]
    }
   ],
   "source": [
    "mae=mean_absolute_error(df_final['Demand'],df_final['Demand_Predicted'])\n",
    "print(mae)"
   ]
  },
  {
   "cell_type": "code",
   "execution_count": 85,
   "id": "ec88ed89",
   "metadata": {},
   "outputs": [
    {
     "name": "stdout",
     "output_type": "stream",
     "text": [
      "0.08212899896185205\n"
     ]
    }
   ],
   "source": [
    "mape=mean_absolute_percentage_error(df_final['Demand'],df_final['Demand_Predicted'])\n",
    "print(mape)"
   ]
  },
  {
   "cell_type": "code",
   "execution_count": null,
   "id": "f8a150ef",
   "metadata": {},
   "outputs": [],
   "source": []
  }
 ],
 "metadata": {
  "kernelspec": {
   "display_name": "Python 3 (ipykernel)",
   "language": "python",
   "name": "python3"
  },
  "language_info": {
   "codemirror_mode": {
    "name": "ipython",
    "version": 3
   },
   "file_extension": ".py",
   "mimetype": "text/x-python",
   "name": "python",
   "nbconvert_exporter": "python",
   "pygments_lexer": "ipython3",
   "version": "3.9.13"
  },
  "toc": {
   "base_numbering": 1,
   "nav_menu": {},
   "number_sections": true,
   "sideBar": true,
   "skip_h1_title": false,
   "title_cell": "Table of Contents",
   "title_sidebar": "Contents",
   "toc_cell": false,
   "toc_position": {},
   "toc_section_display": true,
   "toc_window_display": false
  }
 },
 "nbformat": 4,
 "nbformat_minor": 5
}
