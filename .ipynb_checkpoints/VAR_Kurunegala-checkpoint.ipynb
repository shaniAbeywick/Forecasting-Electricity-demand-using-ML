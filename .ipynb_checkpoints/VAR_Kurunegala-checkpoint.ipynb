{
 "cells": [
  {
   "cell_type": "code",
   "execution_count": 19,
   "id": "174cd63d",
   "metadata": {},
   "outputs": [],
   "source": [
    "import numpy as np\n",
    "import pandas as pd\n",
    "import matplotlib.pyplot as plt\n",
    "import statsmodels.api as sm\n",
    "from statsmodels.graphics.tsaplots import plot_acf, plot_pacf\n",
    "from statsmodels.tsa.statespace.varmax import VARMAX\n",
    "from statsmodels.tsa.api import VAR\n",
    "from statsmodels.tsa.stattools import grangercausalitytests, adfuller\n",
    "from sklearn.impute import SimpleImputer # import simple imputer\n",
    "from math import sqrt\n",
    "from sklearn.metrics import mean_squared_error,mean_absolute_error,mean_absolute_percentage_error,r2_score\n"
   ]
  },
  {
   "cell_type": "code",
   "execution_count": 20,
   "id": "0a1345d9",
   "metadata": {},
   "outputs": [
    {
     "name": "stdout",
     "output_type": "stream",
     "text": [
      "(84, 7)\n"
     ]
    },
    {
     "data": {
      "text/html": [
       "<div>\n",
       "<style scoped>\n",
       "    .dataframe tbody tr th:only-of-type {\n",
       "        vertical-align: middle;\n",
       "    }\n",
       "\n",
       "    .dataframe tbody tr th {\n",
       "        vertical-align: top;\n",
       "    }\n",
       "\n",
       "    .dataframe thead th {\n",
       "        text-align: right;\n",
       "    }\n",
       "</style>\n",
       "<table border=\"1\" class=\"dataframe\">\n",
       "  <thead>\n",
       "    <tr style=\"text-align: right;\">\n",
       "      <th></th>\n",
       "      <th>Demand</th>\n",
       "      <th>Temp_Avg</th>\n",
       "      <th>Temp_Max</th>\n",
       "      <th>Temp_Min</th>\n",
       "      <th>Rainfall_Avg</th>\n",
       "      <th>HumidityDay</th>\n",
       "      <th>HumidityNight</th>\n",
       "    </tr>\n",
       "    <tr>\n",
       "      <th>Month</th>\n",
       "      <th></th>\n",
       "      <th></th>\n",
       "      <th></th>\n",
       "      <th></th>\n",
       "      <th></th>\n",
       "      <th></th>\n",
       "      <th></th>\n",
       "    </tr>\n",
       "  </thead>\n",
       "  <tbody>\n",
       "    <tr>\n",
       "      <th>2015-01-01</th>\n",
       "      <td>48.194842</td>\n",
       "      <td>26.6</td>\n",
       "      <td>32.1</td>\n",
       "      <td>21.1</td>\n",
       "      <td>5.9</td>\n",
       "      <td>62.0</td>\n",
       "      <td>70.0</td>\n",
       "    </tr>\n",
       "    <tr>\n",
       "      <th>2015-02-01</th>\n",
       "      <td>48.110468</td>\n",
       "      <td>27.1</td>\n",
       "      <td>32.8</td>\n",
       "      <td>21.4</td>\n",
       "      <td>33.9</td>\n",
       "      <td>63.0</td>\n",
       "      <td>72.0</td>\n",
       "    </tr>\n",
       "    <tr>\n",
       "      <th>2015-03-01</th>\n",
       "      <td>50.598568</td>\n",
       "      <td>28.5</td>\n",
       "      <td>34.5</td>\n",
       "      <td>22.5</td>\n",
       "      <td>207.2</td>\n",
       "      <td>61.0</td>\n",
       "      <td>75.0</td>\n",
       "    </tr>\n",
       "    <tr>\n",
       "      <th>2015-04-01</th>\n",
       "      <td>49.672431</td>\n",
       "      <td>28.2</td>\n",
       "      <td>33.3</td>\n",
       "      <td>23.2</td>\n",
       "      <td>367.5</td>\n",
       "      <td>73.0</td>\n",
       "      <td>80.0</td>\n",
       "    </tr>\n",
       "    <tr>\n",
       "      <th>2015-05-01</th>\n",
       "      <td>52.322801</td>\n",
       "      <td>28.7</td>\n",
       "      <td>32.8</td>\n",
       "      <td>24.6</td>\n",
       "      <td>69.7</td>\n",
       "      <td>75.0</td>\n",
       "      <td>75.0</td>\n",
       "    </tr>\n",
       "  </tbody>\n",
       "</table>\n",
       "</div>"
      ],
      "text/plain": [
       "               Demand  Temp_Avg  Temp_Max  Temp_Min  Rainfall_Avg  \\\n",
       "Month                                                               \n",
       "2015-01-01  48.194842      26.6      32.1      21.1           5.9   \n",
       "2015-02-01  48.110468      27.1      32.8      21.4          33.9   \n",
       "2015-03-01  50.598568      28.5      34.5      22.5         207.2   \n",
       "2015-04-01  49.672431      28.2      33.3      23.2         367.5   \n",
       "2015-05-01  52.322801      28.7      32.8      24.6          69.7   \n",
       "\n",
       "            HumidityDay  HumidityNight  \n",
       "Month                                   \n",
       "2015-01-01         62.0           70.0  \n",
       "2015-02-01         63.0           72.0  \n",
       "2015-03-01         61.0           75.0  \n",
       "2015-04-01         73.0           80.0  \n",
       "2015-05-01         75.0           75.0  "
      ]
     },
     "execution_count": 20,
     "metadata": {},
     "output_type": "execute_result"
    }
   ],
   "source": [
    "filepath = '../Data/final/Kurunegala_demand.csv'\n",
    "data = pd.read_csv(filepath, index_col=\"Month\",parse_dates=[\"Month\"])\n",
    "print(data.shape) \n",
    "data.head()"
   ]
  },
  {
   "cell_type": "code",
   "execution_count": 21,
   "id": "448092f3",
   "metadata": {},
   "outputs": [
    {
     "data": {
      "text/html": [
       "<div>\n",
       "<style scoped>\n",
       "    .dataframe tbody tr th:only-of-type {\n",
       "        vertical-align: middle;\n",
       "    }\n",
       "\n",
       "    .dataframe tbody tr th {\n",
       "        vertical-align: top;\n",
       "    }\n",
       "\n",
       "    .dataframe thead th {\n",
       "        text-align: right;\n",
       "    }\n",
       "</style>\n",
       "<table border=\"1\" class=\"dataframe\">\n",
       "  <thead>\n",
       "    <tr style=\"text-align: right;\">\n",
       "      <th></th>\n",
       "      <th>Demand</th>\n",
       "      <th>Temp_Avg</th>\n",
       "      <th>Temp_Max</th>\n",
       "      <th>Temp_Min</th>\n",
       "      <th>Rainfall_Avg</th>\n",
       "      <th>HumidityDay</th>\n",
       "      <th>HumidityNight</th>\n",
       "    </tr>\n",
       "  </thead>\n",
       "  <tbody>\n",
       "    <tr>\n",
       "      <th>count</th>\n",
       "      <td>84.000000</td>\n",
       "      <td>84.000000</td>\n",
       "      <td>84.000000</td>\n",
       "      <td>84.000000</td>\n",
       "      <td>84.000000</td>\n",
       "      <td>81.000000</td>\n",
       "      <td>26.000000</td>\n",
       "    </tr>\n",
       "    <tr>\n",
       "      <th>mean</th>\n",
       "      <td>62.866202</td>\n",
       "      <td>28.084524</td>\n",
       "      <td>32.495238</td>\n",
       "      <td>23.679762</td>\n",
       "      <td>162.986905</td>\n",
       "      <td>69.111111</td>\n",
       "      <td>84.846154</td>\n",
       "    </tr>\n",
       "    <tr>\n",
       "      <th>std</th>\n",
       "      <td>8.995267</td>\n",
       "      <td>0.948238</td>\n",
       "      <td>1.480549</td>\n",
       "      <td>1.192525</td>\n",
       "      <td>165.323742</td>\n",
       "      <td>7.185054</td>\n",
       "      <td>6.485012</td>\n",
       "    </tr>\n",
       "    <tr>\n",
       "      <th>min</th>\n",
       "      <td>43.879905</td>\n",
       "      <td>26.200000</td>\n",
       "      <td>29.900000</td>\n",
       "      <td>20.600000</td>\n",
       "      <td>0.000000</td>\n",
       "      <td>50.000000</td>\n",
       "      <td>70.000000</td>\n",
       "    </tr>\n",
       "    <tr>\n",
       "      <th>25%</th>\n",
       "      <td>56.430487</td>\n",
       "      <td>27.475000</td>\n",
       "      <td>31.400000</td>\n",
       "      <td>22.775000</td>\n",
       "      <td>50.775000</td>\n",
       "      <td>63.000000</td>\n",
       "      <td>81.500000</td>\n",
       "    </tr>\n",
       "    <tr>\n",
       "      <th>50%</th>\n",
       "      <td>62.147509</td>\n",
       "      <td>28.200000</td>\n",
       "      <td>32.150000</td>\n",
       "      <td>23.950000</td>\n",
       "      <td>124.500000</td>\n",
       "      <td>71.000000</td>\n",
       "      <td>86.500000</td>\n",
       "    </tr>\n",
       "    <tr>\n",
       "      <th>75%</th>\n",
       "      <td>69.034555</td>\n",
       "      <td>28.700000</td>\n",
       "      <td>33.400000</td>\n",
       "      <td>24.600000</td>\n",
       "      <td>210.975000</td>\n",
       "      <td>75.000000</td>\n",
       "      <td>89.000000</td>\n",
       "    </tr>\n",
       "    <tr>\n",
       "      <th>max</th>\n",
       "      <td>100.831713</td>\n",
       "      <td>30.200000</td>\n",
       "      <td>36.600000</td>\n",
       "      <td>25.800000</td>\n",
       "      <td>868.800000</td>\n",
       "      <td>81.000000</td>\n",
       "      <td>94.000000</td>\n",
       "    </tr>\n",
       "  </tbody>\n",
       "</table>\n",
       "</div>"
      ],
      "text/plain": [
       "           Demand   Temp_Avg   Temp_Max   Temp_Min  Rainfall_Avg  HumidityDay  \\\n",
       "count   84.000000  84.000000  84.000000  84.000000     84.000000    81.000000   \n",
       "mean    62.866202  28.084524  32.495238  23.679762    162.986905    69.111111   \n",
       "std      8.995267   0.948238   1.480549   1.192525    165.323742     7.185054   \n",
       "min     43.879905  26.200000  29.900000  20.600000      0.000000    50.000000   \n",
       "25%     56.430487  27.475000  31.400000  22.775000     50.775000    63.000000   \n",
       "50%     62.147509  28.200000  32.150000  23.950000    124.500000    71.000000   \n",
       "75%     69.034555  28.700000  33.400000  24.600000    210.975000    75.000000   \n",
       "max    100.831713  30.200000  36.600000  25.800000    868.800000    81.000000   \n",
       "\n",
       "       HumidityNight  \n",
       "count      26.000000  \n",
       "mean       84.846154  \n",
       "std         6.485012  \n",
       "min        70.000000  \n",
       "25%        81.500000  \n",
       "50%        86.500000  \n",
       "75%        89.000000  \n",
       "max        94.000000  "
      ]
     },
     "execution_count": 21,
     "metadata": {},
     "output_type": "execute_result"
    }
   ],
   "source": [
    "data.describe(include='all')"
   ]
  },
  {
   "cell_type": "code",
   "execution_count": 22,
   "id": "fdbb4843",
   "metadata": {},
   "outputs": [
    {
     "data": {
      "text/plain": [
       "Demand            0\n",
       "Temp_Avg          0\n",
       "Temp_Max          0\n",
       "Temp_Min          0\n",
       "Rainfall_Avg      0\n",
       "HumidityDay       3\n",
       "HumidityNight    58\n",
       "dtype: int64"
      ]
     },
     "execution_count": 22,
     "metadata": {},
     "output_type": "execute_result"
    }
   ],
   "source": [
    "data.isnull().sum() #return true/ false. If ture , its a missing place. If false, it contains a values."
   ]
  },
  {
   "cell_type": "code",
   "execution_count": 23,
   "id": "ed786fac",
   "metadata": {},
   "outputs": [
    {
     "data": {
      "text/plain": [
       "Demand            0\n",
       "Temp_Avg          0\n",
       "Temp_Max          0\n",
       "Temp_Min          0\n",
       "Rainfall_Avg      0\n",
       "HumidityDay       3\n",
       "HumidityNight    58\n",
       "dtype: int64"
      ]
     },
     "execution_count": 23,
     "metadata": {},
     "output_type": "execute_result"
    }
   ],
   "source": [
    "sample_data= data.copy()\n",
    "sample_data.isnull().sum()"
   ]
  },
  {
   "cell_type": "code",
   "execution_count": 24,
   "id": "1ea989b4",
   "metadata": {},
   "outputs": [
    {
     "data": {
      "text/plain": [
       "Demand          0\n",
       "Temp_Avg        0\n",
       "Temp_Max        0\n",
       "Temp_Min        0\n",
       "Rainfall_Avg    0\n",
       "HumidityDay     0\n",
       "dtype: int64"
      ]
     },
     "execution_count": 24,
     "metadata": {},
     "output_type": "execute_result"
    }
   ],
   "source": [
    "imputer = SimpleImputer(missing_values=np.NaN, strategy='mean') \n",
    "# sample_data.Rainfall_Avg = imputer.fit_transform(sample_data['Rainfall_Avg'].values.reshape(-1,1))[:,0]\n",
    "sample_data.HumidityDay = imputer.fit_transform(sample_data['HumidityDay'].values.reshape(-1,1))[:,0]\n",
    "# sample_data.HumidityNight = imputer.fit_transform(sample_data['HumidityNight'].values.reshape(-1,1))[:,0]\n",
    "sample_data= sample_data.drop(columns='HumidityNight')\n",
    "sample_data.isnull().sum()"
   ]
  },
  {
   "cell_type": "code",
   "execution_count": 12,
   "id": "d537452a",
   "metadata": {},
   "outputs": [
    {
     "data": {
      "image/png": "[encoded data removed]",
      "text/plain": [
       "<Figure size 640x480 with 1 Axes>"
      ]
     },
     "metadata": {},
     "output_type": "display_data"
    }
   ],
   "source": [
    "plt.boxplot(sample_data[\"Temp_Avg\"])  #finding outliers\n",
    "plt.show()"
   ]
  },
  {
   "cell_type": "code",
   "execution_count": 13,
   "id": "6b003ee4",
   "metadata": {},
   "outputs": [
    {
     "data": {
      "image/png": "[encoded data removed]",
      "text/plain": [
       "<Figure size 640x480 with 1 Axes>"
      ]
     },
     "metadata": {},
     "output_type": "display_data"
    }
   ],
   "source": [
    "plt.boxplot(sample_data[\"Temp_Min\"])  #finding outliers\n",
    "plt.show()"
   ]
  },
  {
   "cell_type": "code",
   "execution_count": 14,
   "id": "57514019",
   "metadata": {},
   "outputs": [
    {
     "data": {
      "image/png": "[encoded data removed]",
      "text/plain": [
       "<Figure size 640x480 with 1 Axes>"
      ]
     },
     "metadata": {},
     "output_type": "display_data"
    }
   ],
   "source": [
    "plt.boxplot(sample_data[\"Temp_Max\"])  #finding outliers\n",
    "plt.show()"
   ]
  },
  {
   "cell_type": "code",
   "execution_count": 15,
   "id": "a453a83e",
   "metadata": {},
   "outputs": [
    {
     "data": {
      "image/png": "[encoded data removed]",
      "text/plain": [
       "<Figure size 640x480 with 1 Axes>"
      ]
     },
     "metadata": {},
     "output_type": "display_data"
    }
   ],
   "source": [
    "plt.boxplot(sample_data[\"Rainfall_Avg\"])  #finding outliers\n",
    "plt.show()"
   ]
  },
  {
   "cell_type": "code",
   "execution_count": 25,
   "id": "e493d580",
   "metadata": {},
   "outputs": [
    {
     "data": {
      "image/png": "[encoded data removed]",
      "text/plain": [
       "<Figure size 640x480 with 1 Axes>"
      ]
     },
     "metadata": {},
     "output_type": "display_data"
    }
   ],
   "source": [
    "plt.boxplot(sample_data[\"HumidityDay\"])  #finding outliers\n",
    "plt.show()"
   ]
  },
  {
   "cell_type": "code",
   "execution_count": 17,
   "id": "3a9416e2",
   "metadata": {},
   "outputs": [
    {
     "data": {
      "image/png": "[encoded data removed]",
      "text/plain": [
       "<Figure size 640x480 with 1 Axes>"
      ]
     },
     "metadata": {},
     "output_type": "display_data"
    }
   ],
   "source": [
    "plt.boxplot(sample_data[\"HumidityNight\"])  #finding outliers\n",
    "plt.show()"
   ]
  },
  {
   "cell_type": "code",
   "execution_count": 27,
   "id": "9de51f3f",
   "metadata": {},
   "outputs": [
    {
     "data": {
      "image/png": "[encoded data removed]",
      "text/plain": [
       "<Figure size 1200x720 with 6 Axes>"
      ]
     },
     "metadata": {},
     "output_type": "display_data"
    }
   ],
   "source": [
    "color_list=[\"blue\",\"green\",\"red\",\"olive\",\"orange\",\"purple\",\"brown\"]\n",
    "\n",
    "fig, axes = plt.subplots(nrows=6, ncols=1, dpi=120, figsize=(10,6))\n",
    "for i, ax in enumerate(axes.flatten()):\n",
    "    data = sample_data[sample_data.columns[i]]\n",
    "    ax.plot(data, color=color_list[i%(len(color_list))], linewidth=1)\n",
    "    \n",
    "    ax.set_title(sample_data.columns[i])\n",
    "    ax.xaxis.set_ticks_position('none')\n",
    "    ax.yaxis.set_ticks_position('none')\n",
    "    ax.spines[\"top\"].set_alpha(0)\n",
    "    ax.tick_params(labelsize=6)\n",
    "\n",
    "plt.tight_layout();"
   ]
  },
  {
   "cell_type": "code",
   "execution_count": 28,
   "id": "9ff39d7f",
   "metadata": {},
   "outputs": [
    {
     "name": "stdout",
     "output_type": "stream",
     "text": [
      "Demand\n",
      "ADF Statistic: -0.6071523969986792\n",
      "p-value: 0.8693576740586386\n",
      "\n",
      "---------------------\n",
      "\n",
      "Average Temperature\n",
      "ADF Statistic: -2.312328721042435\n",
      "p-value: 0.1680225390202439\n",
      "\n",
      "---------------------\n",
      "\n",
      "Maximum Temperature\n",
      "ADF Statistic: -1.2320513777781454\n",
      "p-value: 0.6596583315165399\n",
      "\n",
      "---------------------\n",
      "\n",
      "Minimum Temperature\n",
      "ADF Statistic: -2.8347637112026307\n",
      "p-value: 0.05347703497417749\n",
      "\n",
      "---------------------\n",
      "\n",
      "Average Rainfall\n",
      "ADF Statistic: -2.8077862308854975\n",
      "p-value: 0.05717013914542404\n",
      "\n",
      "---------------------\n",
      "\n",
      "Humidity Day\n",
      "ADF Statistic: -2.102152488632224\n",
      "p-value: 0.2436499563702766\n",
      "\n",
      "---------------------\n",
      "\n"
     ]
    }
   ],
   "source": [
    "#check weather data stationary or not(augmented dickey-fuller test)\n",
    "\n",
    "ad_fuller_result_1 = adfuller(sample_data['Demand'])#.diff()[1:])\n",
    "\n",
    "print('Demand')\n",
    "print(f'ADF Statistic: {ad_fuller_result_1[0]}')\n",
    "print(f'p-value: {ad_fuller_result_1[1]}')\n",
    "\n",
    "print('\\n---------------------\\n')\n",
    "\n",
    "ad_fuller_result_2 = adfuller(sample_data['Temp_Avg'])#.diff()[1:])\n",
    "\n",
    "print('Average Temperature')\n",
    "print(f'ADF Statistic: {ad_fuller_result_2[0]}')\n",
    "print(f'p-value: {ad_fuller_result_2[1]}')\n",
    "\n",
    "print('\\n---------------------\\n')\n",
    "\n",
    "ad_fuller_result_2 = adfuller(sample_data['Temp_Max'])#.diff()[1:])\n",
    "\n",
    "print('Maximum Temperature')\n",
    "print(f'ADF Statistic: {ad_fuller_result_2[0]}')\n",
    "print(f'p-value: {ad_fuller_result_2[1]}')\n",
    "\n",
    "print('\\n---------------------\\n')\n",
    "\n",
    "ad_fuller_result_2 = adfuller(sample_data['Temp_Min'])#.diff()[1:])\n",
    "\n",
    "print('Minimum Temperature')\n",
    "print(f'ADF Statistic: {ad_fuller_result_2[0]}')\n",
    "print(f'p-value: {ad_fuller_result_2[1]}')\n",
    "\n",
    "print('\\n---------------------\\n')\n",
    "\n",
    "ad_fuller_result_2 = adfuller(sample_data['Rainfall_Avg'])#.diff()[1:])\n",
    "\n",
    "print('Average Rainfall')\n",
    "print(f'ADF Statistic: {ad_fuller_result_2[0]}')\n",
    "print(f'p-value: {ad_fuller_result_2[1]}')\n",
    "\n",
    "print('\\n---------------------\\n')\n",
    "\n",
    "ad_fuller_result_2 = adfuller(sample_data['HumidityDay'])#.diff()[1:])\n",
    "\n",
    "print('Humidity Day')\n",
    "print(f'ADF Statistic: {ad_fuller_result_2[0]}')\n",
    "print(f'p-value: {ad_fuller_result_2[1]}')\n",
    "\n",
    "print('\\n---------------------\\n')\n",
    "\n",
    "# ad_fuller_result_2 = adfuller(sample_data['HumidityNight'])#.diff()[1:])\n",
    "\n",
    "# print('Humidity Night')\n",
    "# print(f'ADF Statistic: {ad_fuller_result_2[0]}')\n",
    "# print(f'p-value: {ad_fuller_result_2[1]}')\n",
    "\n",
    "# p value shold be , p <0.05"
   ]
  },
  {
   "cell_type": "code",
   "execution_count": null,
   "id": "be7105df",
   "metadata": {},
   "outputs": [],
   "source": [
    "# do first order differencing\n",
    "\n",
    "ad_fuller_result_1= adfuller(sample_data['Demand'].diff()[1:])\n",
    "\n",
    "print('Demand')\n",
    "print(f'ADF Statistic: {ad_fuller_result_1[0]}')\n",
    "print(f'p-value: {ad_fuller_result_1[1]}')\n",
    "\n",
    "print('\\n---------------------\\n')\n",
    "\n",
    "ad_fuller_result_2 = adfuller(sample_data['Temp_Avg'].diff()[1:])\n",
    "\n",
    "print('Average Temperature')\n",
    "print(f'ADF Statistic: {ad_fuller_result_2[0]}')\n",
    "print(f'p-value: {ad_fuller_result_2[1]}')\n",
    "\n",
    "print('\\n---------------------\\n')\n",
    "\n",
    "ad_fuller_result_2 = adfuller(sample_data['Temp_Max'].diff()[1:])\n",
    "\n",
    "print('Maximum Temperature')\n",
    "print(f'ADF Statistic: {ad_fuller_result_2[0]}')\n",
    "print(f'p-value: {ad_fuller_result_2[1]}')\n",
    "\n",
    "print('\\n---------------------\\n')\n",
    "\n",
    "ad_fuller_result_2 = adfuller(sample_data['Temp_Min'].diff()[1:])\n",
    "\n",
    "print('Minimum Temperature')\n",
    "print(f'ADF Statistic: {ad_fuller_result_2[0]}')\n",
    "print(f'p-value: {ad_fuller_result_2[1]}')\n",
    "\n",
    "print('\\n---------------------\\n')\n",
    "\n",
    "ad_fuller_result_2 = adfuller(sample_data['Rainfall_Avg'].diff()[1:])\n",
    "\n",
    "print('Average Rainfall')\n",
    "print(f'ADF Statistic: {ad_fuller_result_2[0]}')\n",
    "print(f'p-value: {ad_fuller_result_2[1]}')\n",
    "\n",
    "print('\\n---------------------\\n')\n",
    "\n",
    "ad_fuller_result_2 = adfuller(sample_data['HumidityDay'].diff()[1:])\n",
    "\n",
    "print('Humidity Day')\n",
    "print(f'ADF Statistic: {ad_fuller_result_2[0]}')\n",
    "print(f'p-value: {ad_fuller_result_2[1]}')\n",
    "\n",
    "print('\\n---------------------\\n')\n",
    "\n",
    "ad_fuller_result_2 = adfuller(sample_data['HumidityNight'].diff()[1:])\n",
    "\n",
    "print('Humidity Night')\n",
    "print(f'ADF Statistic: {ad_fuller_result_2[0]}')\n",
    "print(f'p-value: {ad_fuller_result_2[1]}')\n"
   ]
  },
  {
   "cell_type": "code",
   "execution_count": 11,
   "id": "85fbe531",
   "metadata": {},
   "outputs": [
    {
     "data": {
      "text/html": [
       "<div>\n",
       "<style scoped>\n",
       "    .dataframe tbody tr th:only-of-type {\n",
       "        vertical-align: middle;\n",
       "    }\n",
       "\n",
       "    .dataframe tbody tr th {\n",
       "        vertical-align: top;\n",
       "    }\n",
       "\n",
       "    .dataframe thead th {\n",
       "        text-align: right;\n",
       "    }\n",
       "</style>\n",
       "<table border=\"1\" class=\"dataframe\">\n",
       "  <thead>\n",
       "    <tr style=\"text-align: right;\">\n",
       "      <th></th>\n",
       "      <th>Demand</th>\n",
       "      <th>Temp_Avg</th>\n",
       "      <th>Temp_Max</th>\n",
       "      <th>Temp_Min</th>\n",
       "      <th>Rainfall_Avg</th>\n",
       "      <th>HumidityDay</th>\n",
       "    </tr>\n",
       "    <tr>\n",
       "      <th>Month</th>\n",
       "      <th></th>\n",
       "      <th></th>\n",
       "      <th></th>\n",
       "      <th></th>\n",
       "      <th></th>\n",
       "      <th></th>\n",
       "    </tr>\n",
       "  </thead>\n",
       "  <tbody>\n",
       "    <tr>\n",
       "      <th>2015-01-01</th>\n",
       "      <td>21.019726</td>\n",
       "      <td>26.6</td>\n",
       "      <td>32.1</td>\n",
       "      <td>21.1</td>\n",
       "      <td>5.9</td>\n",
       "      <td>62.0</td>\n",
       "    </tr>\n",
       "    <tr>\n",
       "      <th>2015-02-01</th>\n",
       "      <td>20.906431</td>\n",
       "      <td>27.1</td>\n",
       "      <td>32.8</td>\n",
       "      <td>21.4</td>\n",
       "      <td>33.9</td>\n",
       "      <td>63.0</td>\n",
       "    </tr>\n",
       "    <tr>\n",
       "      <th>2015-03-01</th>\n",
       "      <td>20.591265</td>\n",
       "      <td>28.5</td>\n",
       "      <td>34.5</td>\n",
       "      <td>22.5</td>\n",
       "      <td>207.2</td>\n",
       "      <td>61.0</td>\n",
       "    </tr>\n",
       "    <tr>\n",
       "      <th>2015-04-01</th>\n",
       "      <td>21.613543</td>\n",
       "      <td>28.2</td>\n",
       "      <td>33.3</td>\n",
       "      <td>23.2</td>\n",
       "      <td>367.5</td>\n",
       "      <td>73.0</td>\n",
       "    </tr>\n",
       "    <tr>\n",
       "      <th>2015-05-01</th>\n",
       "      <td>21.594135</td>\n",
       "      <td>28.7</td>\n",
       "      <td>32.8</td>\n",
       "      <td>24.6</td>\n",
       "      <td>69.7</td>\n",
       "      <td>75.0</td>\n",
       "    </tr>\n",
       "  </tbody>\n",
       "</table>\n",
       "</div>"
      ],
      "text/plain": [
       "               Demand  Temp_Avg  Temp_Max  Temp_Min  Rainfall_Avg  HumidityDay\n",
       "Month                                                                         \n",
       "2015-01-01  21.019726      26.6      32.1      21.1           5.9         62.0\n",
       "2015-02-01  20.906431      27.1      32.8      21.4          33.9         63.0\n",
       "2015-03-01  20.591265      28.5      34.5      22.5         207.2         61.0\n",
       "2015-04-01  21.613543      28.2      33.3      23.2         367.5         73.0\n",
       "2015-05-01  21.594135      28.7      32.8      24.6          69.7         75.0"
      ]
     },
     "execution_count": 11,
     "metadata": {},
     "output_type": "execute_result"
    }
   ],
   "source": [
    "sample_data.head(5)"
   ]
  },
  {
   "cell_type": "code",
   "execution_count": 29,
   "id": "64e82712",
   "metadata": {},
   "outputs": [
    {
     "name": "stdout",
     "output_type": "stream",
     "text": [
      "(83, 6)\n"
     ]
    },
    {
     "data": {
      "text/html": [
       "<div>\n",
       "<style scoped>\n",
       "    .dataframe tbody tr th:only-of-type {\n",
       "        vertical-align: middle;\n",
       "    }\n",
       "\n",
       "    .dataframe tbody tr th {\n",
       "        vertical-align: top;\n",
       "    }\n",
       "\n",
       "    .dataframe thead th {\n",
       "        text-align: right;\n",
       "    }\n",
       "</style>\n",
       "<table border=\"1\" class=\"dataframe\">\n",
       "  <thead>\n",
       "    <tr style=\"text-align: right;\">\n",
       "      <th></th>\n",
       "      <th>Demand</th>\n",
       "      <th>Temp_Avg</th>\n",
       "      <th>Temp_Max</th>\n",
       "      <th>Temp_Min</th>\n",
       "      <th>Rainfall_Avg</th>\n",
       "      <th>HumidityDay</th>\n",
       "    </tr>\n",
       "    <tr>\n",
       "      <th>Month</th>\n",
       "      <th></th>\n",
       "      <th></th>\n",
       "      <th></th>\n",
       "      <th></th>\n",
       "      <th></th>\n",
       "      <th></th>\n",
       "    </tr>\n",
       "  </thead>\n",
       "  <tbody>\n",
       "    <tr>\n",
       "      <th>2015-02-01</th>\n",
       "      <td>-0.084374</td>\n",
       "      <td>0.5</td>\n",
       "      <td>0.7</td>\n",
       "      <td>0.3</td>\n",
       "      <td>28.0</td>\n",
       "      <td>1.0</td>\n",
       "    </tr>\n",
       "    <tr>\n",
       "      <th>2015-03-01</th>\n",
       "      <td>2.488100</td>\n",
       "      <td>1.4</td>\n",
       "      <td>1.7</td>\n",
       "      <td>1.1</td>\n",
       "      <td>173.3</td>\n",
       "      <td>-2.0</td>\n",
       "    </tr>\n",
       "    <tr>\n",
       "      <th>2015-04-01</th>\n",
       "      <td>-0.926137</td>\n",
       "      <td>-0.3</td>\n",
       "      <td>-1.2</td>\n",
       "      <td>0.7</td>\n",
       "      <td>160.3</td>\n",
       "      <td>12.0</td>\n",
       "    </tr>\n",
       "    <tr>\n",
       "      <th>2015-05-01</th>\n",
       "      <td>2.650370</td>\n",
       "      <td>0.5</td>\n",
       "      <td>-0.5</td>\n",
       "      <td>1.4</td>\n",
       "      <td>-297.8</td>\n",
       "      <td>2.0</td>\n",
       "    </tr>\n",
       "    <tr>\n",
       "      <th>2015-06-01</th>\n",
       "      <td>-0.216036</td>\n",
       "      <td>-0.2</td>\n",
       "      <td>-0.6</td>\n",
       "      <td>0.1</td>\n",
       "      <td>4.9</td>\n",
       "      <td>0.0</td>\n",
       "    </tr>\n",
       "  </tbody>\n",
       "</table>\n",
       "</div>"
      ],
      "text/plain": [
       "              Demand  Temp_Avg  Temp_Max  Temp_Min  Rainfall_Avg  HumidityDay\n",
       "Month                                                                        \n",
       "2015-02-01 -0.084374       0.5       0.7       0.3          28.0          1.0\n",
       "2015-03-01  2.488100       1.4       1.7       1.1         173.3         -2.0\n",
       "2015-04-01 -0.926137      -0.3      -1.2       0.7         160.3         12.0\n",
       "2015-05-01  2.650370       0.5      -0.5       1.4        -297.8          2.0\n",
       "2015-06-01 -0.216036      -0.2      -0.6       0.1           4.9          0.0"
      ]
     },
     "execution_count": 29,
     "metadata": {},
     "output_type": "execute_result"
    }
   ],
   "source": [
    "# make first-order differencing \n",
    "df_transformed = sample_data.diff().dropna()\n",
    "df = sample_data.iloc[1:]\n",
    "print(df.shape)\n",
    "df_transformed.shape\n",
    "df_transformed.head()"
   ]
  },
  {
   "cell_type": "code",
   "execution_count": 30,
   "id": "253a53be",
   "metadata": {},
   "outputs": [
    {
     "name": "stdout",
     "output_type": "stream",
     "text": [
      "column-Temp_Avg :P_values - [0.717, 0.5144, 0.3157, 0.1387, 0.1977, 0.0098]\n",
      "column-Temp_Max :P_values - [0.4504, 0.4149, 0.3005, 0.1414, 0.2483, 0.0121]\n",
      "column-Temp_Min :P_values - [0.6062, 0.1259, 0.1086, 0.0991, 0.0914, 0.0572]\n",
      "column-Rainfall_Avg :P_values - [0.1171, 0.412, 0.3311, 0.5406, 0.7533, 0.8889]\n",
      "column-HumidityDay :P_values - [0.0222, 0.0386, 0.0755, 0.1622, 0.1596, 0.0499]\n"
     ]
    }
   ],
   "source": [
    "#Test the Granger Causality\n",
    "\n",
    "max_lags=6\n",
    "y='Demand'\n",
    "\n",
    "for i in range(len(df_transformed.columns)-1):\n",
    "    results=grangercausalitytests(df_transformed[[y,df_transformed.columns[i+1]]],max_lags,verbose=False)\n",
    "    p_values=[round(results[i+1][0]['ssr_ftest'][1],4)for i in range(max_lags)]\n",
    "    print('column-{} :P_values - {}'.format(df_transformed.columns[i+1],p_values))"
   ]
  },
  {
   "cell_type": "code",
   "execution_count": 20,
   "id": "7d7a6627",
   "metadata": {},
   "outputs": [],
   "source": [
    "df_input=sample_data[['Demand','Temp_Avg','HumidityDay']]"
   ]
  },
  {
   "cell_type": "code",
   "execution_count": 21,
   "id": "ddc6144d",
   "metadata": {},
   "outputs": [
    {
     "data": {
      "text/html": [
       "<div>\n",
       "<style scoped>\n",
       "    .dataframe tbody tr th:only-of-type {\n",
       "        vertical-align: middle;\n",
       "    }\n",
       "\n",
       "    .dataframe tbody tr th {\n",
       "        vertical-align: top;\n",
       "    }\n",
       "\n",
       "    .dataframe thead th {\n",
       "        text-align: right;\n",
       "    }\n",
       "</style>\n",
       "<table border=\"1\" class=\"dataframe\">\n",
       "  <thead>\n",
       "    <tr style=\"text-align: right;\">\n",
       "      <th></th>\n",
       "      <th>Demand</th>\n",
       "      <th>Temp_Avg</th>\n",
       "      <th>HumidityDay</th>\n",
       "    </tr>\n",
       "    <tr>\n",
       "      <th>Month</th>\n",
       "      <th></th>\n",
       "      <th></th>\n",
       "      <th></th>\n",
       "    </tr>\n",
       "  </thead>\n",
       "  <tbody>\n",
       "    <tr>\n",
       "      <th>2015-01-01</th>\n",
       "      <td>204.912437</td>\n",
       "      <td>27.4</td>\n",
       "      <td>68</td>\n",
       "    </tr>\n",
       "    <tr>\n",
       "      <th>2015-02-01</th>\n",
       "      <td>207.434038</td>\n",
       "      <td>27.3</td>\n",
       "      <td>70</td>\n",
       "    </tr>\n",
       "    <tr>\n",
       "      <th>2015-03-01</th>\n",
       "      <td>221.135535</td>\n",
       "      <td>28.1</td>\n",
       "      <td>71</td>\n",
       "    </tr>\n",
       "    <tr>\n",
       "      <th>2015-04-01</th>\n",
       "      <td>209.350172</td>\n",
       "      <td>28.4</td>\n",
       "      <td>73</td>\n",
       "    </tr>\n",
       "    <tr>\n",
       "      <th>2015-05-01</th>\n",
       "      <td>223.190953</td>\n",
       "      <td>29.2</td>\n",
       "      <td>77</td>\n",
       "    </tr>\n",
       "    <tr>\n",
       "      <th>...</th>\n",
       "      <td>...</td>\n",
       "      <td>...</td>\n",
       "      <td>...</td>\n",
       "    </tr>\n",
       "    <tr>\n",
       "      <th>2021-08-01</th>\n",
       "      <td>249.853952</td>\n",
       "      <td>28.0</td>\n",
       "      <td>79</td>\n",
       "    </tr>\n",
       "    <tr>\n",
       "      <th>2021-09-01</th>\n",
       "      <td>248.756453</td>\n",
       "      <td>28.1</td>\n",
       "      <td>79</td>\n",
       "    </tr>\n",
       "    <tr>\n",
       "      <th>2021-10-01</th>\n",
       "      <td>256.566377</td>\n",
       "      <td>27.8</td>\n",
       "      <td>80</td>\n",
       "    </tr>\n",
       "    <tr>\n",
       "      <th>2021-11-01</th>\n",
       "      <td>253.725931</td>\n",
       "      <td>27.0</td>\n",
       "      <td>81</td>\n",
       "    </tr>\n",
       "    <tr>\n",
       "      <th>2021-12-01</th>\n",
       "      <td>272.805843</td>\n",
       "      <td>27.7</td>\n",
       "      <td>71</td>\n",
       "    </tr>\n",
       "  </tbody>\n",
       "</table>\n",
       "<p>84 rows × 3 columns</p>\n",
       "</div>"
      ],
      "text/plain": [
       "                Demand  Temp_Avg  HumidityDay\n",
       "Month                                        \n",
       "2015-01-01  204.912437      27.4           68\n",
       "2015-02-01  207.434038      27.3           70\n",
       "2015-03-01  221.135535      28.1           71\n",
       "2015-04-01  209.350172      28.4           73\n",
       "2015-05-01  223.190953      29.2           77\n",
       "...                ...       ...          ...\n",
       "2021-08-01  249.853952      28.0           79\n",
       "2021-09-01  248.756453      28.1           79\n",
       "2021-10-01  256.566377      27.8           80\n",
       "2021-11-01  253.725931      27.0           81\n",
       "2021-12-01  272.805843      27.7           71\n",
       "\n",
       "[84 rows x 3 columns]"
      ]
     },
     "execution_count": 21,
     "metadata": {},
     "output_type": "execute_result"
    }
   ],
   "source": [
    "df_input"
   ]
  },
  {
   "cell_type": "code",
   "execution_count": 22,
   "id": "84834a53",
   "metadata": {},
   "outputs": [],
   "source": [
    "df_train=df_input[:-12]\n",
    "df_test=df_input[-12:]"
   ]
  },
  {
   "cell_type": "code",
   "execution_count": 23,
   "id": "41498ed2",
   "metadata": {},
   "outputs": [
    {
     "data": {
      "text/plain": [
       "(72, 3)"
      ]
     },
     "execution_count": 23,
     "metadata": {},
     "output_type": "execute_result"
    }
   ],
   "source": [
    "df_train.shape"
   ]
  },
  {
   "cell_type": "code",
   "execution_count": 24,
   "id": "a8cdfac8",
   "metadata": {},
   "outputs": [
    {
     "data": {
      "text/plain": [
       "(12, 3)"
      ]
     },
     "execution_count": 24,
     "metadata": {},
     "output_type": "execute_result"
    }
   ],
   "source": [
    "df_test.shape"
   ]
  },
  {
   "cell_type": "code",
   "execution_count": 25,
   "id": "5139fc1e",
   "metadata": {},
   "outputs": [
    {
     "name": "stderr",
     "output_type": "stream",
     "text": [
      "C:\\Users\\Shani\\anaconda3\\lib\\site-packages\\statsmodels\\tsa\\base\\tsa_model.py:471: ValueWarning: No frequency information was provided, so inferred frequency MS will be used.\n",
      "  self._init_dates(dates, freq)\n"
     ]
    }
   ],
   "source": [
    "model = VAR(df_train.diff()[1:])"
   ]
  },
  {
   "cell_type": "code",
   "execution_count": 26,
   "id": "a7890582",
   "metadata": {},
   "outputs": [
    {
     "name": "stdout",
     "output_type": "stream",
     "text": [
      " VAR Order Selection (* highlights the minimums)  \n",
      "==================================================\n",
      "       AIC         BIC         FPE         HQIC   \n",
      "--------------------------------------------------\n",
      "0        8.737      8.846*       6227.       8.779\n",
      "1        8.850       9.288       6979.       9.019\n",
      "2        8.608       9.374       5496.       8.904\n",
      "3        8.552       9.647       5241.       8.975\n",
      "4        8.624       10.05       5717.       9.174\n",
      "5        8.600       10.35       5721.       9.277\n",
      "6        8.438       10.52       5049.       9.242\n",
      "7        8.447       10.86       5371.       9.378\n",
      "8        8.157       10.89       4323.       9.215\n",
      "9        7.923       10.99       3780.       9.108\n",
      "10       7.699       11.09       3451.       9.012\n",
      "11       7.562       11.29       3589.       9.002\n",
      "12       6.998       11.05       2581.       8.565\n",
      "13       7.123       11.50       4011.       8.817\n",
      "14       6.976       11.68       5352.       8.797\n",
      "15       6.726       11.76       7796.       8.674\n",
      "16      3.815*       9.180      1127.*      5.890*\n",
      "--------------------------------------------------\n"
     ]
    }
   ],
   "source": [
    "sorted_order=model.select_order(maxlags=16)\n",
    "print(sorted_order.summary())"
   ]
  },
  {
   "cell_type": "code",
   "execution_count": 31,
   "id": "154b2a17",
   "metadata": {},
   "outputs": [
    {
     "name": "stderr",
     "output_type": "stream",
     "text": [
      "C:\\Users\\Shani\\anaconda3\\lib\\site-packages\\statsmodels\\tsa\\base\\tsa_model.py:471: ValueWarning: No frequency information was provided, so inferred frequency MS will be used.\n",
      "  self._init_dates(dates, freq)\n",
      "C:\\Users\\Shani\\anaconda3\\lib\\site-packages\\statsmodels\\tsa\\statespace\\varmax.py:374: UserWarning: Non-stationary starting autoregressive parameters found. Using zeros as starting parameters.\n",
      "  warn('Non-stationary starting autoregressive parameters'\n",
      "C:\\Users\\Shani\\anaconda3\\lib\\site-packages\\statsmodels\\base\\model.py:604: ConvergenceWarning: Maximum Likelihood optimization failed to converge. Check mle_retvals\n",
      "  warnings.warn(\"Maximum Likelihood optimization failed to \"\n"
     ]
    },
    {
     "name": "stdout",
     "output_type": "stream",
     "text": [
      "                                     Statespace Model Results                                    \n",
      "=================================================================================================\n",
      "Dep. Variable:     ['Demand', 'Temp_Avg', 'HumidityDay']   No. Observations:                   72\n",
      "Model:                                           VAR(16)   Log Likelihood                -564.118\n",
      "                                             + intercept   AIC                           1434.235\n",
      "Date:                                   Thu, 23 Feb 2023   BIC                           1782.565\n",
      "Time:                                           02:21:28   HQIC                          1572.906\n",
      "Sample:                                       01-01-2015                                         \n",
      "                                            - 12-01-2020                                         \n",
      "Covariance Type:                                     opg                                         \n",
      "===================================================================================\n",
      "Ljung-Box (L1) (Q):     3.20, 20.41, 15.16   Jarque-Bera (JB):   986.86, 1.06, 4.37\n",
      "Prob(Q):                  0.07, 0.00, 0.00   Prob(JB):             0.00, 0.59, 0.11\n",
      "Heteroskedasticity (H):   4.35, 1.23, 0.68   Skew:               -3.03, 0.17, -0.51\n",
      "Prob(H) (two-sided):      0.00, 0.62, 0.35   Kurtosis:            20.09, 2.51, 3.64\n",
      "                            Results for equation Demand                            \n",
      "===================================================================================\n",
      "                      coef    std err          z      P>|z|      [0.025      0.975]\n",
      "-----------------------------------------------------------------------------------\n",
      "intercept         243.4718      0.001   2.43e+05      0.000     243.470     243.474\n",
      "L1.Demand           0.0858      0.184      0.466      0.641      -0.275       0.447\n",
      "L1.Temp_Avg        -1.2544      0.062    -20.298      0.000      -1.376      -1.133\n",
      "L1.HumidityDay     -0.1509      0.182     -0.828      0.408      -0.508       0.206\n",
      "L2.Demand          -0.1341      0.345     -0.388      0.698      -0.811       0.543\n",
      "L2.Temp_Avg        -0.6040      0.057    -10.664      0.000      -0.715      -0.493\n",
      "L2.HumidityDay     -0.1273      0.139     -0.912      0.362      -0.401       0.146\n",
      "L3.Demand          -0.0402      0.309     -0.130      0.897      -0.646       0.566\n",
      "L3.Temp_Avg         0.8681      0.054     16.142      0.000       0.763       0.974\n",
      "L3.HumidityDay      0.0271      0.154      0.177      0.860      -0.274       0.329\n",
      "L4.Demand           0.0562      0.370      0.152      0.879      -0.669       0.782\n",
      "L4.Temp_Avg         0.4008      0.052      7.722      0.000       0.299       0.503\n",
      "L4.HumidityDay     -0.2227      0.157     -1.417      0.156      -0.531       0.085\n",
      "L5.Demand           0.0723      0.366      0.197      0.843      -0.646       0.790\n",
      "L5.Temp_Avg         0.7604      0.047     16.207      0.000       0.668       0.852\n",
      "L5.HumidityDay     -0.1110      0.174     -0.639      0.523      -0.452       0.229\n",
      "L6.Demand           0.0483      0.390      0.124      0.901      -0.715       0.812\n",
      "L6.Temp_Avg         1.6972      0.043     39.487      0.000       1.613       1.781\n",
      "L6.HumidityDay     -0.1148      0.176     -0.653      0.513      -0.459       0.230\n",
      "L7.Demand           0.1093      0.212      0.515      0.607      -0.307       0.526\n",
      "L7.Temp_Avg        -0.0504      0.036     -1.407      0.159      -0.121       0.020\n",
      "L7.HumidityDay     -0.1312      0.168     -0.782      0.434      -0.460       0.198\n",
      "L8.Demand           0.0562      0.350      0.160      0.873      -0.630       0.742\n",
      "L8.Temp_Avg        -1.0179      0.031    -32.867      0.000      -1.079      -0.957\n",
      "L8.HumidityDay     -0.0673      0.117     -0.573      0.566      -0.297       0.163\n",
      "L9.Demand           0.0280      0.372      0.075      0.940      -0.702       0.757\n",
      "L9.Temp_Avg        -1.7403      0.034    -51.233      0.000      -1.807      -1.674\n",
      "L9.HumidityDay      0.1426      0.105      1.352      0.176      -0.064       0.349\n",
      "L10.Demand          0.0342      0.307      0.112      0.911      -0.567       0.636\n",
      "L10.Temp_Avg       -1.8552      0.050    -37.035      0.000      -1.953      -1.757\n",
      "L10.HumidityDay     0.0288      0.202      0.143      0.887      -0.367       0.425\n",
      "L11.Demand          0.0275      0.355      0.077      0.938      -0.669       0.724\n",
      "L11.Temp_Avg       -2.4613      0.045    -54.109      0.000      -2.550      -2.372\n",
      "L11.HumidityDay     0.0099      0.174      0.057      0.955      -0.332       0.351\n",
      "L12.Demand          0.0713      0.336      0.212      0.832      -0.588       0.730\n",
      "L12.Temp_Avg       -1.0406      0.042    -25.013      0.000      -1.122      -0.959\n",
      "L12.HumidityDay     0.4416      0.200      2.208      0.027       0.050       0.834\n",
      "L13.Demand         -0.0010      0.241     -0.004      0.997      -0.473       0.471\n",
      "L13.Temp_Avg        0.4304      0.040     10.738      0.000       0.352       0.509\n",
      "L13.HumidityDay     0.2812      0.199      1.413      0.158      -0.109       0.671\n",
      "L14.Demand          0.0411      0.217      0.190      0.849      -0.383       0.466\n",
      "L14.Temp_Avg        0.0298      0.042      0.716      0.474      -0.052       0.111\n",
      "L14.HumidityDay     0.0405      0.258      0.157      0.875      -0.464       0.546\n",
      "L15.Demand          0.0357      0.250      0.143      0.886      -0.454       0.525\n",
      "L15.Temp_Avg        1.5731      0.049     31.804      0.000       1.476       1.670\n",
      "L15.HumidityDay     0.4979      0.149      3.335      0.001       0.205       0.790\n",
      "L16.Demand         -0.0008      0.235     -0.004      0.997      -0.462       0.460\n",
      "L16.Temp_Avg       -0.8103      0.057    -14.126      0.000      -0.923      -0.698\n",
      "L16.HumidityDay    -0.2056      0.172     -1.194      0.233      -0.543       0.132\n",
      "                           Results for equation Temp_Avg                           \n",
      "===================================================================================\n",
      "                      coef    std err          z      P>|z|      [0.025      0.975]\n",
      "-----------------------------------------------------------------------------------\n",
      "intercept          28.2571      0.003   8796.161      0.000      28.251      28.263\n",
      "L1.Demand           0.0014      0.031      0.045      0.964      -0.059       0.062\n",
      "L1.Temp_Avg         0.0524      0.314      0.167      0.867      -0.563       0.667\n",
      "L1.HumidityDay      0.0072      0.136      0.053      0.958      -0.259       0.273\n",
      "L2.Demand           0.0022      0.049      0.046      0.963      -0.094       0.098\n",
      "L2.Temp_Avg         0.0914      0.355      0.258      0.797      -0.604       0.787\n",
      "L2.HumidityDay      0.0185      0.184      0.101      0.920      -0.342       0.380\n",
      "L3.Demand           0.0023      0.046      0.049      0.961      -0.088       0.093\n",
      "L3.Temp_Avg         0.0890      0.368      0.242      0.809      -0.632       0.810\n",
      "L3.HumidityDay      0.0231      0.179      0.129      0.897      -0.328       0.375\n",
      "L4.Demand           0.0014      0.023      0.062      0.950      -0.043       0.046\n",
      "L4.Temp_Avg         0.0316      0.265      0.119      0.905      -0.488       0.552\n",
      "L4.HumidityDay      0.0162      0.164      0.099      0.921      -0.306       0.339\n",
      "L5.Demand           0.0011      0.044      0.026      0.980      -0.085       0.087\n",
      "L5.Temp_Avg        -0.0422      0.207     -0.204      0.838      -0.448       0.363\n",
      "L5.HumidityDay      0.0085      0.113      0.075      0.940      -0.212       0.229\n",
      "L6.Demand          -0.0020      0.031     -0.064      0.949      -0.064       0.060\n",
      "L6.Temp_Avg        -0.1026      0.293     -0.350      0.726      -0.678       0.472\n",
      "L6.HumidityDay     -0.0097      0.143     -0.068      0.946      -0.290       0.271\n",
      "L7.Demand          -0.0045      0.062     -0.072      0.943      -0.126       0.117\n",
      "L7.Temp_Avg        -0.0905      0.301     -0.301      0.763      -0.680       0.499\n",
      "L7.HumidityDay     -0.0157      0.144     -0.109      0.913      -0.299       0.267\n",
      "L8.Demand          -0.0034      0.035     -0.096      0.923      -0.073       0.066\n",
      "L8.Temp_Avg        -0.0491      0.347     -0.142      0.887      -0.728       0.630\n",
      "L8.HumidityDay     -0.0114      0.159     -0.072      0.942      -0.322       0.299\n",
      "L9.Demand          -0.0025      0.086     -0.029      0.977      -0.170       0.165\n",
      "L9.Temp_Avg         0.0232      0.315      0.074      0.941      -0.593       0.640\n",
      "L9.HumidityDay      0.0047      0.117      0.040      0.968      -0.225       0.234\n",
      "L10.Demand         -0.0023      0.074     -0.031      0.975      -0.147       0.143\n",
      "L10.Temp_Avg        0.0815      0.308      0.265      0.791      -0.522       0.686\n",
      "L10.HumidityDay     0.0105      0.145      0.073      0.942      -0.273       0.294\n",
      "L11.Demand         -0.0005      0.066     -0.008      0.994      -0.130       0.129\n",
      "L11.Temp_Avg        0.1345      0.248      0.543      0.587      -0.351       0.620\n",
      "L11.HumidityDay     0.0140      0.131      0.107      0.915      -0.243       0.271\n",
      "L12.Demand         -0.0009      0.061     -0.015      0.988      -0.121       0.119\n",
      "L12.Temp_Avg        0.1258      0.190      0.662      0.508      -0.247       0.498\n",
      "L12.HumidityDay     0.0018      0.153      0.011      0.991      -0.298       0.301\n",
      "L13.Demand         -0.0006      0.059     -0.011      0.991      -0.116       0.114\n",
      "L13.Temp_Avg        0.0502      0.297      0.169      0.866      -0.531       0.632\n",
      "L13.HumidityDay    -0.0157      0.143     -0.109      0.913      -0.297       0.265\n",
      "L14.Demand         -0.0012      0.064     -0.019      0.985      -0.127       0.125\n",
      "L14.Temp_Avg       -0.0120      0.207     -0.058      0.954      -0.418       0.394\n",
      "L14.HumidityDay    -0.0316      0.186     -0.170      0.865      -0.396       0.333\n",
      "L15.Demand         -0.0011      0.064     -0.017      0.987      -0.127       0.125\n",
      "L15.Temp_Avg       -0.0715      0.431     -0.166      0.868      -0.916       0.773\n",
      "L15.HumidityDay    -0.0360      0.116     -0.310      0.757      -0.264       0.192\n",
      "L16.Demand         -0.0008      0.065     -0.012      0.990      -0.128       0.126\n",
      "L16.Temp_Avg       -0.0913      0.218     -0.419      0.675      -0.518       0.336\n",
      "L16.HumidityDay    -0.0296      0.160     -0.184      0.854      -0.344       0.285\n",
      "                          Results for equation HumidityDay                         \n",
      "===================================================================================\n",
      "                      coef    std err          z      P>|z|      [0.025      0.975]\n",
      "-----------------------------------------------------------------------------------\n",
      "intercept          74.0277      0.001   6.19e+04      0.000      74.025      74.030\n",
      "L1.Demand          -0.0167      0.077     -0.217      0.828      -0.168       0.134\n",
      "L1.Temp_Avg        -0.4534      0.081     -5.625      0.000      -0.611      -0.295\n",
      "L1.HumidityDay     -0.1546      0.435     -0.355      0.722      -1.008       0.698\n",
      "L2.Demand          -0.0120      0.161     -0.074      0.941      -0.327       0.303\n",
      "L2.Temp_Avg        -0.0904      0.128     -0.704      0.481      -0.342       0.161\n",
      "L2.HumidityDay     -0.0785      0.419     -0.188      0.851      -0.899       0.742\n",
      "L3.Demand           0.0006      0.146      0.004      0.997      -0.286       0.287\n",
      "L3.Temp_Avg         0.2817      0.128      2.205      0.027       0.031       0.532\n",
      "L3.HumidityDay      0.0065      0.367      0.018      0.986      -0.713       0.726\n",
      "L4.Demand           0.0119      0.199      0.060      0.952      -0.377       0.401\n",
      "L4.Temp_Avg         0.4373      0.106      4.107      0.000       0.229       0.646\n",
      "L4.HumidityDay      0.0409      0.299      0.137      0.891      -0.545       0.626\n",
      "L5.Demand           0.0072      0.124      0.058      0.953      -0.236       0.250\n",
      "L5.Temp_Avg         0.4247      0.074      5.732      0.000       0.279       0.570\n",
      "L5.HumidityDay      0.0087      0.277      0.031      0.975      -0.534       0.552\n",
      "L6.Demand           0.0044      0.205      0.021      0.983      -0.398       0.407\n",
      "L6.Temp_Avg         0.2053      0.096      2.131      0.033       0.016       0.394\n",
      "L6.HumidityDay      0.0079      0.283      0.028      0.978      -0.547       0.563\n",
      "L7.Demand           0.0005      0.183      0.003      0.998      -0.358       0.359\n",
      "L7.Temp_Avg        -0.3152      0.080     -3.931      0.000      -0.472      -0.158\n",
      "L7.HumidityDay     -0.0713      0.361     -0.197      0.844      -0.779       0.636\n",
      "L8.Demand          -0.0088      0.176     -0.050      0.960      -0.354       0.337\n",
      "L8.Temp_Avg        -0.7912      0.116     -6.794      0.000      -1.019      -0.563\n",
      "L8.HumidityDay     -0.1309      0.408     -0.321      0.748      -0.930       0.668\n",
      "L9.Demand          -0.0091      0.295     -0.031      0.976      -0.588       0.570\n",
      "L9.Temp_Avg        -1.0579      0.065    -16.300      0.000      -1.185      -0.931\n",
      "L9.HumidityDay     -0.1150      0.328     -0.350      0.726      -0.759       0.529\n",
      "L10.Demand         -0.0079      0.222     -0.035      0.972      -0.443       0.427\n",
      "L10.Temp_Avg       -0.5613      0.116     -4.828      0.000      -0.789      -0.333\n",
      "L10.HumidityDay    -0.0018      0.456     -0.004      0.997      -0.895       0.891\n",
      "L11.Demand         -0.0019      0.187     -0.010      0.992      -0.368       0.364\n",
      "L11.Temp_Avg        0.1627      0.087      1.870      0.061      -0.008       0.333\n",
      "L11.HumidityDay     0.1590      0.313      0.508      0.611      -0.454       0.772\n",
      "L12.Demand          0.0106      0.256      0.041      0.967      -0.492       0.513\n",
      "L12.Temp_Avg        0.7321      0.098      7.483      0.000       0.540       0.924\n",
      "L12.HumidityDay     0.2731      0.232      1.175      0.240      -0.182       0.729\n",
      "L13.Demand          0.0103      0.206      0.050      0.960      -0.394       0.414\n",
      "L13.Temp_Avg        0.7245      0.096      7.515      0.000       0.536       0.913\n",
      "L13.HumidityDay     0.2007      0.256      0.785      0.432      -0.300       0.702\n",
      "L14.Demand          0.0096      0.300      0.032      0.975      -0.579       0.598\n",
      "L14.Temp_Avg        0.4826      0.105      4.618      0.000       0.278       0.687\n",
      "L14.HumidityDay     0.0629      0.319      0.197      0.844      -0.563       0.689\n",
      "L15.Demand          0.0032      0.178      0.018      0.986      -0.345       0.351\n",
      "L15.Temp_Avg        0.0415      0.165      0.252      0.801      -0.282       0.365\n",
      "L15.HumidityDay    -0.0531      0.328     -0.162      0.871      -0.696       0.589\n",
      "L16.Demand         -0.0014      0.240     -0.006      0.995      -0.471       0.468\n",
      "L16.Temp_Avg       -0.3553      0.167     -2.130      0.033      -0.682      -0.028\n",
      "L16.HumidityDay    -0.1099      0.291     -0.378      0.705      -0.680       0.460\n",
      "                                     Error covariance matrix                                     \n",
      "=================================================================================================\n",
      "                                    coef    std err          z      P>|z|      [0.025      0.975]\n",
      "-------------------------------------------------------------------------------------------------\n",
      "sqrt.var.Demand                  19.5621      0.072    270.484      0.000      19.420      19.704\n",
      "sqrt.cov.Demand.Temp_Avg          0.1002      0.368      0.272      0.785      -0.620       0.821\n",
      "sqrt.var.Temp_Avg                 0.7561      0.201      3.761      0.000       0.362       1.150\n",
      "sqrt.cov.Demand.HumidityDay      -0.7637      0.182     -4.193      0.000      -1.121      -0.407\n",
      "sqrt.cov.Temp_Avg.HumidityDay    -1.6874      0.172     -9.790      0.000      -2.025      -1.350\n",
      "sqrt.var.HumidityDay              2.8264      0.348      8.124      0.000       2.145       3.508\n",
      "=================================================================================================\n",
      "\n",
      "Warnings:\n",
      "[1] Covariance matrix calculated using the outer product of gradients (complex-step).\n",
      "[2] Covariance matrix is singular or near-singular, with condition number 6.33e+19. Standard errors may be unstable.\n"
     ]
    }
   ],
   "source": [
    "var_model = VARMAX(df_train, order=(16,0),enforce_stationarity= True)\n",
    "fitted_model = var_model.fit(disp=False)\n",
    "print(fitted_model.summary())"
   ]
  },
  {
   "cell_type": "code",
   "execution_count": 32,
   "id": "3cd0746b",
   "metadata": {},
   "outputs": [],
   "source": [
    "n_forecast = 12\n",
    "predict = fitted_model.get_prediction(start=len(df_train),end=len(df_train) + n_forecast-1)\n",
    "predictions=predict.predicted_mean"
   ]
  },
  {
   "cell_type": "code",
   "execution_count": 33,
   "id": "0f346113",
   "metadata": {},
   "outputs": [
    {
     "data": {
      "text/html": [
       "<div>\n",
       "<style scoped>\n",
       "    .dataframe tbody tr th:only-of-type {\n",
       "        vertical-align: middle;\n",
       "    }\n",
       "\n",
       "    .dataframe tbody tr th {\n",
       "        vertical-align: top;\n",
       "    }\n",
       "\n",
       "    .dataframe thead th {\n",
       "        text-align: right;\n",
       "    }\n",
       "</style>\n",
       "<table border=\"1\" class=\"dataframe\">\n",
       "  <thead>\n",
       "    <tr style=\"text-align: right;\">\n",
       "      <th></th>\n",
       "      <th>Demand_predicted</th>\n",
       "      <th>Temp_Avg_predicted</th>\n",
       "      <th>HumidityDay_predicted</th>\n",
       "    </tr>\n",
       "  </thead>\n",
       "  <tbody>\n",
       "    <tr>\n",
       "      <th>2021-01-01</th>\n",
       "      <td>244.924108</td>\n",
       "      <td>27.822130</td>\n",
       "      <td>69.014703</td>\n",
       "    </tr>\n",
       "    <tr>\n",
       "      <th>2021-02-01</th>\n",
       "      <td>237.408605</td>\n",
       "      <td>28.283346</td>\n",
       "      <td>67.547916</td>\n",
       "    </tr>\n",
       "    <tr>\n",
       "      <th>2021-03-01</th>\n",
       "      <td>229.645830</td>\n",
       "      <td>28.458924</td>\n",
       "      <td>68.233431</td>\n",
       "    </tr>\n",
       "    <tr>\n",
       "      <th>2021-04-01</th>\n",
       "      <td>229.487644</td>\n",
       "      <td>28.813994</td>\n",
       "      <td>70.855136</td>\n",
       "    </tr>\n",
       "    <tr>\n",
       "      <th>2021-05-01</th>\n",
       "      <td>247.300785</td>\n",
       "      <td>28.983776</td>\n",
       "      <td>74.842410</td>\n",
       "    </tr>\n",
       "    <tr>\n",
       "      <th>2021-06-01</th>\n",
       "      <td>247.327518</td>\n",
       "      <td>28.932808</td>\n",
       "      <td>76.491180</td>\n",
       "    </tr>\n",
       "    <tr>\n",
       "      <th>2021-07-01</th>\n",
       "      <td>246.599716</td>\n",
       "      <td>28.674299</td>\n",
       "      <td>77.487839</td>\n",
       "    </tr>\n",
       "    <tr>\n",
       "      <th>2021-08-01</th>\n",
       "      <td>257.781096</td>\n",
       "      <td>28.441985</td>\n",
       "      <td>78.317671</td>\n",
       "    </tr>\n",
       "    <tr>\n",
       "      <th>2021-09-01</th>\n",
       "      <td>255.884466</td>\n",
       "      <td>28.247602</td>\n",
       "      <td>77.953202</td>\n",
       "    </tr>\n",
       "    <tr>\n",
       "      <th>2021-10-01</th>\n",
       "      <td>249.228220</td>\n",
       "      <td>28.266344</td>\n",
       "      <td>77.393462</td>\n",
       "    </tr>\n",
       "    <tr>\n",
       "      <th>2021-11-01</th>\n",
       "      <td>243.924364</td>\n",
       "      <td>28.099498</td>\n",
       "      <td>75.077718</td>\n",
       "    </tr>\n",
       "    <tr>\n",
       "      <th>2021-12-01</th>\n",
       "      <td>243.759555</td>\n",
       "      <td>27.928989</td>\n",
       "      <td>72.082899</td>\n",
       "    </tr>\n",
       "  </tbody>\n",
       "</table>\n",
       "</div>"
      ],
      "text/plain": [
       "            Demand_predicted  Temp_Avg_predicted  HumidityDay_predicted\n",
       "2021-01-01        244.924108           27.822130              69.014703\n",
       "2021-02-01        237.408605           28.283346              67.547916\n",
       "2021-03-01        229.645830           28.458924              68.233431\n",
       "2021-04-01        229.487644           28.813994              70.855136\n",
       "2021-05-01        247.300785           28.983776              74.842410\n",
       "2021-06-01        247.327518           28.932808              76.491180\n",
       "2021-07-01        246.599716           28.674299              77.487839\n",
       "2021-08-01        257.781096           28.441985              78.317671\n",
       "2021-09-01        255.884466           28.247602              77.953202\n",
       "2021-10-01        249.228220           28.266344              77.393462\n",
       "2021-11-01        243.924364           28.099498              75.077718\n",
       "2021-12-01        243.759555           27.928989              72.082899"
      ]
     },
     "execution_count": 33,
     "metadata": {},
     "output_type": "execute_result"
    }
   ],
   "source": [
    "predictions.columns=['Demand_predicted','Temp_Avg_predicted','HumidityDay_predicted']\n",
    "predictions"
   ]
  },
  {
   "cell_type": "code",
   "execution_count": 34,
   "id": "4cf99d57",
   "metadata": {},
   "outputs": [
    {
     "data": {
      "text/html": [
       "<div>\n",
       "<style scoped>\n",
       "    .dataframe tbody tr th:only-of-type {\n",
       "        vertical-align: middle;\n",
       "    }\n",
       "\n",
       "    .dataframe tbody tr th {\n",
       "        vertical-align: top;\n",
       "    }\n",
       "\n",
       "    .dataframe thead th {\n",
       "        text-align: right;\n",
       "    }\n",
       "</style>\n",
       "<table border=\"1\" class=\"dataframe\">\n",
       "  <thead>\n",
       "    <tr style=\"text-align: right;\">\n",
       "      <th></th>\n",
       "      <th>Demand</th>\n",
       "      <th>Temp_Avg</th>\n",
       "      <th>HumidityDay</th>\n",
       "      <th>Demand_predicted</th>\n",
       "      <th>Temp_Avg_predicted</th>\n",
       "      <th>HumidityDay_predicted</th>\n",
       "    </tr>\n",
       "  </thead>\n",
       "  <tbody>\n",
       "    <tr>\n",
       "      <th>2021-01-01</th>\n",
       "      <td>265.939509</td>\n",
       "      <td>27.2</td>\n",
       "      <td>75</td>\n",
       "      <td>244.924108</td>\n",
       "      <td>27.822130</td>\n",
       "      <td>69.014703</td>\n",
       "    </tr>\n",
       "    <tr>\n",
       "      <th>2021-02-01</th>\n",
       "      <td>239.516820</td>\n",
       "      <td>28.0</td>\n",
       "      <td>66</td>\n",
       "      <td>237.408605</td>\n",
       "      <td>28.283346</td>\n",
       "      <td>67.547916</td>\n",
       "    </tr>\n",
       "    <tr>\n",
       "      <th>2021-03-01</th>\n",
       "      <td>271.199958</td>\n",
       "      <td>27.9</td>\n",
       "      <td>72</td>\n",
       "      <td>229.645830</td>\n",
       "      <td>28.458924</td>\n",
       "      <td>68.233431</td>\n",
       "    </tr>\n",
       "    <tr>\n",
       "      <th>2021-04-01</th>\n",
       "      <td>254.523678</td>\n",
       "      <td>28.7</td>\n",
       "      <td>73</td>\n",
       "      <td>229.487644</td>\n",
       "      <td>28.813994</td>\n",
       "      <td>70.855136</td>\n",
       "    </tr>\n",
       "    <tr>\n",
       "      <th>2021-05-01</th>\n",
       "      <td>247.569837</td>\n",
       "      <td>28.7</td>\n",
       "      <td>77</td>\n",
       "      <td>247.300785</td>\n",
       "      <td>28.983776</td>\n",
       "      <td>74.842410</td>\n",
       "    </tr>\n",
       "    <tr>\n",
       "      <th>2021-06-01</th>\n",
       "      <td>246.221979</td>\n",
       "      <td>28.7</td>\n",
       "      <td>77</td>\n",
       "      <td>247.327518</td>\n",
       "      <td>28.932808</td>\n",
       "      <td>76.491180</td>\n",
       "    </tr>\n",
       "    <tr>\n",
       "      <th>2021-07-01</th>\n",
       "      <td>265.260417</td>\n",
       "      <td>28.3</td>\n",
       "      <td>79</td>\n",
       "      <td>246.599716</td>\n",
       "      <td>28.674299</td>\n",
       "      <td>77.487839</td>\n",
       "    </tr>\n",
       "    <tr>\n",
       "      <th>2021-08-01</th>\n",
       "      <td>249.853952</td>\n",
       "      <td>28.0</td>\n",
       "      <td>79</td>\n",
       "      <td>257.781096</td>\n",
       "      <td>28.441985</td>\n",
       "      <td>78.317671</td>\n",
       "    </tr>\n",
       "    <tr>\n",
       "      <th>2021-09-01</th>\n",
       "      <td>248.756453</td>\n",
       "      <td>28.1</td>\n",
       "      <td>79</td>\n",
       "      <td>255.884466</td>\n",
       "      <td>28.247602</td>\n",
       "      <td>77.953202</td>\n",
       "    </tr>\n",
       "    <tr>\n",
       "      <th>2021-10-01</th>\n",
       "      <td>256.566377</td>\n",
       "      <td>27.8</td>\n",
       "      <td>80</td>\n",
       "      <td>249.228220</td>\n",
       "      <td>28.266344</td>\n",
       "      <td>77.393462</td>\n",
       "    </tr>\n",
       "    <tr>\n",
       "      <th>2021-11-01</th>\n",
       "      <td>253.725931</td>\n",
       "      <td>27.0</td>\n",
       "      <td>81</td>\n",
       "      <td>243.924364</td>\n",
       "      <td>28.099498</td>\n",
       "      <td>75.077718</td>\n",
       "    </tr>\n",
       "    <tr>\n",
       "      <th>2021-12-01</th>\n",
       "      <td>272.805843</td>\n",
       "      <td>27.7</td>\n",
       "      <td>71</td>\n",
       "      <td>243.759555</td>\n",
       "      <td>27.928989</td>\n",
       "      <td>72.082899</td>\n",
       "    </tr>\n",
       "  </tbody>\n",
       "</table>\n",
       "</div>"
      ],
      "text/plain": [
       "                Demand  Temp_Avg  HumidityDay  Demand_predicted  \\\n",
       "2021-01-01  265.939509      27.2           75        244.924108   \n",
       "2021-02-01  239.516820      28.0           66        237.408605   \n",
       "2021-03-01  271.199958      27.9           72        229.645830   \n",
       "2021-04-01  254.523678      28.7           73        229.487644   \n",
       "2021-05-01  247.569837      28.7           77        247.300785   \n",
       "2021-06-01  246.221979      28.7           77        247.327518   \n",
       "2021-07-01  265.260417      28.3           79        246.599716   \n",
       "2021-08-01  249.853952      28.0           79        257.781096   \n",
       "2021-09-01  248.756453      28.1           79        255.884466   \n",
       "2021-10-01  256.566377      27.8           80        249.228220   \n",
       "2021-11-01  253.725931      27.0           81        243.924364   \n",
       "2021-12-01  272.805843      27.7           71        243.759555   \n",
       "\n",
       "            Temp_Avg_predicted  HumidityDay_predicted  \n",
       "2021-01-01           27.822130              69.014703  \n",
       "2021-02-01           28.283346              67.547916  \n",
       "2021-03-01           28.458924              68.233431  \n",
       "2021-04-01           28.813994              70.855136  \n",
       "2021-05-01           28.983776              74.842410  \n",
       "2021-06-01           28.932808              76.491180  \n",
       "2021-07-01           28.674299              77.487839  \n",
       "2021-08-01           28.441985              78.317671  \n",
       "2021-09-01           28.247602              77.953202  \n",
       "2021-10-01           28.266344              77.393462  \n",
       "2021-11-01           28.099498              75.077718  \n",
       "2021-12-01           27.928989              72.082899  "
      ]
     },
     "execution_count": 34,
     "metadata": {},
     "output_type": "execute_result"
    }
   ],
   "source": [
    "test_vs_pred=pd.concat([df_test,predictions],axis=1)\n",
    "test_vs_pred"
   ]
  },
  {
   "cell_type": "code",
   "execution_count": 35,
   "id": "c3bef32e",
   "metadata": {},
   "outputs": [
    {
     "data": {
      "text/plain": [
       "<AxesSubplot:>"
      ]
     },
     "execution_count": 35,
     "metadata": {},
     "output_type": "execute_result"
    },
    {
     "data": {
      "image/png": "[encoded data removed]",
      "text/plain": [
       "<Figure size 1200x500 with 1 Axes>"
      ]
     },
     "metadata": {},
     "output_type": "display_data"
    }
   ],
   "source": [
    "test_vs_pred.plot(figsize=(12,5))"
   ]
  },
  {
   "cell_type": "code",
   "execution_count": 40,
   "id": "78ee044e",
   "metadata": {},
   "outputs": [
    {
     "name": "stdout",
     "output_type": "stream",
     "text": [
      "[3.54700910e+02 2.30291268e-01 9.06746044e+00]\n"
     ]
    }
   ],
   "source": [
    "Mean_Square_Error=mean_squared_error(df_test,predictions,multioutput='raw_values')\n",
    "print(Mean_Square_Error)"
   ]
  },
  {
   "cell_type": "code",
   "execution_count": 46,
   "id": "3117ee2c",
   "metadata": {},
   "outputs": [
    {
     "name": "stdout",
     "output_type": "stream",
     "text": [
      "11.015120849835036\n"
     ]
    }
   ],
   "source": [
    "Root_Mean_Square_Error=sqrt(mean_squared_error(df_test,predictions))\n",
    "print(Root_Mean_Square_Error)"
   ]
  },
  {
   "cell_type": "code",
   "execution_count": 48,
   "id": "f2792c0e",
   "metadata": {},
   "outputs": [
    {
     "name": "stdout",
     "output_type": "stream",
     "text": [
      "5.689111030845804\n"
     ]
    }
   ],
   "source": [
    "Mean_Absolute_Error=mean_absolute_error(df_test,predictions)\n",
    "print(Mean_Absolute_Error)"
   ]
  },
  {
   "cell_type": "code",
   "execution_count": 49,
   "id": "f7180e09",
   "metadata": {},
   "outputs": [
    {
     "name": "stdout",
     "output_type": "stream",
     "text": [
      "-1.9960581632215668\n"
     ]
    }
   ],
   "source": [
    "R2_Error=r2_score(df_test,predictions,multioutput='variance_weighted')\n",
    "print(R2_Error)"
   ]
  },
  {
   "cell_type": "code",
   "execution_count": null,
   "id": "78ee6f5a",
   "metadata": {},
   "outputs": [],
   "source": []
  }
 ],
 "metadata": {
  "kernelspec": {
   "display_name": "Python 3 (ipykernel)",
   "language": "python",
   "name": "python3"
  },
  "language_info": {
   "codemirror_mode": {
    "name": "ipython",
    "version": 3
   },
   "file_extension": ".py",
   "mimetype": "text/x-python",
   "name": "python",
   "nbconvert_exporter": "python",
   "pygments_lexer": "ipython3",
   "version": "3.9.13"
  },
  "toc": {
   "base_numbering": 1,
   "nav_menu": {},
   "number_sections": true,
   "sideBar": true,
   "skip_h1_title": false,
   "title_cell": "Table of Contents",
   "title_sidebar": "Contents",
   "toc_cell": false,
   "toc_position": {},
   "toc_section_display": true,
   "toc_window_display": false
  }
 },
 "nbformat": 4,
 "nbformat_minor": 5
}
