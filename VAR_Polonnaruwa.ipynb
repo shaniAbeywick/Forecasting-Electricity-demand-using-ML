{
 "cells": [
  {
   "cell_type": "code",
   "execution_count": 1,
   "id": "174cd63d",
   "metadata": {},
   "outputs": [],
   "source": [
    "import numpy as np\n",
    "import pandas as pd\n",
    "import matplotlib.pyplot as plt\n",
    "import statsmodels.api as sm\n",
    "from statsmodels.graphics.tsaplots import plot_acf, plot_pacf\n",
    "from statsmodels.tsa.statespace.varmax import VARMAX\n",
    "from statsmodels.tsa.api import VAR\n",
    "from statsmodels.tsa.stattools import grangercausalitytests, adfuller\n",
    "from sklearn.impute import SimpleImputer # import simple imputer\n",
    "from math import sqrt\n",
    "from sklearn.metrics import mean_squared_error,mean_absolute_error,mean_absolute_percentage_error,r2_score\n"
   ]
  },
  {
   "cell_type": "code",
   "execution_count": 2,
   "id": "0a1345d9",
   "metadata": {},
   "outputs": [
    {
     "name": "stdout",
     "output_type": "stream",
     "text": [
      "(84, 7)\n"
     ]
    },
    {
     "data": {
      "text/html": [
       "<div>\n",
       "<style scoped>\n",
       "    .dataframe tbody tr th:only-of-type {\n",
       "        vertical-align: middle;\n",
       "    }\n",
       "\n",
       "    .dataframe tbody tr th {\n",
       "        vertical-align: top;\n",
       "    }\n",
       "\n",
       "    .dataframe thead th {\n",
       "        text-align: right;\n",
       "    }\n",
       "</style>\n",
       "<table border=\"1\" class=\"dataframe\">\n",
       "  <thead>\n",
       "    <tr style=\"text-align: right;\">\n",
       "      <th></th>\n",
       "      <th>Demand</th>\n",
       "      <th>Temp_Avg</th>\n",
       "      <th>Temp_Max</th>\n",
       "      <th>Temp_Min</th>\n",
       "      <th>Rainfall_Avg</th>\n",
       "      <th>HumidityDay</th>\n",
       "      <th>HumidityNight</th>\n",
       "    </tr>\n",
       "    <tr>\n",
       "      <th>Month</th>\n",
       "      <th></th>\n",
       "      <th></th>\n",
       "      <th></th>\n",
       "      <th></th>\n",
       "      <th></th>\n",
       "      <th></th>\n",
       "      <th></th>\n",
       "    </tr>\n",
       "  </thead>\n",
       "  <tbody>\n",
       "    <tr>\n",
       "      <th>2015-01-01</th>\n",
       "      <td>12.418261</td>\n",
       "      <td>25.8</td>\n",
       "      <td>30.6</td>\n",
       "      <td>21.0</td>\n",
       "      <td>3.3</td>\n",
       "      <td>73.0</td>\n",
       "      <td>NaN</td>\n",
       "    </tr>\n",
       "    <tr>\n",
       "      <th>2015-02-01</th>\n",
       "      <td>12.161542</td>\n",
       "      <td>25.9</td>\n",
       "      <td>30.6</td>\n",
       "      <td>21.2</td>\n",
       "      <td>57.5</td>\n",
       "      <td>77.0</td>\n",
       "      <td>NaN</td>\n",
       "    </tr>\n",
       "    <tr>\n",
       "      <th>2015-03-01</th>\n",
       "      <td>12.368027</td>\n",
       "      <td>27.6</td>\n",
       "      <td>33.3</td>\n",
       "      <td>22.0</td>\n",
       "      <td>14.8</td>\n",
       "      <td>71.0</td>\n",
       "      <td>NaN</td>\n",
       "    </tr>\n",
       "    <tr>\n",
       "      <th>2015-04-01</th>\n",
       "      <td>13.252103</td>\n",
       "      <td>28.5</td>\n",
       "      <td>33.6</td>\n",
       "      <td>23.5</td>\n",
       "      <td>264.2</td>\n",
       "      <td>69.0</td>\n",
       "      <td>NaN</td>\n",
       "    </tr>\n",
       "    <tr>\n",
       "      <th>2015-05-01</th>\n",
       "      <td>13.522365</td>\n",
       "      <td>28.7</td>\n",
       "      <td>32.7</td>\n",
       "      <td>24.6</td>\n",
       "      <td>144.9</td>\n",
       "      <td>67.0</td>\n",
       "      <td>NaN</td>\n",
       "    </tr>\n",
       "  </tbody>\n",
       "</table>\n",
       "</div>"
      ],
      "text/plain": [
       "               Demand  Temp_Avg  Temp_Max  Temp_Min  Rainfall_Avg  \\\n",
       "Month                                                               \n",
       "2015-01-01  12.418261      25.8      30.6      21.0           3.3   \n",
       "2015-02-01  12.161542      25.9      30.6      21.2          57.5   \n",
       "2015-03-01  12.368027      27.6      33.3      22.0          14.8   \n",
       "2015-04-01  13.252103      28.5      33.6      23.5         264.2   \n",
       "2015-05-01  13.522365      28.7      32.7      24.6         144.9   \n",
       "\n",
       "            HumidityDay  HumidityNight  \n",
       "Month                                   \n",
       "2015-01-01         73.0            NaN  \n",
       "2015-02-01         77.0            NaN  \n",
       "2015-03-01         71.0            NaN  \n",
       "2015-04-01         69.0            NaN  \n",
       "2015-05-01         67.0            NaN  "
      ]
     },
     "execution_count": 2,
     "metadata": {},
     "output_type": "execute_result"
    }
   ],
   "source": [
    "filepath = '../Data/final/Polonnaruwa_demand.csv'\n",
    "data = pd.read_csv(filepath, index_col=\"Month\",parse_dates=[\"Month\"])\n",
    "print(data.shape) \n",
    "data.head()"
   ]
  },
  {
   "cell_type": "code",
   "execution_count": 3,
   "id": "448092f3",
   "metadata": {},
   "outputs": [
    {
     "data": {
      "text/html": [
       "<div>\n",
       "<style scoped>\n",
       "    .dataframe tbody tr th:only-of-type {\n",
       "        vertical-align: middle;\n",
       "    }\n",
       "\n",
       "    .dataframe tbody tr th {\n",
       "        vertical-align: top;\n",
       "    }\n",
       "\n",
       "    .dataframe thead th {\n",
       "        text-align: right;\n",
       "    }\n",
       "</style>\n",
       "<table border=\"1\" class=\"dataframe\">\n",
       "  <thead>\n",
       "    <tr style=\"text-align: right;\">\n",
       "      <th></th>\n",
       "      <th>Demand</th>\n",
       "      <th>Temp_Avg</th>\n",
       "      <th>Temp_Max</th>\n",
       "      <th>Temp_Min</th>\n",
       "      <th>Rainfall_Avg</th>\n",
       "      <th>HumidityDay</th>\n",
       "      <th>HumidityNight</th>\n",
       "    </tr>\n",
       "  </thead>\n",
       "  <tbody>\n",
       "    <tr>\n",
       "      <th>count</th>\n",
       "      <td>84.000000</td>\n",
       "      <td>84.000000</td>\n",
       "      <td>84.000000</td>\n",
       "      <td>84.000000</td>\n",
       "      <td>84.000000</td>\n",
       "      <td>82.000000</td>\n",
       "      <td>0.0</td>\n",
       "    </tr>\n",
       "    <tr>\n",
       "      <th>mean</th>\n",
       "      <td>18.832599</td>\n",
       "      <td>27.841667</td>\n",
       "      <td>32.089286</td>\n",
       "      <td>23.586905</td>\n",
       "      <td>120.180952</td>\n",
       "      <td>66.597561</td>\n",
       "      <td>NaN</td>\n",
       "    </tr>\n",
       "    <tr>\n",
       "      <th>std</th>\n",
       "      <td>4.174318</td>\n",
       "      <td>1.348110</td>\n",
       "      <td>1.615439</td>\n",
       "      <td>1.567346</td>\n",
       "      <td>129.479679</td>\n",
       "      <td>10.019561</td>\n",
       "      <td>NaN</td>\n",
       "    </tr>\n",
       "    <tr>\n",
       "      <th>min</th>\n",
       "      <td>6.966887</td>\n",
       "      <td>25.100000</td>\n",
       "      <td>28.500000</td>\n",
       "      <td>19.900000</td>\n",
       "      <td>0.000000</td>\n",
       "      <td>47.000000</td>\n",
       "      <td>NaN</td>\n",
       "    </tr>\n",
       "    <tr>\n",
       "      <th>25%</th>\n",
       "      <td>15.766770</td>\n",
       "      <td>26.700000</td>\n",
       "      <td>30.800000</td>\n",
       "      <td>22.375000</td>\n",
       "      <td>18.250000</td>\n",
       "      <td>57.000000</td>\n",
       "      <td>NaN</td>\n",
       "    </tr>\n",
       "    <tr>\n",
       "      <th>50%</th>\n",
       "      <td>19.971737</td>\n",
       "      <td>28.200000</td>\n",
       "      <td>32.100000</td>\n",
       "      <td>23.900000</td>\n",
       "      <td>75.000000</td>\n",
       "      <td>67.000000</td>\n",
       "      <td>NaN</td>\n",
       "    </tr>\n",
       "    <tr>\n",
       "      <th>75%</th>\n",
       "      <td>21.791048</td>\n",
       "      <td>28.825000</td>\n",
       "      <td>33.300000</td>\n",
       "      <td>24.800000</td>\n",
       "      <td>176.650000</td>\n",
       "      <td>75.000000</td>\n",
       "      <td>NaN</td>\n",
       "    </tr>\n",
       "    <tr>\n",
       "      <th>max</th>\n",
       "      <td>34.198090</td>\n",
       "      <td>30.400000</td>\n",
       "      <td>35.900000</td>\n",
       "      <td>26.700000</td>\n",
       "      <td>564.200000</td>\n",
       "      <td>84.000000</td>\n",
       "      <td>NaN</td>\n",
       "    </tr>\n",
       "  </tbody>\n",
       "</table>\n",
       "</div>"
      ],
      "text/plain": [
       "          Demand   Temp_Avg   Temp_Max   Temp_Min  Rainfall_Avg  HumidityDay  \\\n",
       "count  84.000000  84.000000  84.000000  84.000000     84.000000    82.000000   \n",
       "mean   18.832599  27.841667  32.089286  23.586905    120.180952    66.597561   \n",
       "std     4.174318   1.348110   1.615439   1.567346    129.479679    10.019561   \n",
       "min     6.966887  25.100000  28.500000  19.900000      0.000000    47.000000   \n",
       "25%    15.766770  26.700000  30.800000  22.375000     18.250000    57.000000   \n",
       "50%    19.971737  28.200000  32.100000  23.900000     75.000000    67.000000   \n",
       "75%    21.791048  28.825000  33.300000  24.800000    176.650000    75.000000   \n",
       "max    34.198090  30.400000  35.900000  26.700000    564.200000    84.000000   \n",
       "\n",
       "       HumidityNight  \n",
       "count            0.0  \n",
       "mean             NaN  \n",
       "std              NaN  \n",
       "min              NaN  \n",
       "25%              NaN  \n",
       "50%              NaN  \n",
       "75%              NaN  \n",
       "max              NaN  "
      ]
     },
     "execution_count": 3,
     "metadata": {},
     "output_type": "execute_result"
    }
   ],
   "source": [
    "data.describe(include='all')"
   ]
  },
  {
   "cell_type": "code",
   "execution_count": 4,
   "id": "fdbb4843",
   "metadata": {},
   "outputs": [
    {
     "data": {
      "text/plain": [
       "Demand            0\n",
       "Temp_Avg          0\n",
       "Temp_Max          0\n",
       "Temp_Min          0\n",
       "Rainfall_Avg      0\n",
       "HumidityDay       2\n",
       "HumidityNight    84\n",
       "dtype: int64"
      ]
     },
     "execution_count": 4,
     "metadata": {},
     "output_type": "execute_result"
    }
   ],
   "source": [
    "data.isnull().sum() #return true/ false. If ture , its a missing place. If false, it contains a values."
   ]
  },
  {
   "cell_type": "code",
   "execution_count": 5,
   "id": "ed786fac",
   "metadata": {},
   "outputs": [
    {
     "data": {
      "text/plain": [
       "Demand            0\n",
       "Temp_Avg          0\n",
       "Temp_Max          0\n",
       "Temp_Min          0\n",
       "Rainfall_Avg      0\n",
       "HumidityDay       2\n",
       "HumidityNight    84\n",
       "dtype: int64"
      ]
     },
     "execution_count": 5,
     "metadata": {},
     "output_type": "execute_result"
    }
   ],
   "source": [
    "sample_data= data.copy()\n",
    "sample_data.isnull().sum()"
   ]
  },
  {
   "cell_type": "code",
   "execution_count": 6,
   "id": "1ea989b4",
   "metadata": {},
   "outputs": [
    {
     "data": {
      "text/plain": [
       "Demand          0\n",
       "Temp_Avg        0\n",
       "Temp_Max        0\n",
       "Temp_Min        0\n",
       "Rainfall_Avg    0\n",
       "HumidityDay     0\n",
       "dtype: int64"
      ]
     },
     "execution_count": 6,
     "metadata": {},
     "output_type": "execute_result"
    }
   ],
   "source": [
    "imputer = SimpleImputer(missing_values=np.NaN, strategy='mean') \n",
    "sample_data.HumidityDay = imputer.fit_transform(sample_data['HumidityDay'].values.reshape(-1,1))[:,0]\n",
    "sample_data= sample_data.drop(columns='HumidityNight')\n",
    "sample_data.isnull().sum()"
   ]
  },
  {
   "cell_type": "code",
   "execution_count": 7,
   "id": "d537452a",
   "metadata": {},
   "outputs": [
    {
     "data": {
      "image/png": "[encoded data removed]",
      "text/plain": [
       "<Figure size 640x480 with 1 Axes>"
      ]
     },
     "metadata": {},
     "output_type": "display_data"
    }
   ],
   "source": [
    "plt.boxplot(sample_data[\"Temp_Avg\"])  #finding outliers\n",
    "plt.show()"
   ]
  },
  {
   "cell_type": "code",
   "execution_count": 8,
   "id": "6b003ee4",
   "metadata": {},
   "outputs": [
    {
     "data": {
      "image/png": "[encoded data removed]",
      "text/plain": [
       "<Figure size 640x480 with 1 Axes>"
      ]
     },
     "metadata": {},
     "output_type": "display_data"
    }
   ],
   "source": [
    "plt.boxplot(sample_data[\"Temp_Min\"])  #finding outliers\n",
    "plt.show()"
   ]
  },
  {
   "cell_type": "code",
   "execution_count": 9,
   "id": "57514019",
   "metadata": {},
   "outputs": [
    {
     "data": {
      "image/png": "[encoded data removed]",
      "text/plain": [
       "<Figure size 640x480 with 1 Axes>"
      ]
     },
     "metadata": {},
     "output_type": "display_data"
    }
   ],
   "source": [
    "plt.boxplot(sample_data[\"Temp_Max\"])  #finding outliers\n",
    "plt.show()"
   ]
  },
  {
   "cell_type": "code",
   "execution_count": 10,
   "id": "a453a83e",
   "metadata": {},
   "outputs": [
    {
     "data": {
      "image/png": "[encoded data removed]",
      "text/plain": [
       "<Figure size 640x480 with 1 Axes>"
      ]
     },
     "metadata": {},
     "output_type": "display_data"
    }
   ],
   "source": [
    "plt.boxplot(sample_data[\"Rainfall_Avg\"])  #finding outliers\n",
    "plt.show()"
   ]
  },
  {
   "cell_type": "code",
   "execution_count": 11,
   "id": "e493d580",
   "metadata": {},
   "outputs": [
    {
     "data": {
      "image/png": "[encoded data removed]",
      "text/plain": [
       "<Figure size 640x480 with 1 Axes>"
      ]
     },
     "metadata": {},
     "output_type": "display_data"
    }
   ],
   "source": [
    "plt.boxplot(sample_data[\"HumidityDay\"])  #finding outliers\n",
    "plt.show()"
   ]
  },
  {
   "cell_type": "code",
   "execution_count": 14,
   "id": "3a9416e2",
   "metadata": {},
   "outputs": [],
   "source": [
    "# plt.boxplot(sample_data[\"HumidityNight\"])  #finding outliers\n",
    "# plt.show()"
   ]
  },
  {
   "cell_type": "code",
   "execution_count": 15,
   "id": "9de51f3f",
   "metadata": {},
   "outputs": [
    {
     "data": {
      "image/png": "[encoded data removed]",
      "text/plain": [
       "<Figure size 1200x720 with 6 Axes>"
      ]
     },
     "metadata": {},
     "output_type": "display_data"
    }
   ],
   "source": [
    "color_list=[\"blue\",\"green\",\"red\",\"olive\",\"orange\",\"purple\",\"brown\"]\n",
    "\n",
    "fig, axes = plt.subplots(nrows=6, ncols=1, dpi=120, figsize=(10,6))\n",
    "for i, ax in enumerate(axes.flatten()):\n",
    "    data = sample_data[sample_data.columns[i]]\n",
    "    ax.plot(data, color=color_list[i%(len(color_list))], linewidth=1)\n",
    "    \n",
    "    ax.set_title(sample_data.columns[i])\n",
    "    ax.xaxis.set_ticks_position('none')\n",
    "    ax.yaxis.set_ticks_position('none')\n",
    "    ax.spines[\"top\"].set_alpha(0)\n",
    "    ax.tick_params(labelsize=6)\n",
    "\n",
    "plt.tight_layout();"
   ]
  },
  {
   "cell_type": "code",
   "execution_count": 16,
   "id": "9ff39d7f",
   "metadata": {},
   "outputs": [
    {
     "name": "stdout",
     "output_type": "stream",
     "text": [
      "Demand\n",
      "ADF Statistic: -2.6015667886893397\n",
      "p-value: 0.09267387627415724\n",
      "\n",
      "---------------------\n",
      "\n",
      "Average Temperature\n",
      "ADF Statistic: -2.6096329105762113\n",
      "p-value: 0.09102263993750637\n",
      "\n",
      "---------------------\n",
      "\n",
      "Maximum Temperature\n",
      "ADF Statistic: -1.8496767217312786\n",
      "p-value: 0.35609210882390396\n",
      "\n",
      "---------------------\n",
      "\n",
      "Minimum Temperature\n",
      "ADF Statistic: -2.3409307304499785\n",
      "p-value: 0.15910648800474514\n",
      "\n",
      "---------------------\n",
      "\n",
      "Average Rainfall\n",
      "ADF Statistic: -6.77437856803759\n",
      "p-value: 2.5930873215028166e-09\n",
      "\n",
      "---------------------\n",
      "\n",
      "Humidity Day\n",
      "ADF Statistic: -5.815252538356825\n",
      "p-value: 4.307511523413869e-07\n",
      "\n",
      "---------------------\n",
      "\n"
     ]
    }
   ],
   "source": [
    "#check weather data stationary or not(augmented dickey-fuller test)\n",
    "\n",
    "ad_fuller_result_1 = adfuller(sample_data['Demand'])#.diff()[1:])\n",
    "\n",
    "print('Demand')\n",
    "print(f'ADF Statistic: {ad_fuller_result_1[0]}')\n",
    "print(f'p-value: {ad_fuller_result_1[1]}')\n",
    "\n",
    "print('\\n---------------------\\n')\n",
    "\n",
    "ad_fuller_result_2 = adfuller(sample_data['Temp_Avg'])#.diff()[1:])\n",
    "\n",
    "print('Average Temperature')\n",
    "print(f'ADF Statistic: {ad_fuller_result_2[0]}')\n",
    "print(f'p-value: {ad_fuller_result_2[1]}')\n",
    "\n",
    "print('\\n---------------------\\n')\n",
    "\n",
    "ad_fuller_result_2 = adfuller(sample_data['Temp_Max'])#.diff()[1:])\n",
    "\n",
    "print('Maximum Temperature')\n",
    "print(f'ADF Statistic: {ad_fuller_result_2[0]}')\n",
    "print(f'p-value: {ad_fuller_result_2[1]}')\n",
    "\n",
    "print('\\n---------------------\\n')\n",
    "\n",
    "ad_fuller_result_2 = adfuller(sample_data['Temp_Min'])#.diff()[1:])\n",
    "\n",
    "print('Minimum Temperature')\n",
    "print(f'ADF Statistic: {ad_fuller_result_2[0]}')\n",
    "print(f'p-value: {ad_fuller_result_2[1]}')\n",
    "\n",
    "print('\\n---------------------\\n')\n",
    "\n",
    "ad_fuller_result_2 = adfuller(sample_data['Rainfall_Avg'])#.diff()[1:])\n",
    "\n",
    "print('Average Rainfall')\n",
    "print(f'ADF Statistic: {ad_fuller_result_2[0]}')\n",
    "print(f'p-value: {ad_fuller_result_2[1]}')\n",
    "\n",
    "print('\\n---------------------\\n')\n",
    "\n",
    "ad_fuller_result_2 = adfuller(sample_data['HumidityDay'])#.diff()[1:])\n",
    "\n",
    "print('Humidity Day')\n",
    "print(f'ADF Statistic: {ad_fuller_result_2[0]}')\n",
    "print(f'p-value: {ad_fuller_result_2[1]}')\n",
    "\n",
    "print('\\n---------------------\\n')\n",
    "\n",
    "# ad_fuller_result_2 = adfuller(sample_data['HumidityNight'])#.diff()[1:])\n",
    "\n",
    "# print('Humidity Night')\n",
    "# print(f'ADF Statistic: {ad_fuller_result_2[0]}')\n",
    "# print(f'p-value: {ad_fuller_result_2[1]}')\n",
    "\n",
    "# p value shold be , p <0.05"
   ]
  },
  {
   "cell_type": "code",
   "execution_count": null,
   "id": "be7105df",
   "metadata": {},
   "outputs": [],
   "source": [
    "# do first order differencing\n",
    "\n",
    "ad_fuller_result_1= adfuller(sample_data['Demand'].diff()[1:])\n",
    "\n",
    "print('Demand')\n",
    "print(f'ADF Statistic: {ad_fuller_result_1[0]}')\n",
    "print(f'p-value: {ad_fuller_result_1[1]}')\n",
    "\n",
    "print('\\n---------------------\\n')\n",
    "\n",
    "ad_fuller_result_2 = adfuller(sample_data['Temp_Avg'].diff()[1:])\n",
    "\n",
    "print('Average Temperature')\n",
    "print(f'ADF Statistic: {ad_fuller_result_2[0]}')\n",
    "print(f'p-value: {ad_fuller_result_2[1]}')\n",
    "\n",
    "print('\\n---------------------\\n')\n",
    "\n",
    "ad_fuller_result_2 = adfuller(sample_data['Temp_Max'].diff()[1:])\n",
    "\n",
    "print('Maximum Temperature')\n",
    "print(f'ADF Statistic: {ad_fuller_result_2[0]}')\n",
    "print(f'p-value: {ad_fuller_result_2[1]}')\n",
    "\n",
    "print('\\n---------------------\\n')\n",
    "\n",
    "ad_fuller_result_2 = adfuller(sample_data['Temp_Min'].diff()[1:])\n",
    "\n",
    "print('Minimum Temperature')\n",
    "print(f'ADF Statistic: {ad_fuller_result_2[0]}')\n",
    "print(f'p-value: {ad_fuller_result_2[1]}')\n",
    "\n",
    "print('\\n---------------------\\n')\n",
    "\n",
    "ad_fuller_result_2 = adfuller(sample_data['Rainfall_Avg'].diff()[1:])\n",
    "\n",
    "print('Average Rainfall')\n",
    "print(f'ADF Statistic: {ad_fuller_result_2[0]}')\n",
    "print(f'p-value: {ad_fuller_result_2[1]}')\n",
    "\n",
    "print('\\n---------------------\\n')\n",
    "\n",
    "ad_fuller_result_2 = adfuller(sample_data['HumidityDay'].diff()[1:])\n",
    "\n",
    "print('Humidity Day')\n",
    "print(f'ADF Statistic: {ad_fuller_result_2[0]}')\n",
    "print(f'p-value: {ad_fuller_result_2[1]}')\n",
    "\n",
    "print('\\n---------------------\\n')\n",
    "\n",
    "ad_fuller_result_2 = adfuller(sample_data['HumidityNight'].diff()[1:])\n",
    "\n",
    "print('Humidity Night')\n",
    "print(f'ADF Statistic: {ad_fuller_result_2[0]}')\n",
    "print(f'p-value: {ad_fuller_result_2[1]}')\n"
   ]
  },
  {
   "cell_type": "code",
   "execution_count": null,
   "id": "85fbe531",
   "metadata": {},
   "outputs": [],
   "source": [
    "sample_data.head(5)"
   ]
  },
  {
   "cell_type": "code",
   "execution_count": 17,
   "id": "64e82712",
   "metadata": {},
   "outputs": [
    {
     "name": "stdout",
     "output_type": "stream",
     "text": [
      "(83, 6)\n"
     ]
    },
    {
     "data": {
      "text/html": [
       "<div>\n",
       "<style scoped>\n",
       "    .dataframe tbody tr th:only-of-type {\n",
       "        vertical-align: middle;\n",
       "    }\n",
       "\n",
       "    .dataframe tbody tr th {\n",
       "        vertical-align: top;\n",
       "    }\n",
       "\n",
       "    .dataframe thead th {\n",
       "        text-align: right;\n",
       "    }\n",
       "</style>\n",
       "<table border=\"1\" class=\"dataframe\">\n",
       "  <thead>\n",
       "    <tr style=\"text-align: right;\">\n",
       "      <th></th>\n",
       "      <th>Demand</th>\n",
       "      <th>Temp_Avg</th>\n",
       "      <th>Temp_Max</th>\n",
       "      <th>Temp_Min</th>\n",
       "      <th>Rainfall_Avg</th>\n",
       "      <th>HumidityDay</th>\n",
       "    </tr>\n",
       "    <tr>\n",
       "      <th>Month</th>\n",
       "      <th></th>\n",
       "      <th></th>\n",
       "      <th></th>\n",
       "      <th></th>\n",
       "      <th></th>\n",
       "      <th></th>\n",
       "    </tr>\n",
       "  </thead>\n",
       "  <tbody>\n",
       "    <tr>\n",
       "      <th>2015-02-01</th>\n",
       "      <td>-0.256719</td>\n",
       "      <td>0.1</td>\n",
       "      <td>0.0</td>\n",
       "      <td>0.2</td>\n",
       "      <td>54.2</td>\n",
       "      <td>4.0</td>\n",
       "    </tr>\n",
       "    <tr>\n",
       "      <th>2015-03-01</th>\n",
       "      <td>0.206485</td>\n",
       "      <td>1.7</td>\n",
       "      <td>2.7</td>\n",
       "      <td>0.8</td>\n",
       "      <td>-42.7</td>\n",
       "      <td>-6.0</td>\n",
       "    </tr>\n",
       "    <tr>\n",
       "      <th>2015-04-01</th>\n",
       "      <td>0.884076</td>\n",
       "      <td>0.9</td>\n",
       "      <td>0.3</td>\n",
       "      <td>1.5</td>\n",
       "      <td>249.4</td>\n",
       "      <td>-2.0</td>\n",
       "    </tr>\n",
       "    <tr>\n",
       "      <th>2015-05-01</th>\n",
       "      <td>0.270262</td>\n",
       "      <td>0.2</td>\n",
       "      <td>-0.9</td>\n",
       "      <td>1.1</td>\n",
       "      <td>-119.3</td>\n",
       "      <td>-2.0</td>\n",
       "    </tr>\n",
       "    <tr>\n",
       "      <th>2015-06-01</th>\n",
       "      <td>0.185478</td>\n",
       "      <td>0.0</td>\n",
       "      <td>-0.1</td>\n",
       "      <td>0.2</td>\n",
       "      <td>-142.5</td>\n",
       "      <td>-6.0</td>\n",
       "    </tr>\n",
       "  </tbody>\n",
       "</table>\n",
       "</div>"
      ],
      "text/plain": [
       "              Demand  Temp_Avg  Temp_Max  Temp_Min  Rainfall_Avg  HumidityDay\n",
       "Month                                                                        \n",
       "2015-02-01 -0.256719       0.1       0.0       0.2          54.2          4.0\n",
       "2015-03-01  0.206485       1.7       2.7       0.8         -42.7         -6.0\n",
       "2015-04-01  0.884076       0.9       0.3       1.5         249.4         -2.0\n",
       "2015-05-01  0.270262       0.2      -0.9       1.1        -119.3         -2.0\n",
       "2015-06-01  0.185478       0.0      -0.1       0.2        -142.5         -6.0"
      ]
     },
     "execution_count": 17,
     "metadata": {},
     "output_type": "execute_result"
    }
   ],
   "source": [
    "# make first-order differencing \n",
    "df_transformed = sample_data.diff().dropna()\n",
    "df = sample_data.iloc[1:]\n",
    "print(df.shape)\n",
    "df_transformed.shape\n",
    "df_transformed.head()"
   ]
  },
  {
   "cell_type": "code",
   "execution_count": 18,
   "id": "253a53be",
   "metadata": {},
   "outputs": [
    {
     "name": "stdout",
     "output_type": "stream",
     "text": [
      "column-Temp_Avg :P_values - [0.0278, 0.009, 0.0095, 0.0042, 0.008, 0.0077]\n",
      "column-Temp_Max :P_values - [0.0284, 0.0169, 0.0023, 0.0007, 0.003, 0.0013]\n",
      "column-Temp_Min :P_values - [0.1495, 0.0824, 0.0722, 0.0465, 0.0537, 0.0514]\n",
      "column-Rainfall_Avg :P_values - [0.9653, 0.954, 0.9891, 0.317, 0.5176, 0.2167]\n",
      "column-HumidityDay :P_values - [0.2637, 0.0879, 0.0709, 0.0387, 0.0427, 0.0102]\n"
     ]
    }
   ],
   "source": [
    "#Test the Granger Causality\n",
    "\n",
    "max_lags=6\n",
    "y='Demand'\n",
    "\n",
    "for i in range(len(df_transformed.columns)-1):\n",
    "    results=grangercausalitytests(df_transformed[[y,df_transformed.columns[i+1]]],max_lags,verbose=False)\n",
    "    p_values=[round(results[i+1][0]['ssr_ftest'][1],4)for i in range(max_lags)]\n",
    "    print('column-{} :P_values - {}'.format(df_transformed.columns[i+1],p_values))"
   ]
  },
  {
   "cell_type": "code",
   "execution_count": 19,
   "id": "7d7a6627",
   "metadata": {},
   "outputs": [],
   "source": [
    "df_input=sample_data[['Demand','Temp_Avg','HumidityDay']]"
   ]
  },
  {
   "cell_type": "code",
   "execution_count": 20,
   "id": "ddc6144d",
   "metadata": {},
   "outputs": [
    {
     "data": {
      "text/html": [
       "<div>\n",
       "<style scoped>\n",
       "    .dataframe tbody tr th:only-of-type {\n",
       "        vertical-align: middle;\n",
       "    }\n",
       "\n",
       "    .dataframe tbody tr th {\n",
       "        vertical-align: top;\n",
       "    }\n",
       "\n",
       "    .dataframe thead th {\n",
       "        text-align: right;\n",
       "    }\n",
       "</style>\n",
       "<table border=\"1\" class=\"dataframe\">\n",
       "  <thead>\n",
       "    <tr style=\"text-align: right;\">\n",
       "      <th></th>\n",
       "      <th>Demand</th>\n",
       "      <th>Temp_Avg</th>\n",
       "      <th>HumidityDay</th>\n",
       "    </tr>\n",
       "    <tr>\n",
       "      <th>Month</th>\n",
       "      <th></th>\n",
       "      <th></th>\n",
       "      <th></th>\n",
       "    </tr>\n",
       "  </thead>\n",
       "  <tbody>\n",
       "    <tr>\n",
       "      <th>2015-01-01</th>\n",
       "      <td>12.418261</td>\n",
       "      <td>25.8</td>\n",
       "      <td>73.0</td>\n",
       "    </tr>\n",
       "    <tr>\n",
       "      <th>2015-02-01</th>\n",
       "      <td>12.161542</td>\n",
       "      <td>25.9</td>\n",
       "      <td>77.0</td>\n",
       "    </tr>\n",
       "    <tr>\n",
       "      <th>2015-03-01</th>\n",
       "      <td>12.368027</td>\n",
       "      <td>27.6</td>\n",
       "      <td>71.0</td>\n",
       "    </tr>\n",
       "    <tr>\n",
       "      <th>2015-04-01</th>\n",
       "      <td>13.252103</td>\n",
       "      <td>28.5</td>\n",
       "      <td>69.0</td>\n",
       "    </tr>\n",
       "    <tr>\n",
       "      <th>2015-05-01</th>\n",
       "      <td>13.522365</td>\n",
       "      <td>28.7</td>\n",
       "      <td>67.0</td>\n",
       "    </tr>\n",
       "    <tr>\n",
       "      <th>...</th>\n",
       "      <td>...</td>\n",
       "      <td>...</td>\n",
       "      <td>...</td>\n",
       "    </tr>\n",
       "    <tr>\n",
       "      <th>2021-08-01</th>\n",
       "      <td>25.189367</td>\n",
       "      <td>28.8</td>\n",
       "      <td>57.0</td>\n",
       "    </tr>\n",
       "    <tr>\n",
       "      <th>2021-09-01</th>\n",
       "      <td>20.936309</td>\n",
       "      <td>29.2</td>\n",
       "      <td>58.0</td>\n",
       "    </tr>\n",
       "    <tr>\n",
       "      <th>2021-10-01</th>\n",
       "      <td>24.405149</td>\n",
       "      <td>27.6</td>\n",
       "      <td>70.0</td>\n",
       "    </tr>\n",
       "    <tr>\n",
       "      <th>2021-11-01</th>\n",
       "      <td>22.855710</td>\n",
       "      <td>26.5</td>\n",
       "      <td>77.0</td>\n",
       "    </tr>\n",
       "    <tr>\n",
       "      <th>2021-12-01</th>\n",
       "      <td>22.039633</td>\n",
       "      <td>26.2</td>\n",
       "      <td>78.0</td>\n",
       "    </tr>\n",
       "  </tbody>\n",
       "</table>\n",
       "<p>84 rows × 3 columns</p>\n",
       "</div>"
      ],
      "text/plain": [
       "               Demand  Temp_Avg  HumidityDay\n",
       "Month                                       \n",
       "2015-01-01  12.418261      25.8         73.0\n",
       "2015-02-01  12.161542      25.9         77.0\n",
       "2015-03-01  12.368027      27.6         71.0\n",
       "2015-04-01  13.252103      28.5         69.0\n",
       "2015-05-01  13.522365      28.7         67.0\n",
       "...               ...       ...          ...\n",
       "2021-08-01  25.189367      28.8         57.0\n",
       "2021-09-01  20.936309      29.2         58.0\n",
       "2021-10-01  24.405149      27.6         70.0\n",
       "2021-11-01  22.855710      26.5         77.0\n",
       "2021-12-01  22.039633      26.2         78.0\n",
       "\n",
       "[84 rows x 3 columns]"
      ]
     },
     "execution_count": 20,
     "metadata": {},
     "output_type": "execute_result"
    }
   ],
   "source": [
    "df_input"
   ]
  },
  {
   "cell_type": "code",
   "execution_count": 21,
   "id": "84834a53",
   "metadata": {},
   "outputs": [],
   "source": [
    "df_train=df_input[:-12]\n",
    "df_test=df_input[-12:]"
   ]
  },
  {
   "cell_type": "code",
   "execution_count": 22,
   "id": "41498ed2",
   "metadata": {},
   "outputs": [
    {
     "data": {
      "text/plain": [
       "(72, 3)"
      ]
     },
     "execution_count": 22,
     "metadata": {},
     "output_type": "execute_result"
    }
   ],
   "source": [
    "df_train.shape"
   ]
  },
  {
   "cell_type": "code",
   "execution_count": 23,
   "id": "a8cdfac8",
   "metadata": {},
   "outputs": [
    {
     "data": {
      "text/plain": [
       "(12, 3)"
      ]
     },
     "execution_count": 23,
     "metadata": {},
     "output_type": "execute_result"
    }
   ],
   "source": [
    "df_test.shape"
   ]
  },
  {
   "cell_type": "code",
   "execution_count": 24,
   "id": "5139fc1e",
   "metadata": {},
   "outputs": [
    {
     "name": "stderr",
     "output_type": "stream",
     "text": [
      "C:\\Users\\Shani\\anaconda3\\lib\\site-packages\\statsmodels\\tsa\\base\\tsa_model.py:471: ValueWarning: No frequency information was provided, so inferred frequency MS will be used.\n",
      "  self._init_dates(dates, freq)\n"
     ]
    }
   ],
   "source": [
    "model = VAR(df_train.diff()[1:])"
   ]
  },
  {
   "cell_type": "code",
   "execution_count": 25,
   "id": "a7890582",
   "metadata": {},
   "outputs": [
    {
     "name": "stdout",
     "output_type": "stream",
     "text": [
      " VAR Order Selection (* highlights the minimums)  \n",
      "==================================================\n",
      "       AIC         BIC         FPE         HQIC   \n",
      "--------------------------------------------------\n",
      "0        7.055       7.165       1159.       7.098\n",
      "1        6.904       7.342       997.3       7.074\n",
      "2        6.881       7.647       977.5       7.177\n",
      "3        6.926       8.021       1031.       7.350\n",
      "4        6.711       8.134       844.2       7.261\n",
      "5        6.234       7.986       537.0       6.911\n",
      "6        5.969       8.049       427.3       6.773\n",
      "7        5.748       8.157       361.4       6.680\n",
      "8        5.762       8.499       394.2       6.820\n",
      "9        5.562       8.628       356.5       6.748\n",
      "10       5.297       8.692       312.4       6.610\n",
      "11       5.253       8.976       356.6       6.693\n",
      "12       5.031       9.082       360.9       6.597\n",
      "13       4.754       9.133       375.3       6.447\n",
      "14       4.095       8.803       300.3       5.916\n",
      "15       3.509       8.546       312.6       5.457\n",
      "16      1.544*      6.909*      116.4*      3.619*\n",
      "--------------------------------------------------\n"
     ]
    }
   ],
   "source": [
    "sorted_order=model.select_order(maxlags=16)\n",
    "print(sorted_order.summary())"
   ]
  },
  {
   "cell_type": "code",
   "execution_count": 26,
   "id": "154b2a17",
   "metadata": {},
   "outputs": [
    {
     "name": "stderr",
     "output_type": "stream",
     "text": [
      "C:\\Users\\Shani\\anaconda3\\lib\\site-packages\\statsmodels\\tsa\\base\\tsa_model.py:471: ValueWarning: No frequency information was provided, so inferred frequency MS will be used.\n",
      "  self._init_dates(dates, freq)\n",
      "C:\\Users\\Shani\\anaconda3\\lib\\site-packages\\statsmodels\\tsa\\statespace\\varmax.py:374: UserWarning: Non-stationary starting autoregressive parameters found. Using zeros as starting parameters.\n",
      "  warn('Non-stationary starting autoregressive parameters'\n",
      "C:\\Users\\Shani\\anaconda3\\lib\\site-packages\\statsmodels\\base\\model.py:604: ConvergenceWarning: Maximum Likelihood optimization failed to converge. Check mle_retvals\n",
      "  warnings.warn(\"Maximum Likelihood optimization failed to \"\n"
     ]
    },
    {
     "name": "stdout",
     "output_type": "stream",
     "text": [
      "                                     Statespace Model Results                                    \n",
      "=================================================================================================\n",
      "Dep. Variable:     ['Demand', 'Temp_Avg', 'HumidityDay']   No. Observations:                   72\n",
      "Model:                                           VAR(16)   Log Likelihood                -494.899\n",
      "                                             + intercept   AIC                           1295.798\n",
      "Date:                                   Thu, 23 Feb 2023   BIC                           1644.128\n",
      "Time:                                           02:24:30   HQIC                          1434.470\n",
      "Sample:                                       01-01-2015                                         \n",
      "                                            - 12-01-2020                                         \n",
      "Covariance Type:                                     opg                                         \n",
      "====================================================================================\n",
      "Ljung-Box (L1) (Q):      5.48, 18.03, 3.11   Jarque-Bera (JB):     14.62, 0.33, 1.64\n",
      "Prob(Q):                  0.02, 0.00, 0.08   Prob(JB):              0.00, 0.85, 0.44\n",
      "Heteroskedasticity (H):   1.64, 0.75, 0.95   Skew:               -0.11, -0.15, -0.31\n",
      "Prob(H) (two-sided):      0.24, 0.48, 0.90   Kurtosis:              5.20, 2.84, 2.59\n",
      "                            Results for equation Demand                            \n",
      "===================================================================================\n",
      "                      coef    std err          z      P>|z|      [0.025      0.975]\n",
      "-----------------------------------------------------------------------------------\n",
      "intercept          18.1728      0.001   1.72e+04      0.000      18.171      18.175\n",
      "L1.Demand           0.0159      0.159      0.100      0.921      -0.297       0.328\n",
      "L1.Temp_Avg        -0.1050      0.086     -1.220      0.223      -0.274       0.064\n",
      "L1.HumidityDay     -0.0137      0.166     -0.082      0.934      -0.339       0.312\n",
      "L2.Demand           0.0373      0.214      0.174      0.862      -0.382       0.457\n",
      "L2.Temp_Avg        -0.2717      0.096     -2.837      0.005      -0.459      -0.084\n",
      "L2.HumidityDay     -0.0502      0.166     -0.302      0.763      -0.376       0.276\n",
      "L3.Demand           0.0614      0.273      0.225      0.822      -0.474       0.596\n",
      "L3.Temp_Avg        -0.2889      0.068     -4.236      0.000      -0.423      -0.155\n",
      "L3.HumidityDay     -0.0647      0.171     -0.378      0.705      -0.400       0.271\n",
      "L4.Demand           0.0388      0.157      0.247      0.805      -0.270       0.347\n",
      "L4.Temp_Avg        -0.1298      0.062     -2.107      0.035      -0.251      -0.009\n",
      "L4.HumidityDay     -0.0328      0.210     -0.156      0.876      -0.445       0.379\n",
      "L5.Demand           0.0332      0.143      0.232      0.817      -0.247       0.314\n",
      "L5.Temp_Avg         0.1375      0.073      1.896      0.058      -0.005       0.280\n",
      "L5.HumidityDay      0.0227      0.140      0.162      0.871      -0.252       0.297\n",
      "L6.Demand           0.0265      0.141      0.188      0.851      -0.250       0.303\n",
      "L6.Temp_Avg         0.1789      0.066      2.701      0.007       0.049       0.309\n",
      "L6.HumidityDay      0.0156      0.188      0.083      0.934      -0.353       0.384\n",
      "L7.Demand           0.0247      0.186      0.133      0.894      -0.339       0.389\n",
      "L7.Temp_Avg         0.2059      0.063      3.289      0.001       0.083       0.329\n",
      "L7.HumidityDay      0.0280      0.173      0.161      0.872      -0.312       0.368\n",
      "L8.Demand           0.0139      0.271      0.051      0.959      -0.516       0.544\n",
      "L8.Temp_Avg         0.0963      0.045      2.130      0.033       0.008       0.185\n",
      "L8.HumidityDay      0.0048      0.144      0.034      0.973      -0.278       0.287\n",
      "L9.Demand           0.0260      0.160      0.162      0.871      -0.287       0.339\n",
      "L9.Temp_Avg        -0.1992      0.063     -3.166      0.002      -0.322      -0.076\n",
      "L9.HumidityDay     -0.0501      0.154     -0.324      0.746      -0.353       0.253\n",
      "L10.Demand          0.0299      0.210      0.142      0.887      -0.382       0.442\n",
      "L10.Temp_Avg       -0.0312      0.063     -0.498      0.619      -0.154       0.092\n",
      "L10.HumidityDay    -0.0350      0.121     -0.288      0.773      -0.273       0.203\n",
      "L11.Demand          0.0004      0.236      0.002      0.999      -0.463       0.464\n",
      "L11.Temp_Avg        0.1047      0.077      1.353      0.176      -0.047       0.256\n",
      "L11.HumidityDay    -0.0079      0.122     -0.065      0.948      -0.247       0.231\n",
      "L12.Demand          0.0095      0.171      0.056      0.956      -0.326       0.345\n",
      "L12.Temp_Avg        0.2125      0.054      3.936      0.000       0.107       0.318\n",
      "L12.HumidityDay     0.0046      0.104      0.044      0.965      -0.200       0.209\n",
      "L13.Demand          0.0479      0.299      0.161      0.872      -0.537       0.633\n",
      "L13.Temp_Avg        0.0526      0.062      0.854      0.393      -0.068       0.173\n",
      "L13.HumidityDay    -0.0438      0.111     -0.394      0.694      -0.262       0.174\n",
      "L14.Demand          0.0531      0.279      0.190      0.849      -0.494       0.600\n",
      "L14.Temp_Avg       -0.0211      0.080     -0.264      0.792      -0.178       0.136\n",
      "L14.HumidityDay    -0.0467      0.168     -0.279      0.781      -0.375       0.282\n",
      "L15.Demand         -0.0009      0.212     -0.004      0.997      -0.417       0.415\n",
      "L15.Temp_Avg        0.4833      0.081      5.968      0.000       0.325       0.642\n",
      "L15.HumidityDay     0.0761      0.137      0.556      0.578      -0.192       0.344\n",
      "L16.Demand          0.0035      0.178      0.020      0.984      -0.345       0.352\n",
      "L16.Temp_Avg       -0.1412      0.041     -3.457      0.001      -0.221      -0.061\n",
      "L16.HumidityDay    -0.0335      0.252     -0.133      0.894      -0.527       0.460\n",
      "                           Results for equation Temp_Avg                           \n",
      "===================================================================================\n",
      "                      coef    std err          z      P>|z|      [0.025      0.975]\n",
      "-----------------------------------------------------------------------------------\n",
      "intercept          27.8751      0.001   2.02e+04      0.000      27.872      27.878\n",
      "L1.Demand           0.0017      0.098      0.017      0.986      -0.191       0.194\n",
      "L1.Temp_Avg        -0.1341      0.157     -0.857      0.392      -0.441       0.173\n",
      "L1.HumidityDay     -0.0103      0.055     -0.187      0.852      -0.118       0.097\n",
      "L2.Demand           0.0131      0.052      0.250      0.803      -0.089       0.116\n",
      "L2.Temp_Avg        -0.1288      0.178     -0.722      0.470      -0.478       0.221\n",
      "L2.HumidityDay     -0.0165      0.042     -0.392      0.695      -0.099       0.066\n",
      "L3.Demand           0.0201      0.044      0.452      0.651      -0.067       0.107\n",
      "L3.Temp_Avg        -0.0785      0.141     -0.555      0.579      -0.356       0.199\n",
      "L3.HumidityDay     -0.0179      0.059     -0.306      0.760      -0.133       0.097\n",
      "L4.Demand           0.0009      0.055      0.016      0.988      -0.107       0.109\n",
      "L4.Temp_Avg         0.0823      0.250      0.330      0.742      -0.407       0.572\n",
      "L4.HumidityDay      0.0164      0.053      0.309      0.758      -0.088       0.120\n",
      "L5.Demand          -0.0091      0.073     -0.123      0.902      -0.153       0.135\n",
      "L5.Temp_Avg         0.1367      0.154      0.887      0.375      -0.165       0.439\n",
      "L5.HumidityDay      0.0349      0.068      0.509      0.611      -0.099       0.169\n",
      "L6.Demand          -0.0132      0.062     -0.211      0.833      -0.135       0.109\n",
      "L6.Temp_Avg         0.0785      0.211      0.372      0.710      -0.335       0.492\n",
      "L6.HumidityDay      0.0280      0.049      0.576      0.565      -0.067       0.123\n",
      "L7.Demand          -0.0165      0.041     -0.400      0.689      -0.098       0.065\n",
      "L7.Temp_Avg         0.0063      0.216      0.029      0.977      -0.418       0.431\n",
      "L7.HumidityDay      0.0126      0.053      0.238      0.812      -0.091       0.116\n",
      "L8.Demand          -0.0033      0.076     -0.043      0.966      -0.152       0.145\n",
      "L8.Temp_Avg        -0.1148      0.141     -0.814      0.416      -0.391       0.162\n",
      "L8.HumidityDay     -0.0142      0.052     -0.273      0.785      -0.116       0.088\n",
      "L9.Demand          -0.0032      0.100     -0.032      0.975      -0.199       0.193\n",
      "L9.Temp_Avg        -0.1256      0.131     -0.957      0.339      -0.383       0.132\n",
      "L9.HumidityDay     -0.0237      0.047     -0.501      0.616      -0.116       0.069\n",
      "L10.Demand         -0.0013      0.069     -0.019      0.984      -0.137       0.135\n",
      "L10.Temp_Avg       -0.0703      0.162     -0.433      0.665      -0.388       0.248\n",
      "L10.HumidityDay    -0.0227      0.041     -0.554      0.580      -0.103       0.058\n",
      "L11.Demand         -0.0029      0.064     -0.045      0.964      -0.128       0.122\n",
      "L11.Temp_Avg        0.1151      0.166      0.692      0.489      -0.211       0.441\n",
      "L11.HumidityDay     0.0009      0.057      0.015      0.988      -0.110       0.112\n",
      "L12.Demand          0.0022      0.084      0.026      0.979      -0.163       0.168\n",
      "L12.Temp_Avg        0.1581      0.149      1.062      0.288      -0.134       0.450\n",
      "L12.HumidityDay     0.0004      0.046      0.008      0.994      -0.091       0.091\n",
      "L13.Demand          0.0091      0.064      0.143      0.887      -0.115       0.134\n",
      "L13.Temp_Avg        0.0758      0.141      0.536      0.592      -0.201       0.353\n",
      "L13.HumidityDay    -0.0079      0.039     -0.206      0.837      -0.083       0.068\n",
      "L14.Demand          0.0028      0.066      0.043      0.966      -0.126       0.132\n",
      "L14.Temp_Avg       -0.0324      0.166     -0.195      0.845      -0.357       0.293\n",
      "L14.HumidityDay    -0.0128      0.045     -0.283      0.777      -0.101       0.076\n",
      "L15.Demand         -0.0009      0.088     -0.010      0.992      -0.174       0.172\n",
      "L15.Temp_Avg       -0.0346      0.129     -0.268      0.788      -0.288       0.218\n",
      "L15.HumidityDay    -0.0021      0.060     -0.035      0.972      -0.119       0.115\n",
      "L16.Demand         -0.0158      0.089     -0.177      0.860      -0.191       0.160\n",
      "L16.Temp_Avg        0.0778      0.146      0.532      0.595      -0.209       0.365\n",
      "L16.HumidityDay     0.0316      0.037      0.863      0.388      -0.040       0.103\n",
      "                          Results for equation HumidityDay                         \n",
      "===================================================================================\n",
      "                      coef    std err          z      P>|z|      [0.025      0.975]\n",
      "-----------------------------------------------------------------------------------\n",
      "intercept          66.5084      0.001   8.22e+04      0.000      66.507      66.510\n",
      "L1.Demand          -0.0772      0.144     -0.537      0.591      -0.359       0.204\n",
      "L1.Temp_Avg         1.7399      0.067     26.044      0.000       1.609       1.871\n",
      "L1.HumidityDay      0.2394      0.203      1.182      0.237      -0.158       0.636\n",
      "L2.Demand          -0.1089      0.126     -0.865      0.387      -0.356       0.138\n",
      "L2.Temp_Avg         1.1848      0.088     13.422      0.000       1.012       1.358\n",
      "L2.HumidityDay      0.1980      0.246      0.806      0.420      -0.284       0.680\n",
      "L3.Demand          -0.1312      0.242     -0.541      0.588      -0.607       0.344\n",
      "L3.Temp_Avg         0.5582      0.104      5.375      0.000       0.355       0.762\n",
      "L3.HumidityDay      0.0992      0.286      0.347      0.728      -0.461       0.659\n",
      "L4.Demand          -0.0513      0.182     -0.281      0.778      -0.409       0.306\n",
      "L4.Temp_Avg        -0.0317      0.065     -0.490      0.624      -0.159       0.095\n",
      "L4.HumidityDay     -0.0602      0.192     -0.313      0.754      -0.437       0.317\n",
      "L5.Demand          -0.0169      0.136     -0.124      0.901      -0.284       0.250\n",
      "L5.Temp_Avg        -0.6764      0.043    -15.686      0.000      -0.761      -0.592\n",
      "L5.HumidityDay     -0.2267      0.270     -0.838      0.402      -0.757       0.303\n",
      "L6.Demand           0.1042      0.248      0.421      0.674      -0.382       0.590\n",
      "L6.Temp_Avg        -0.7145      0.094     -7.639      0.000      -0.898      -0.531\n",
      "L6.HumidityDay     -0.2019      0.133     -1.519      0.129      -0.462       0.059\n",
      "L7.Demand           0.0496      0.166      0.298      0.765      -0.276       0.375\n",
      "L7.Temp_Avg         0.4013      0.055      7.338      0.000       0.294       0.508\n",
      "L7.HumidityDay     -0.0029      0.160     -0.018      0.986      -0.317       0.311\n",
      "L8.Demand          -0.0198      0.134     -0.148      0.882      -0.282       0.242\n",
      "L8.Temp_Avg         0.5842      0.052     11.205      0.000       0.482       0.686\n",
      "L8.HumidityDay      0.0790      0.151      0.525      0.600      -0.216       0.374\n",
      "L9.Demand           0.0209      0.160      0.130      0.896      -0.293       0.335\n",
      "L9.Temp_Avg        -0.4330      0.054     -8.015      0.000      -0.539      -0.327\n",
      "L9.HumidityDay     -0.0181      0.139     -0.131      0.896      -0.290       0.254\n",
      "L10.Demand          0.0339      0.166      0.205      0.838      -0.291       0.358\n",
      "L10.Temp_Avg       -0.8430      0.047    -17.921      0.000      -0.935      -0.751\n",
      "L10.HumidityDay    -0.0660      0.110     -0.600      0.549      -0.281       0.150\n",
      "L11.Demand         -0.0035      0.112     -0.031      0.975      -0.222       0.215\n",
      "L11.Temp_Avg       -0.3474      0.105     -3.302      0.001      -0.554      -0.141\n",
      "L11.HumidityDay     0.0492      0.187      0.263      0.793      -0.317       0.416\n",
      "L12.Demand         -0.0675      0.198     -0.341      0.733      -0.455       0.320\n",
      "L12.Temp_Avg        0.4250      0.063      6.751      0.000       0.302       0.548\n",
      "L12.HumidityDay     0.2216      0.114      1.942      0.052      -0.002       0.445\n",
      "L13.Demand         -0.0921      0.146     -0.629      0.530      -0.379       0.195\n",
      "L13.Temp_Avg       -0.0270      0.077     -0.350      0.726      -0.178       0.124\n",
      "L13.HumidityDay     0.1439      0.107      1.343      0.179      -0.066       0.354\n",
      "L14.Demand         -0.0723      0.134     -0.538      0.590      -0.336       0.191\n",
      "L14.Temp_Avg       -0.0683      0.072     -0.949      0.343      -0.209       0.073\n",
      "L14.HumidityDay     0.1008      0.118      0.851      0.395      -0.131       0.333\n",
      "L15.Demand          0.0109      0.156      0.070      0.944      -0.295       0.317\n",
      "L15.Temp_Avg       -0.6949      0.057    -12.283      0.000      -0.806      -0.584\n",
      "L15.HumidityDay    -0.0849      0.172     -0.493      0.622      -0.422       0.253\n",
      "L16.Demand          0.1372      0.191      0.717      0.473      -0.238       0.512\n",
      "L16.Temp_Avg       -1.2292      0.064    -19.192      0.000      -1.355      -1.104\n",
      "L16.HumidityDay    -0.3030      0.135     -2.243      0.025      -0.568      -0.038\n",
      "                                     Error covariance matrix                                     \n",
      "=================================================================================================\n",
      "                                    coef    std err          z      P>|z|      [0.025      0.975]\n",
      "-------------------------------------------------------------------------------------------------\n",
      "sqrt.var.Demand                   3.7992      0.182     20.876      0.000       3.442       4.156\n",
      "sqrt.cov.Demand.Temp_Avg         -0.1489      0.205     -0.726      0.468      -0.550       0.253\n",
      "sqrt.var.Temp_Avg                 0.7033      0.176      4.006      0.000       0.359       1.047\n",
      "sqrt.cov.Demand.HumidityDay       1.9458      0.053     36.740      0.000       1.842       2.050\n",
      "sqrt.cov.Temp_Avg.HumidityDay    -3.4105      0.173    -19.751      0.000      -3.749      -3.072\n",
      "sqrt.var.HumidityDay              2.7634      0.375      7.375      0.000       2.029       3.498\n",
      "=================================================================================================\n",
      "\n",
      "Warnings:\n",
      "[1] Covariance matrix calculated using the outer product of gradients (complex-step).\n",
      "[2] Covariance matrix is singular or near-singular, with condition number 4.72e+20. Standard errors may be unstable.\n"
     ]
    }
   ],
   "source": [
    "var_model = VARMAX(df_train, order=(16,0),enforce_stationarity= True)\n",
    "fitted_model = var_model.fit(disp=False)\n",
    "print(fitted_model.summary())"
   ]
  },
  {
   "cell_type": "code",
   "execution_count": 27,
   "id": "3cd0746b",
   "metadata": {},
   "outputs": [],
   "source": [
    "n_forecast = 12\n",
    "predict = fitted_model.get_prediction(start=len(df_train),end=len(df_train) + n_forecast-1)\n",
    "predictions=predict.predicted_mean"
   ]
  },
  {
   "cell_type": "code",
   "execution_count": 28,
   "id": "0f346113",
   "metadata": {},
   "outputs": [
    {
     "data": {
      "text/html": [
       "<div>\n",
       "<style scoped>\n",
       "    .dataframe tbody tr th:only-of-type {\n",
       "        vertical-align: middle;\n",
       "    }\n",
       "\n",
       "    .dataframe tbody tr th {\n",
       "        vertical-align: top;\n",
       "    }\n",
       "\n",
       "    .dataframe thead th {\n",
       "        text-align: right;\n",
       "    }\n",
       "</style>\n",
       "<table border=\"1\" class=\"dataframe\">\n",
       "  <thead>\n",
       "    <tr style=\"text-align: right;\">\n",
       "      <th></th>\n",
       "      <th>Demand_predicted</th>\n",
       "      <th>Temp_Avg_predicted</th>\n",
       "      <th>HumidityDay_predicted</th>\n",
       "    </tr>\n",
       "  </thead>\n",
       "  <tbody>\n",
       "    <tr>\n",
       "      <th>2021-01-01</th>\n",
       "      <td>19.250523</td>\n",
       "      <td>26.301223</td>\n",
       "      <td>74.451165</td>\n",
       "    </tr>\n",
       "    <tr>\n",
       "      <th>2021-02-01</th>\n",
       "      <td>18.722298</td>\n",
       "      <td>26.383615</td>\n",
       "      <td>71.114963</td>\n",
       "    </tr>\n",
       "    <tr>\n",
       "      <th>2021-03-01</th>\n",
       "      <td>19.365913</td>\n",
       "      <td>27.419128</td>\n",
       "      <td>66.553681</td>\n",
       "    </tr>\n",
       "    <tr>\n",
       "      <th>2021-04-01</th>\n",
       "      <td>19.563493</td>\n",
       "      <td>28.530536</td>\n",
       "      <td>62.311789</td>\n",
       "    </tr>\n",
       "    <tr>\n",
       "      <th>2021-05-01</th>\n",
       "      <td>20.396981</td>\n",
       "      <td>28.766940</td>\n",
       "      <td>61.249092</td>\n",
       "    </tr>\n",
       "    <tr>\n",
       "      <th>2021-06-01</th>\n",
       "      <td>21.385309</td>\n",
       "      <td>28.900019</td>\n",
       "      <td>61.652002</td>\n",
       "    </tr>\n",
       "    <tr>\n",
       "      <th>2021-07-01</th>\n",
       "      <td>22.203719</td>\n",
       "      <td>28.314587</td>\n",
       "      <td>63.164154</td>\n",
       "    </tr>\n",
       "    <tr>\n",
       "      <th>2021-08-01</th>\n",
       "      <td>20.722718</td>\n",
       "      <td>28.029219</td>\n",
       "      <td>60.990070</td>\n",
       "    </tr>\n",
       "    <tr>\n",
       "      <th>2021-09-01</th>\n",
       "      <td>19.495767</td>\n",
       "      <td>27.547651</td>\n",
       "      <td>61.068554</td>\n",
       "    </tr>\n",
       "    <tr>\n",
       "      <th>2021-10-01</th>\n",
       "      <td>20.524691</td>\n",
       "      <td>27.697065</td>\n",
       "      <td>62.350818</td>\n",
       "    </tr>\n",
       "    <tr>\n",
       "      <th>2021-11-01</th>\n",
       "      <td>20.800055</td>\n",
       "      <td>27.664351</td>\n",
       "      <td>67.848481</td>\n",
       "    </tr>\n",
       "    <tr>\n",
       "      <th>2021-12-01</th>\n",
       "      <td>19.710242</td>\n",
       "      <td>26.833072</td>\n",
       "      <td>74.836707</td>\n",
       "    </tr>\n",
       "  </tbody>\n",
       "</table>\n",
       "</div>"
      ],
      "text/plain": [
       "            Demand_predicted  Temp_Avg_predicted  HumidityDay_predicted\n",
       "2021-01-01         19.250523           26.301223              74.451165\n",
       "2021-02-01         18.722298           26.383615              71.114963\n",
       "2021-03-01         19.365913           27.419128              66.553681\n",
       "2021-04-01         19.563493           28.530536              62.311789\n",
       "2021-05-01         20.396981           28.766940              61.249092\n",
       "2021-06-01         21.385309           28.900019              61.652002\n",
       "2021-07-01         22.203719           28.314587              63.164154\n",
       "2021-08-01         20.722718           28.029219              60.990070\n",
       "2021-09-01         19.495767           27.547651              61.068554\n",
       "2021-10-01         20.524691           27.697065              62.350818\n",
       "2021-11-01         20.800055           27.664351              67.848481\n",
       "2021-12-01         19.710242           26.833072              74.836707"
      ]
     },
     "execution_count": 28,
     "metadata": {},
     "output_type": "execute_result"
    }
   ],
   "source": [
    "predictions.columns=['Demand_predicted','Temp_Avg_predicted','HumidityDay_predicted']\n",
    "predictions"
   ]
  },
  {
   "cell_type": "code",
   "execution_count": 29,
   "id": "4cf99d57",
   "metadata": {},
   "outputs": [
    {
     "data": {
      "text/html": [
       "<div>\n",
       "<style scoped>\n",
       "    .dataframe tbody tr th:only-of-type {\n",
       "        vertical-align: middle;\n",
       "    }\n",
       "\n",
       "    .dataframe tbody tr th {\n",
       "        vertical-align: top;\n",
       "    }\n",
       "\n",
       "    .dataframe thead th {\n",
       "        text-align: right;\n",
       "    }\n",
       "</style>\n",
       "<table border=\"1\" class=\"dataframe\">\n",
       "  <thead>\n",
       "    <tr style=\"text-align: right;\">\n",
       "      <th></th>\n",
       "      <th>Demand</th>\n",
       "      <th>Temp_Avg</th>\n",
       "      <th>HumidityDay</th>\n",
       "      <th>Demand_predicted</th>\n",
       "      <th>Temp_Avg_predicted</th>\n",
       "      <th>HumidityDay_predicted</th>\n",
       "    </tr>\n",
       "  </thead>\n",
       "  <tbody>\n",
       "    <tr>\n",
       "      <th>2021-01-01</th>\n",
       "      <td>22.337164</td>\n",
       "      <td>25.7</td>\n",
       "      <td>83.000000</td>\n",
       "      <td>19.250523</td>\n",
       "      <td>26.301223</td>\n",
       "      <td>74.451165</td>\n",
       "    </tr>\n",
       "    <tr>\n",
       "      <th>2021-02-01</th>\n",
       "      <td>21.177344</td>\n",
       "      <td>26.0</td>\n",
       "      <td>66.597561</td>\n",
       "      <td>18.722298</td>\n",
       "      <td>26.383615</td>\n",
       "      <td>71.114963</td>\n",
       "    </tr>\n",
       "    <tr>\n",
       "      <th>2021-03-01</th>\n",
       "      <td>23.782002</td>\n",
       "      <td>27.3</td>\n",
       "      <td>70.000000</td>\n",
       "      <td>19.365913</td>\n",
       "      <td>27.419128</td>\n",
       "      <td>66.553681</td>\n",
       "    </tr>\n",
       "    <tr>\n",
       "      <th>2021-04-01</th>\n",
       "      <td>22.317907</td>\n",
       "      <td>28.9</td>\n",
       "      <td>65.000000</td>\n",
       "      <td>19.563493</td>\n",
       "      <td>28.530536</td>\n",
       "      <td>62.311789</td>\n",
       "    </tr>\n",
       "    <tr>\n",
       "      <th>2021-05-01</th>\n",
       "      <td>23.807025</td>\n",
       "      <td>28.4</td>\n",
       "      <td>68.000000</td>\n",
       "      <td>20.396981</td>\n",
       "      <td>28.766940</td>\n",
       "      <td>61.249092</td>\n",
       "    </tr>\n",
       "    <tr>\n",
       "      <th>2021-06-01</th>\n",
       "      <td>22.082183</td>\n",
       "      <td>28.4</td>\n",
       "      <td>56.000000</td>\n",
       "      <td>21.385309</td>\n",
       "      <td>28.900019</td>\n",
       "      <td>61.652002</td>\n",
       "    </tr>\n",
       "    <tr>\n",
       "      <th>2021-07-01</th>\n",
       "      <td>22.565923</td>\n",
       "      <td>28.7</td>\n",
       "      <td>57.000000</td>\n",
       "      <td>22.203719</td>\n",
       "      <td>28.314587</td>\n",
       "      <td>63.164154</td>\n",
       "    </tr>\n",
       "    <tr>\n",
       "      <th>2021-08-01</th>\n",
       "      <td>25.189367</td>\n",
       "      <td>28.8</td>\n",
       "      <td>57.000000</td>\n",
       "      <td>20.722718</td>\n",
       "      <td>28.029219</td>\n",
       "      <td>60.990070</td>\n",
       "    </tr>\n",
       "    <tr>\n",
       "      <th>2021-09-01</th>\n",
       "      <td>20.936309</td>\n",
       "      <td>29.2</td>\n",
       "      <td>58.000000</td>\n",
       "      <td>19.495767</td>\n",
       "      <td>27.547651</td>\n",
       "      <td>61.068554</td>\n",
       "    </tr>\n",
       "    <tr>\n",
       "      <th>2021-10-01</th>\n",
       "      <td>24.405149</td>\n",
       "      <td>27.6</td>\n",
       "      <td>70.000000</td>\n",
       "      <td>20.524691</td>\n",
       "      <td>27.697065</td>\n",
       "      <td>62.350818</td>\n",
       "    </tr>\n",
       "    <tr>\n",
       "      <th>2021-11-01</th>\n",
       "      <td>22.855710</td>\n",
       "      <td>26.5</td>\n",
       "      <td>77.000000</td>\n",
       "      <td>20.800055</td>\n",
       "      <td>27.664351</td>\n",
       "      <td>67.848481</td>\n",
       "    </tr>\n",
       "    <tr>\n",
       "      <th>2021-12-01</th>\n",
       "      <td>22.039633</td>\n",
       "      <td>26.2</td>\n",
       "      <td>78.000000</td>\n",
       "      <td>19.710242</td>\n",
       "      <td>26.833072</td>\n",
       "      <td>74.836707</td>\n",
       "    </tr>\n",
       "  </tbody>\n",
       "</table>\n",
       "</div>"
      ],
      "text/plain": [
       "               Demand  Temp_Avg  HumidityDay  Demand_predicted  \\\n",
       "2021-01-01  22.337164      25.7    83.000000         19.250523   \n",
       "2021-02-01  21.177344      26.0    66.597561         18.722298   \n",
       "2021-03-01  23.782002      27.3    70.000000         19.365913   \n",
       "2021-04-01  22.317907      28.9    65.000000         19.563493   \n",
       "2021-05-01  23.807025      28.4    68.000000         20.396981   \n",
       "2021-06-01  22.082183      28.4    56.000000         21.385309   \n",
       "2021-07-01  22.565923      28.7    57.000000         22.203719   \n",
       "2021-08-01  25.189367      28.8    57.000000         20.722718   \n",
       "2021-09-01  20.936309      29.2    58.000000         19.495767   \n",
       "2021-10-01  24.405149      27.6    70.000000         20.524691   \n",
       "2021-11-01  22.855710      26.5    77.000000         20.800055   \n",
       "2021-12-01  22.039633      26.2    78.000000         19.710242   \n",
       "\n",
       "            Temp_Avg_predicted  HumidityDay_predicted  \n",
       "2021-01-01           26.301223              74.451165  \n",
       "2021-02-01           26.383615              71.114963  \n",
       "2021-03-01           27.419128              66.553681  \n",
       "2021-04-01           28.530536              62.311789  \n",
       "2021-05-01           28.766940              61.249092  \n",
       "2021-06-01           28.900019              61.652002  \n",
       "2021-07-01           28.314587              63.164154  \n",
       "2021-08-01           28.029219              60.990070  \n",
       "2021-09-01           27.547651              61.068554  \n",
       "2021-10-01           27.697065              62.350818  \n",
       "2021-11-01           27.664351              67.848481  \n",
       "2021-12-01           26.833072              74.836707  "
      ]
     },
     "execution_count": 29,
     "metadata": {},
     "output_type": "execute_result"
    }
   ],
   "source": [
    "test_vs_pred=pd.concat([df_test,predictions],axis=1)\n",
    "test_vs_pred"
   ]
  },
  {
   "cell_type": "code",
   "execution_count": 30,
   "id": "c3bef32e",
   "metadata": {},
   "outputs": [
    {
     "data": {
      "text/plain": [
       "<AxesSubplot:>"
      ]
     },
     "execution_count": 30,
     "metadata": {},
     "output_type": "execute_result"
    },
    {
     "data": {
      "image/png": "[encoded data removed]",
      "text/plain": [
       "<Figure size 1200x500 with 1 Axes>"
      ]
     },
     "metadata": {},
     "output_type": "display_data"
    }
   ],
   "source": [
    "test_vs_pred.plot(figsize=(12,5))"
   ]
  },
  {
   "cell_type": "code",
   "execution_count": 31,
   "id": "78ee044e",
   "metadata": {},
   "outputs": [
    {
     "name": "stdout",
     "output_type": "stream",
     "text": [
      "14.267230419128708\n"
     ]
    }
   ],
   "source": [
    "Mean_Square_Error=mean_squared_error(df_test,predictions,multioutput='uniform_average')\n",
    "print(Mean_Square_Error)"
   ]
  },
  {
   "cell_type": "code",
   "execution_count": 32,
   "id": "3117ee2c",
   "metadata": {},
   "outputs": [
    {
     "name": "stdout",
     "output_type": "stream",
     "text": [
      "3.7771987529290416\n"
     ]
    }
   ],
   "source": [
    "Root_Mean_Square_Error=sqrt(mean_squared_error(df_test,predictions))\n",
    "print(Root_Mean_Square_Error)"
   ]
  },
  {
   "cell_type": "code",
   "execution_count": 33,
   "id": "f2792c0e",
   "metadata": {},
   "outputs": [
    {
     "name": "stdout",
     "output_type": "stream",
     "text": [
      "2.866329896536296\n"
     ]
    }
   ],
   "source": [
    "Mean_Absolute_Error=mean_absolute_error(df_test,predictions)\n",
    "print(Mean_Absolute_Error)"
   ]
  },
  {
   "cell_type": "code",
   "execution_count": 34,
   "id": "f7180e09",
   "metadata": {},
   "outputs": [
    {
     "name": "stdout",
     "output_type": "stream",
     "text": [
      "0.4521417657073097\n"
     ]
    }
   ],
   "source": [
    "R2_Error=r2_score(df_test,predictions,multioutput='variance_weighted')\n",
    "print(R2_Error)"
   ]
  },
  {
   "cell_type": "code",
   "execution_count": null,
   "id": "78ee6f5a",
   "metadata": {},
   "outputs": [],
   "source": []
  }
 ],
 "metadata": {
  "kernelspec": {
   "display_name": "Python 3 (ipykernel)",
   "language": "python",
   "name": "python3"
  },
  "language_info": {
   "codemirror_mode": {
    "name": "ipython",
    "version": 3
   },
   "file_extension": ".py",
   "mimetype": "text/x-python",
   "name": "python",
   "nbconvert_exporter": "python",
   "pygments_lexer": "ipython3",
   "version": "3.9.13"
  },
  "toc": {
   "base_numbering": 1,
   "nav_menu": {},
   "number_sections": true,
   "sideBar": true,
   "skip_h1_title": false,
   "title_cell": "Table of Contents",
   "title_sidebar": "Contents",
   "toc_cell": false,
   "toc_position": {},
   "toc_section_display": true,
   "toc_window_display": false
  }
 },
 "nbformat": 4,
 "nbformat_minor": 5
}
