{
 "cells": [
  {
   "cell_type": "code",
   "execution_count": 1,
   "id": "7a439528",
   "metadata": {},
   "outputs": [],
   "source": [
    "import numpy as np \n",
    "import pandas as pd \n",
    "import matplotlib.pyplot as plt\n",
    "from sklearn.linear_model import LinearRegression\n",
    "import seaborn as seabornInstance\n",
    "from sklearn.model_selection import train_test_split\n",
    "from sklearn.metrics import classification_report,accuracy_score\n",
    "from sklearn import metrics\n",
    "%matplotlib inline\n",
    "from sklearn.impute import SimpleImputer # import simple imputer\n",
    "import seaborn as sn"
   ]
  },
  {
   "cell_type": "code",
   "execution_count": 2,
   "id": "32dadf39",
   "metadata": {},
   "outputs": [
    {
     "data": {
      "text/html": [
       "<div>\n",
       "<style scoped>\n",
       "    .dataframe tbody tr th:only-of-type {\n",
       "        vertical-align: middle;\n",
       "    }\n",
       "\n",
       "    .dataframe tbody tr th {\n",
       "        vertical-align: top;\n",
       "    }\n",
       "\n",
       "    .dataframe thead th {\n",
       "        text-align: right;\n",
       "    }\n",
       "</style>\n",
       "<table border=\"1\" class=\"dataframe\">\n",
       "  <thead>\n",
       "    <tr style=\"text-align: right;\">\n",
       "      <th></th>\n",
       "      <th>Demand</th>\n",
       "      <th>Temp_Avg</th>\n",
       "      <th>Temp_Max</th>\n",
       "      <th>Temp_Min</th>\n",
       "      <th>Rainfall_Avg</th>\n",
       "      <th>HumidityDay</th>\n",
       "      <th>HumidityNight</th>\n",
       "    </tr>\n",
       "    <tr>\n",
       "      <th>Month</th>\n",
       "      <th></th>\n",
       "      <th></th>\n",
       "      <th></th>\n",
       "      <th></th>\n",
       "      <th></th>\n",
       "      <th></th>\n",
       "      <th></th>\n",
       "    </tr>\n",
       "  </thead>\n",
       "  <tbody>\n",
       "    <tr>\n",
       "      <th>2015-01-01</th>\n",
       "      <td>13.355776</td>\n",
       "      <td>26.7</td>\n",
       "      <td>31.3</td>\n",
       "      <td>22.2</td>\n",
       "      <td>15.8</td>\n",
       "      <td>69</td>\n",
       "      <td>92.0</td>\n",
       "    </tr>\n",
       "    <tr>\n",
       "      <th>2015-02-01</th>\n",
       "      <td>12.717279</td>\n",
       "      <td>26.8</td>\n",
       "      <td>31.2</td>\n",
       "      <td>22.3</td>\n",
       "      <td>129.8</td>\n",
       "      <td>71</td>\n",
       "      <td>92.0</td>\n",
       "    </tr>\n",
       "    <tr>\n",
       "      <th>2015-03-01</th>\n",
       "      <td>13.780719</td>\n",
       "      <td>28.7</td>\n",
       "      <td>33.6</td>\n",
       "      <td>23.7</td>\n",
       "      <td>26.0</td>\n",
       "      <td>64</td>\n",
       "      <td>89.0</td>\n",
       "    </tr>\n",
       "    <tr>\n",
       "      <th>2015-04-01</th>\n",
       "      <td>14.926229</td>\n",
       "      <td>29.2</td>\n",
       "      <td>34.1</td>\n",
       "      <td>24.2</td>\n",
       "      <td>288.2</td>\n",
       "      <td>68</td>\n",
       "      <td>91.0</td>\n",
       "    </tr>\n",
       "    <tr>\n",
       "      <th>2015-05-01</th>\n",
       "      <td>15.463069</td>\n",
       "      <td>29.3</td>\n",
       "      <td>33.5</td>\n",
       "      <td>25.1</td>\n",
       "      <td>264.7</td>\n",
       "      <td>73</td>\n",
       "      <td>91.0</td>\n",
       "    </tr>\n",
       "  </tbody>\n",
       "</table>\n",
       "</div>"
      ],
      "text/plain": [
       "               Demand  Temp_Avg  Temp_Max  Temp_Min  Rainfall_Avg  \\\n",
       "Month                                                               \n",
       "2015-01-01  13.355776      26.7      31.3      22.2          15.8   \n",
       "2015-02-01  12.717279      26.8      31.2      22.3         129.8   \n",
       "2015-03-01  13.780719      28.7      33.6      23.7          26.0   \n",
       "2015-04-01  14.926229      29.2      34.1      24.2         288.2   \n",
       "2015-05-01  15.463069      29.3      33.5      25.1         264.7   \n",
       "\n",
       "            HumidityDay  HumidityNight  \n",
       "Month                                   \n",
       "2015-01-01           69           92.0  \n",
       "2015-02-01           71           92.0  \n",
       "2015-03-01           64           89.0  \n",
       "2015-04-01           68           91.0  \n",
       "2015-05-01           73           91.0  "
      ]
     },
     "execution_count": 2,
     "metadata": {},
     "output_type": "execute_result"
    }
   ],
   "source": [
    "data =pd.read_csv(\"../Data/final/Anuradapura_demand.csv\",index_col=\"Month\",parse_dates=[\"Month\"])\n",
    "data.head()"
   ]
  },
  {
   "cell_type": "code",
   "execution_count": 3,
   "id": "20ab9ac5",
   "metadata": {},
   "outputs": [
    {
     "data": {
      "text/html": [
       "<div>\n",
       "<style scoped>\n",
       "    .dataframe tbody tr th:only-of-type {\n",
       "        vertical-align: middle;\n",
       "    }\n",
       "\n",
       "    .dataframe tbody tr th {\n",
       "        vertical-align: top;\n",
       "    }\n",
       "\n",
       "    .dataframe thead th {\n",
       "        text-align: right;\n",
       "    }\n",
       "</style>\n",
       "<table border=\"1\" class=\"dataframe\">\n",
       "  <thead>\n",
       "    <tr style=\"text-align: right;\">\n",
       "      <th></th>\n",
       "      <th>Demand</th>\n",
       "      <th>Temp_Avg</th>\n",
       "      <th>Temp_Max</th>\n",
       "      <th>Temp_Min</th>\n",
       "      <th>Rainfall_Avg</th>\n",
       "      <th>HumidityDay</th>\n",
       "      <th>HumidityNight</th>\n",
       "    </tr>\n",
       "  </thead>\n",
       "  <tbody>\n",
       "    <tr>\n",
       "      <th>count</th>\n",
       "      <td>84.000000</td>\n",
       "      <td>84.000000</td>\n",
       "      <td>84.000000</td>\n",
       "      <td>84.000000</td>\n",
       "      <td>84.000000</td>\n",
       "      <td>84.000000</td>\n",
       "      <td>83.000000</td>\n",
       "    </tr>\n",
       "    <tr>\n",
       "      <th>mean</th>\n",
       "      <td>18.291453</td>\n",
       "      <td>28.398810</td>\n",
       "      <td>32.642857</td>\n",
       "      <td>24.151190</td>\n",
       "      <td>114.367857</td>\n",
       "      <td>69.238095</td>\n",
       "      <td>90.397590</td>\n",
       "    </tr>\n",
       "    <tr>\n",
       "      <th>std</th>\n",
       "      <td>3.224086</td>\n",
       "      <td>1.349296</td>\n",
       "      <td>1.755356</td>\n",
       "      <td>1.193203</td>\n",
       "      <td>117.104345</td>\n",
       "      <td>6.399584</td>\n",
       "      <td>3.083946</td>\n",
       "    </tr>\n",
       "    <tr>\n",
       "      <th>min</th>\n",
       "      <td>8.302096</td>\n",
       "      <td>25.600000</td>\n",
       "      <td>28.600000</td>\n",
       "      <td>20.900000</td>\n",
       "      <td>0.000000</td>\n",
       "      <td>57.000000</td>\n",
       "      <td>83.000000</td>\n",
       "    </tr>\n",
       "    <tr>\n",
       "      <th>25%</th>\n",
       "      <td>16.197128</td>\n",
       "      <td>27.150000</td>\n",
       "      <td>31.275000</td>\n",
       "      <td>23.475000</td>\n",
       "      <td>18.500000</td>\n",
       "      <td>65.000000</td>\n",
       "      <td>88.000000</td>\n",
       "    </tr>\n",
       "    <tr>\n",
       "      <th>50%</th>\n",
       "      <td>18.773882</td>\n",
       "      <td>28.800000</td>\n",
       "      <td>33.000000</td>\n",
       "      <td>24.350000</td>\n",
       "      <td>73.950000</td>\n",
       "      <td>68.500000</td>\n",
       "      <td>91.000000</td>\n",
       "    </tr>\n",
       "    <tr>\n",
       "      <th>75%</th>\n",
       "      <td>20.547705</td>\n",
       "      <td>29.400000</td>\n",
       "      <td>33.925000</td>\n",
       "      <td>25.100000</td>\n",
       "      <td>170.975000</td>\n",
       "      <td>73.250000</td>\n",
       "      <td>92.000000</td>\n",
       "    </tr>\n",
       "    <tr>\n",
       "      <th>max</th>\n",
       "      <td>30.408826</td>\n",
       "      <td>31.100000</td>\n",
       "      <td>36.400000</td>\n",
       "      <td>25.900000</td>\n",
       "      <td>463.100000</td>\n",
       "      <td>84.000000</td>\n",
       "      <td>96.000000</td>\n",
       "    </tr>\n",
       "  </tbody>\n",
       "</table>\n",
       "</div>"
      ],
      "text/plain": [
       "          Demand   Temp_Avg   Temp_Max   Temp_Min  Rainfall_Avg  HumidityDay  \\\n",
       "count  84.000000  84.000000  84.000000  84.000000     84.000000    84.000000   \n",
       "mean   18.291453  28.398810  32.642857  24.151190    114.367857    69.238095   \n",
       "std     3.224086   1.349296   1.755356   1.193203    117.104345     6.399584   \n",
       "min     8.302096  25.600000  28.600000  20.900000      0.000000    57.000000   \n",
       "25%    16.197128  27.150000  31.275000  23.475000     18.500000    65.000000   \n",
       "50%    18.773882  28.800000  33.000000  24.350000     73.950000    68.500000   \n",
       "75%    20.547705  29.400000  33.925000  25.100000    170.975000    73.250000   \n",
       "max    30.408826  31.100000  36.400000  25.900000    463.100000    84.000000   \n",
       "\n",
       "       HumidityNight  \n",
       "count      83.000000  \n",
       "mean       90.397590  \n",
       "std         3.083946  \n",
       "min        83.000000  \n",
       "25%        88.000000  \n",
       "50%        91.000000  \n",
       "75%        92.000000  \n",
       "max        96.000000  "
      ]
     },
     "execution_count": 3,
     "metadata": {},
     "output_type": "execute_result"
    }
   ],
   "source": [
    "data.describe(include='all')"
   ]
  },
  {
   "cell_type": "code",
   "execution_count": 4,
   "id": "d54dd082",
   "metadata": {},
   "outputs": [
    {
     "data": {
      "text/plain": [
       "(84, 7)"
      ]
     },
     "execution_count": 4,
     "metadata": {},
     "output_type": "execute_result"
    }
   ],
   "source": [
    "data.shape"
   ]
  },
  {
   "cell_type": "code",
   "execution_count": 5,
   "id": "2bae80ce",
   "metadata": {},
   "outputs": [
    {
     "data": {
      "text/plain": [
       "Demand           0\n",
       "Temp_Avg         0\n",
       "Temp_Max         0\n",
       "Temp_Min         0\n",
       "Rainfall_Avg     0\n",
       "HumidityDay      0\n",
       "HumidityNight    1\n",
       "dtype: int64"
      ]
     },
     "execution_count": 5,
     "metadata": {},
     "output_type": "execute_result"
    }
   ],
   "source": [
    "data.isnull().sum()"
   ]
  },
  {
   "cell_type": "code",
   "execution_count": 6,
   "id": "e33d55c7",
   "metadata": {},
   "outputs": [
    {
     "data": {
      "text/plain": [
       "Demand           0\n",
       "Temp_Avg         0\n",
       "Temp_Max         0\n",
       "Temp_Min         0\n",
       "Rainfall_Avg     0\n",
       "HumidityDay      0\n",
       "HumidityNight    1\n",
       "dtype: int64"
      ]
     },
     "execution_count": 6,
     "metadata": {},
     "output_type": "execute_result"
    }
   ],
   "source": [
    "sample_data= data.copy()\n",
    "sample_data.isnull().sum()"
   ]
  },
  {
   "cell_type": "code",
   "execution_count": 8,
   "id": "2dfad8b7",
   "metadata": {},
   "outputs": [
    {
     "data": {
      "text/html": [
       "<div>\n",
       "<style scoped>\n",
       "    .dataframe tbody tr th:only-of-type {\n",
       "        vertical-align: middle;\n",
       "    }\n",
       "\n",
       "    .dataframe tbody tr th {\n",
       "        vertical-align: top;\n",
       "    }\n",
       "\n",
       "    .dataframe thead th {\n",
       "        text-align: right;\n",
       "    }\n",
       "</style>\n",
       "<table border=\"1\" class=\"dataframe\">\n",
       "  <thead>\n",
       "    <tr style=\"text-align: right;\">\n",
       "      <th></th>\n",
       "      <th>Demand</th>\n",
       "      <th>Temp_Avg</th>\n",
       "      <th>Temp_Max</th>\n",
       "      <th>Temp_Min</th>\n",
       "      <th>Rainfall_Avg</th>\n",
       "      <th>HumidityDay</th>\n",
       "      <th>HumidityNight</th>\n",
       "    </tr>\n",
       "    <tr>\n",
       "      <th>Month</th>\n",
       "      <th></th>\n",
       "      <th></th>\n",
       "      <th></th>\n",
       "      <th></th>\n",
       "      <th></th>\n",
       "      <th></th>\n",
       "      <th></th>\n",
       "    </tr>\n",
       "  </thead>\n",
       "  <tbody>\n",
       "    <tr>\n",
       "      <th>2015-01-01</th>\n",
       "      <td>13.355776</td>\n",
       "      <td>26.7</td>\n",
       "      <td>31.3</td>\n",
       "      <td>22.2</td>\n",
       "      <td>15.8</td>\n",
       "      <td>69</td>\n",
       "      <td>92.0</td>\n",
       "    </tr>\n",
       "    <tr>\n",
       "      <th>2015-02-01</th>\n",
       "      <td>12.717279</td>\n",
       "      <td>26.8</td>\n",
       "      <td>31.2</td>\n",
       "      <td>22.3</td>\n",
       "      <td>129.8</td>\n",
       "      <td>71</td>\n",
       "      <td>92.0</td>\n",
       "    </tr>\n",
       "    <tr>\n",
       "      <th>2015-03-01</th>\n",
       "      <td>13.780719</td>\n",
       "      <td>28.7</td>\n",
       "      <td>33.6</td>\n",
       "      <td>23.7</td>\n",
       "      <td>26.0</td>\n",
       "      <td>64</td>\n",
       "      <td>89.0</td>\n",
       "    </tr>\n",
       "    <tr>\n",
       "      <th>2015-04-01</th>\n",
       "      <td>14.926229</td>\n",
       "      <td>29.2</td>\n",
       "      <td>34.1</td>\n",
       "      <td>24.2</td>\n",
       "      <td>288.2</td>\n",
       "      <td>68</td>\n",
       "      <td>91.0</td>\n",
       "    </tr>\n",
       "    <tr>\n",
       "      <th>2015-05-01</th>\n",
       "      <td>15.463069</td>\n",
       "      <td>29.3</td>\n",
       "      <td>33.5</td>\n",
       "      <td>25.1</td>\n",
       "      <td>264.7</td>\n",
       "      <td>73</td>\n",
       "      <td>91.0</td>\n",
       "    </tr>\n",
       "  </tbody>\n",
       "</table>\n",
       "</div>"
      ],
      "text/plain": [
       "               Demand  Temp_Avg  Temp_Max  Temp_Min  Rainfall_Avg  \\\n",
       "Month                                                               \n",
       "2015-01-01  13.355776      26.7      31.3      22.2          15.8   \n",
       "2015-02-01  12.717279      26.8      31.2      22.3         129.8   \n",
       "2015-03-01  13.780719      28.7      33.6      23.7          26.0   \n",
       "2015-04-01  14.926229      29.2      34.1      24.2         288.2   \n",
       "2015-05-01  15.463069      29.3      33.5      25.1         264.7   \n",
       "\n",
       "            HumidityDay  HumidityNight  \n",
       "Month                                   \n",
       "2015-01-01           69           92.0  \n",
       "2015-02-01           71           92.0  \n",
       "2015-03-01           64           89.0  \n",
       "2015-04-01           68           91.0  \n",
       "2015-05-01           73           91.0  "
      ]
     },
     "execution_count": 8,
     "metadata": {},
     "output_type": "execute_result"
    }
   ],
   "source": [
    "sample_data.head()"
   ]
  },
  {
   "cell_type": "code",
   "execution_count": 9,
   "id": "9a587bc3",
   "metadata": {},
   "outputs": [],
   "source": [
    "imputer = SimpleImputer(missing_values=np.NaN, strategy='mean') \n",
    "sample_data.HumidityNight = imputer.fit_transform(sample_data['HumidityNight'].values.reshape(-1,1))[:,0]"
   ]
  },
  {
   "cell_type": "code",
   "execution_count": 10,
   "id": "2d909c7e",
   "metadata": {},
   "outputs": [
    {
     "data": {
      "text/plain": [
       "Demand           0\n",
       "Temp_Avg         0\n",
       "Temp_Max         0\n",
       "Temp_Min         0\n",
       "Rainfall_Avg     0\n",
       "HumidityDay      0\n",
       "HumidityNight    0\n",
       "dtype: int64"
      ]
     },
     "execution_count": 10,
     "metadata": {},
     "output_type": "execute_result"
    }
   ],
   "source": [
    "sample_data.isnull().sum()"
   ]
  },
  {
   "cell_type": "code",
   "execution_count": 11,
   "id": "7f31e932",
   "metadata": {},
   "outputs": [
    {
     "data": {
      "text/html": [
       "<div>\n",
       "<style scoped>\n",
       "    .dataframe tbody tr th:only-of-type {\n",
       "        vertical-align: middle;\n",
       "    }\n",
       "\n",
       "    .dataframe tbody tr th {\n",
       "        vertical-align: top;\n",
       "    }\n",
       "\n",
       "    .dataframe thead th {\n",
       "        text-align: right;\n",
       "    }\n",
       "</style>\n",
       "<table border=\"1\" class=\"dataframe\">\n",
       "  <thead>\n",
       "    <tr style=\"text-align: right;\">\n",
       "      <th></th>\n",
       "      <th>Temp_Avg</th>\n",
       "      <th>Temp_Max</th>\n",
       "      <th>Temp_Min</th>\n",
       "      <th>Rainfall_Avg</th>\n",
       "      <th>HumidityDay</th>\n",
       "      <th>HumidityNight</th>\n",
       "    </tr>\n",
       "    <tr>\n",
       "      <th>Month</th>\n",
       "      <th></th>\n",
       "      <th></th>\n",
       "      <th></th>\n",
       "      <th></th>\n",
       "      <th></th>\n",
       "      <th></th>\n",
       "    </tr>\n",
       "  </thead>\n",
       "  <tbody>\n",
       "    <tr>\n",
       "      <th>2015-01-01</th>\n",
       "      <td>26.7</td>\n",
       "      <td>31.3</td>\n",
       "      <td>22.2</td>\n",
       "      <td>15.8</td>\n",
       "      <td>69</td>\n",
       "      <td>92.0</td>\n",
       "    </tr>\n",
       "    <tr>\n",
       "      <th>2015-02-01</th>\n",
       "      <td>26.8</td>\n",
       "      <td>31.2</td>\n",
       "      <td>22.3</td>\n",
       "      <td>129.8</td>\n",
       "      <td>71</td>\n",
       "      <td>92.0</td>\n",
       "    </tr>\n",
       "    <tr>\n",
       "      <th>2015-03-01</th>\n",
       "      <td>28.7</td>\n",
       "      <td>33.6</td>\n",
       "      <td>23.7</td>\n",
       "      <td>26.0</td>\n",
       "      <td>64</td>\n",
       "      <td>89.0</td>\n",
       "    </tr>\n",
       "    <tr>\n",
       "      <th>2015-04-01</th>\n",
       "      <td>29.2</td>\n",
       "      <td>34.1</td>\n",
       "      <td>24.2</td>\n",
       "      <td>288.2</td>\n",
       "      <td>68</td>\n",
       "      <td>91.0</td>\n",
       "    </tr>\n",
       "    <tr>\n",
       "      <th>2015-05-01</th>\n",
       "      <td>29.3</td>\n",
       "      <td>33.5</td>\n",
       "      <td>25.1</td>\n",
       "      <td>264.7</td>\n",
       "      <td>73</td>\n",
       "      <td>91.0</td>\n",
       "    </tr>\n",
       "  </tbody>\n",
       "</table>\n",
       "</div>"
      ],
      "text/plain": [
       "            Temp_Avg  Temp_Max  Temp_Min  Rainfall_Avg  HumidityDay  \\\n",
       "Month                                                                 \n",
       "2015-01-01      26.7      31.3      22.2          15.8           69   \n",
       "2015-02-01      26.8      31.2      22.3         129.8           71   \n",
       "2015-03-01      28.7      33.6      23.7          26.0           64   \n",
       "2015-04-01      29.2      34.1      24.2         288.2           68   \n",
       "2015-05-01      29.3      33.5      25.1         264.7           73   \n",
       "\n",
       "            HumidityNight  \n",
       "Month                      \n",
       "2015-01-01           92.0  \n",
       "2015-02-01           92.0  \n",
       "2015-03-01           89.0  \n",
       "2015-04-01           91.0  \n",
       "2015-05-01           91.0  "
      ]
     },
     "execution_count": 11,
     "metadata": {},
     "output_type": "execute_result"
    }
   ],
   "source": [
    "df_required_x=sample_data.drop('Demand',axis=1)\n",
    "df_required_x.head(5)"
   ]
  },
  {
   "cell_type": "code",
   "execution_count": 12,
   "id": "76213106",
   "metadata": {},
   "outputs": [
    {
     "data": {
      "text/plain": [
       "<AxesSubplot:>"
      ]
     },
     "execution_count": 12,
     "metadata": {},
     "output_type": "execute_result"
    },
    {
     "data": {
      "image/png": "[encoded data removed]",
      "text/plain": [
       "<Figure size 1200x1000 with 2 Axes>"
      ]
     },
     "metadata": {},
     "output_type": "display_data"
    }
   ],
   "source": [
    "plt.figure(figsize=(12,10))\n",
    "sn.heatmap(df_required_x.corr(),annot=True)"
   ]
  },
  {
   "cell_type": "code",
   "execution_count": 14,
   "id": "283deff0",
   "metadata": {},
   "outputs": [
    {
     "data": {
      "image/png": "[encoded data removed]",
      "text/plain": [
       "<Figure size 2000x2000 with 3 Axes>"
      ]
     },
     "metadata": {},
     "output_type": "display_data"
    }
   ],
   "source": [
    "features=['Temp_Avg','Rainfall_Avg','HumidityDay']\n",
    "plt.figure(figsize=(20,20))\n",
    "for index,feature_names in enumerate(sample_data[features]):\n",
    "     plt.subplot(4,4,index+1)\n",
    "     plt.scatter(sample_data[feature_names],sample_data['Demand'])\n",
    "     plt.ylabel('Demand',size=15)\n",
    "     plt.xlabel(feature_names,size=15)  "
   ]
  },
  {
   "cell_type": "code",
   "execution_count": 15,
   "id": "f7d8f361",
   "metadata": {},
   "outputs": [],
   "source": [
    "import statsmodels.api as sm\n",
    "X=sample_data[features]\n",
    "y=sample_data['Demand'].values\n",
    "X_train,X_test,y_train,y_test=train_test_split(X,y,random_state=0,test_size=0.20)\n",
    "model=sm.OLS(y_train,X_train).fit()\n",
    "predictions=model.predict(X_test)"
   ]
  },
  {
   "cell_type": "code",
   "execution_count": 16,
   "id": "87043fa5",
   "metadata": {},
   "outputs": [
    {
     "data": {
      "text/html": [
       "<table class=\"simpletable\">\n",
       "<caption>OLS Regression Results</caption>\n",
       "<tr>\n",
       "  <th>Dep. Variable:</th>            <td>y</td>        <th>  R-squared (uncentered):</th>      <td>   0.972</td>\n",
       "</tr>\n",
       "<tr>\n",
       "  <th>Model:</th>                   <td>OLS</td>       <th>  Adj. R-squared (uncentered):</th> <td>   0.971</td>\n",
       "</tr>\n",
       "<tr>\n",
       "  <th>Method:</th>             <td>Least Squares</td>  <th>  F-statistic:       </th>          <td>   935.3</td>\n",
       "</tr>\n",
       "<tr>\n",
       "  <th>Date:</th>             <td>Thu, 16 Feb 2023</td> <th>  Prob (F-statistic):</th>          <td>1.00e-62</td>\n",
       "</tr>\n",
       "<tr>\n",
       "  <th>Time:</th>                 <td>10:21:01</td>     <th>  Log-Likelihood:    </th>          <td> -214.52</td>\n",
       "</tr>\n",
       "<tr>\n",
       "  <th>No. Observations:</th>      <td>    84</td>      <th>  AIC:               </th>          <td>   435.0</td>\n",
       "</tr>\n",
       "<tr>\n",
       "  <th>Df Residuals:</th>          <td>    81</td>      <th>  BIC:               </th>          <td>   442.3</td>\n",
       "</tr>\n",
       "<tr>\n",
       "  <th>Df Model:</th>              <td>     3</td>      <th>                     </th>              <td> </td>   \n",
       "</tr>\n",
       "<tr>\n",
       "  <th>Covariance Type:</th>      <td>nonrobust</td>    <th>                     </th>              <td> </td>   \n",
       "</tr>\n",
       "</table>\n",
       "<table class=\"simpletable\">\n",
       "<tr>\n",
       "        <td></td>          <th>coef</th>     <th>std err</th>      <th>t</th>      <th>P>|t|</th>  <th>[0.025</th>    <th>0.975]</th>  \n",
       "</tr>\n",
       "<tr>\n",
       "  <th>Temp_Avg</th>     <td>    0.4753</td> <td>    0.106</td> <td>    4.505</td> <td> 0.000</td> <td>    0.265</td> <td>    0.685</td>\n",
       "</tr>\n",
       "<tr>\n",
       "  <th>Rainfall_Avg</th> <td>   -0.0022</td> <td>    0.004</td> <td>   -0.631</td> <td> 0.530</td> <td>   -0.009</td> <td>    0.005</td>\n",
       "</tr>\n",
       "<tr>\n",
       "  <th>HumidityDay</th>  <td>    0.0731</td> <td>    0.046</td> <td>    1.586</td> <td> 0.117</td> <td>   -0.019</td> <td>    0.165</td>\n",
       "</tr>\n",
       "</table>\n",
       "<table class=\"simpletable\">\n",
       "<tr>\n",
       "  <th>Omnibus:</th>       <td>17.203</td> <th>  Durbin-Watson:     </th> <td>   1.257</td>\n",
       "</tr>\n",
       "<tr>\n",
       "  <th>Prob(Omnibus):</th> <td> 0.000</td> <th>  Jarque-Bera (JB):  </th> <td>  44.001</td>\n",
       "</tr>\n",
       "<tr>\n",
       "  <th>Skew:</th>          <td>-0.596</td> <th>  Prob(JB):          </th> <td>2.79e-10</td>\n",
       "</tr>\n",
       "<tr>\n",
       "  <th>Kurtosis:</th>      <td> 6.339</td> <th>  Cond. No.          </th> <td>    57.5</td>\n",
       "</tr>\n",
       "</table><br/><br/>Notes:<br/>[1] R² is computed without centering (uncentered) since the model does not contain a constant.<br/>[2] Standard Errors assume that the covariance matrix of the errors is correctly specified."
      ],
      "text/plain": [
       "<class 'statsmodels.iolib.summary.Summary'>\n",
       "\"\"\"\n",
       "                                 OLS Regression Results                                \n",
       "=======================================================================================\n",
       "Dep. Variable:                      y   R-squared (uncentered):                   0.972\n",
       "Model:                            OLS   Adj. R-squared (uncentered):              0.971\n",
       "Method:                 Least Squares   F-statistic:                              935.3\n",
       "Date:                Thu, 16 Feb 2023   Prob (F-statistic):                    1.00e-62\n",
       "Time:                        10:21:01   Log-Likelihood:                         -214.52\n",
       "No. Observations:                  84   AIC:                                      435.0\n",
       "Df Residuals:                      81   BIC:                                      442.3\n",
       "Df Model:                           3                                                  \n",
       "Covariance Type:            nonrobust                                                  \n",
       "================================================================================\n",
       "                   coef    std err          t      P>|t|      [0.025      0.975]\n",
       "--------------------------------------------------------------------------------\n",
       "Temp_Avg         0.4753      0.106      4.505      0.000       0.265       0.685\n",
       "Rainfall_Avg    -0.0022      0.004     -0.631      0.530      -0.009       0.005\n",
       "HumidityDay      0.0731      0.046      1.586      0.117      -0.019       0.165\n",
       "==============================================================================\n",
       "Omnibus:                       17.203   Durbin-Watson:                   1.257\n",
       "Prob(Omnibus):                  0.000   Jarque-Bera (JB):               44.001\n",
       "Skew:                          -0.596   Prob(JB):                     2.79e-10\n",
       "Kurtosis:                       6.339   Cond. No.                         57.5\n",
       "==============================================================================\n",
       "\n",
       "Notes:\n",
       "[1] R² is computed without centering (uncentered) since the model does not contain a constant.\n",
       "[2] Standard Errors assume that the covariance matrix of the errors is correctly specified.\n",
       "\"\"\""
      ]
     },
     "execution_count": 16,
     "metadata": {},
     "output_type": "execute_result"
    }
   ],
   "source": [
    "model=sm.OLS(y,X)\n",
    "results=model.fit()\n",
    "results.summary()"
   ]
  },
  {
   "cell_type": "code",
   "execution_count": 26,
   "id": "7831ea26",
   "metadata": {},
   "outputs": [],
   "source": [
    "sig_var=['Temp_Avg','HumidityDay']\n",
    "X_train=X_train[sig_var]"
   ]
  },
  {
   "cell_type": "code",
   "execution_count": 20,
   "id": "12812d49",
   "metadata": {},
   "outputs": [],
   "source": [
    "model_2=sm.OLS(y_train,X_train).fit()"
   ]
  },
  {
   "cell_type": "code",
   "execution_count": 21,
   "id": "0af0cb7a",
   "metadata": {},
   "outputs": [
    {
     "data": {
      "text/html": [
       "<table class=\"simpletable\">\n",
       "<tr>\n",
       "          <td>Model:</td>                 <td>OLS</td>       <td>Adj. R-squared (uncentered):</td>   <td>0.973</td> \n",
       "</tr>\n",
       "<tr>\n",
       "    <td>Dependent Variable:</td>           <td>y</td>                    <td>AIC:</td>             <td>341.3437</td>\n",
       "</tr>\n",
       "<tr>\n",
       "           <td>Date:</td>          <td>2023-02-16 10:34</td>             <td>BIC:</td>             <td>345.7531</td>\n",
       "</tr>\n",
       "<tr>\n",
       "     <td>No. Observations:</td>           <td>67</td>               <td>Log-Likelihood:</td>        <td>-168.67</td>\n",
       "</tr>\n",
       "<tr>\n",
       "         <td>Df Model:</td>                <td>2</td>                <td>F-statistic:</td>           <td>1227.</td> \n",
       "</tr>\n",
       "<tr>\n",
       "       <td>Df Residuals:</td>             <td>65</td>             <td>Prob (F-statistic):</td>     <td>2.40e-52</td>\n",
       "</tr>\n",
       "<tr>\n",
       "  <td>R-squared (uncentered):</td>       <td>0.974</td>                 <td>Scale:</td>             <td>9.2758</td> \n",
       "</tr>\n",
       "</table>\n",
       "<table class=\"simpletable\">\n",
       "<tr>\n",
       "       <td></td>        <th>Coef.</th> <th>Std.Err.</th>    <th>t</th>    <th>P>|t|</th> <th>[0.025</th> <th>0.975]</th>\n",
       "</tr>\n",
       "<tr>\n",
       "  <th>Temp_Avg</th>    <td>0.4517</td>  <td>0.1008</td>  <td>4.4797</td> <td>0.0000</td> <td>0.2503</td> <td>0.6531</td>\n",
       "</tr>\n",
       "<tr>\n",
       "  <th>HumidityDay</th> <td>0.0812</td>  <td>0.0406</td>  <td>1.9972</td> <td>0.0500</td> <td>0.0000</td> <td>0.1623</td>\n",
       "</tr>\n",
       "</table>\n",
       "<table class=\"simpletable\">\n",
       "<tr>\n",
       "     <td>Omnibus:</td>    <td>13.369</td>  <td>Durbin-Watson:</td>    <td>1.846</td>\n",
       "</tr>\n",
       "<tr>\n",
       "  <td>Prob(Omnibus):</td>  <td>0.001</td> <td>Jarque-Bera (JB):</td> <td>39.536</td>\n",
       "</tr>\n",
       "<tr>\n",
       "       <td>Skew:</td>     <td>-0.352</td>     <td>Prob(JB):</td>      <td>0.000</td>\n",
       "</tr>\n",
       "<tr>\n",
       "     <td>Kurtosis:</td>    <td>6.697</td>  <td>Condition No.:</td>     <td>22</td>  \n",
       "</tr>\n",
       "</table>"
      ],
      "text/plain": [
       "<class 'statsmodels.iolib.summary2.Summary'>\n",
       "\"\"\"\n",
       "                       Results: Ordinary least squares\n",
       "==============================================================================\n",
       "Model:                  OLS              Adj. R-squared (uncentered): 0.973   \n",
       "Dependent Variable:     y                AIC:                         341.3437\n",
       "Date:                   2023-02-16 10:34 BIC:                         345.7531\n",
       "No. Observations:       67               Log-Likelihood:              -168.67 \n",
       "Df Model:               2                F-statistic:                 1227.   \n",
       "Df Residuals:           65               Prob (F-statistic):          2.40e-52\n",
       "R-squared (uncentered): 0.974            Scale:                       9.2758  \n",
       "----------------------------------------------------------------------------------\n",
       "                   Coef.      Std.Err.       t        P>|t|      [0.025     0.975]\n",
       "----------------------------------------------------------------------------------\n",
       "Temp_Avg           0.4517       0.1008     4.4797     0.0000     0.2503     0.6531\n",
       "HumidityDay        0.0812       0.0406     1.9972     0.0500     0.0000     0.1623\n",
       "------------------------------------------------------------------------------\n",
       "Omnibus:                   13.369           Durbin-Watson:              1.846 \n",
       "Prob(Omnibus):             0.001            Jarque-Bera (JB):           39.536\n",
       "Skew:                      -0.352           Prob(JB):                   0.000 \n",
       "Kurtosis:                  6.697            Condition No.:              22    \n",
       "==============================================================================\n",
       "\n",
       "\"\"\""
      ]
     },
     "execution_count": 21,
     "metadata": {},
     "output_type": "execute_result"
    }
   ],
   "source": [
    "model_2.summary2()"
   ]
  },
  {
   "cell_type": "code",
   "execution_count": 22,
   "id": "7d17b316",
   "metadata": {},
   "outputs": [
    {
     "data": {
      "text/plain": [
       "<Figure size 800x600 with 0 Axes>"
      ]
     },
     "metadata": {},
     "output_type": "display_data"
    },
    {
     "data": {
      "image/png": "[encoded data removed]",
      "text/plain": [
       "<Figure size 640x480 with 1 Axes>"
      ]
     },
     "metadata": {},
     "output_type": "display_data"
    }
   ],
   "source": [
    "probplot=sm.ProbPlot(model_2.resid)\n",
    "plt.figure(figsize=(8,6))\n",
    "probplot.ppplot(line='45')\n",
    "plt.show()"
   ]
  },
  {
   "cell_type": "code",
   "execution_count": 27,
   "id": "565d7cc8",
   "metadata": {},
   "outputs": [
    {
     "data": {
      "text/plain": [
       "Month\n",
       "2017-07-01    18.728979\n",
       "2018-05-01    18.916774\n",
       "2018-08-01    18.376086\n",
       "2019-03-01    18.042914\n",
       "2016-11-01    18.537053\n",
       "2019-07-01    18.376775\n",
       "2015-03-01    18.159398\n",
       "2019-09-01    18.700774\n",
       "2017-03-01    18.276570\n",
       "2015-09-01    18.583602\n",
       "2020-10-01    18.294914\n",
       "2016-02-01    18.077537\n",
       "2020-07-01    18.763602\n",
       "2021-06-01    18.664774\n",
       "2016-05-01    19.151806\n",
       "2017-04-01    18.719807\n",
       "2021-04-01    18.764290\n",
       "dtype: float64"
      ]
     },
     "execution_count": 27,
     "metadata": {},
     "output_type": "execute_result"
    }
   ],
   "source": [
    "#prediction\n",
    "pred=model_2.predict(X_test[sig_var])\n",
    "pred"
   ]
  },
  {
   "cell_type": "code",
   "execution_count": 28,
   "id": "628a4b8c",
   "metadata": {},
   "outputs": [
    {
     "data": {
      "text/plain": [
       "3.59175517515843"
      ]
     },
     "execution_count": 28,
     "metadata": {},
     "output_type": "execute_result"
    }
   ],
   "source": [
    "#measuring RMSE\n",
    "np.sqrt(metrics.mean_squared_error(pred,y_test))"
   ]
  },
  {
   "cell_type": "code",
   "execution_count": 33,
   "id": "023137e3",
   "metadata": {},
   "outputs": [
    {
     "data": {
      "text/plain": [
       "-143.60564422815182"
      ]
     },
     "execution_count": 33,
     "metadata": {},
     "output_type": "execute_result"
    }
   ],
   "source": [
    "#measuring R2\n",
    "metrics.r2_score(pred,y_test)"
   ]
  },
  {
   "cell_type": "code",
   "execution_count": null,
   "id": "f301571d",
   "metadata": {},
   "outputs": [],
   "source": []
  }
 ],
 "metadata": {
  "kernelspec": {
   "display_name": "Python 3 (ipykernel)",
   "language": "python",
   "name": "python3"
  },
  "language_info": {
   "codemirror_mode": {
    "name": "ipython",
    "version": 3
   },
   "file_extension": ".py",
   "mimetype": "text/x-python",
   "name": "python",
   "nbconvert_exporter": "python",
   "pygments_lexer": "ipython3",
   "version": "3.9.13"
  },
  "toc": {
   "base_numbering": 1,
   "nav_menu": {},
   "number_sections": true,
   "sideBar": true,
   "skip_h1_title": false,
   "title_cell": "Table of Contents",
   "title_sidebar": "Contents",
   "toc_cell": false,
   "toc_position": {},
   "toc_section_display": true,
   "toc_window_display": false
  }
 },
 "nbformat": 4,
 "nbformat_minor": 5
}
