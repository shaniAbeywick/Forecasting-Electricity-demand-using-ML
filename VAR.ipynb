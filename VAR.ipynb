{
 "cells": [
  {
   "cell_type": "code",
   "execution_count": 23,
   "id": "ced60c80",
   "metadata": {},
   "outputs": [],
   "source": [
    "import numpy as np\n",
    "import pandas as pd\n",
    "import matplotlib.pyplot as plt\n",
    "import statsmodels.api as sm\n",
    "from statsmodels.graphics.tsaplots import plot_acf, plot_pacf\n",
    "from statsmodels.tsa.statespace.varmax import VARMAX\n",
    "from statsmodels.tsa.api import VAR\n",
    "from statsmodels.tsa.stattools import grangercausalitytests, adfuller\n",
    "from sklearn.impute import SimpleImputer # import simple imputer\n",
    "from math import sqrt\n",
    "from sklearn.metrics import mean_squared_error,mean_absolute_error,mean_absolute_percentage_error,r2_score\n",
    "\n",
    "import warnings\n",
    "warnings.filterwarnings('ignore')"
   ]
  },
  {
   "cell_type": "code",
   "execution_count": 24,
   "id": "4bc8286c",
   "metadata": {},
   "outputs": [
    {
     "name": "stdout",
     "output_type": "stream",
     "text": [
      "(84, 7)\n"
     ]
    },
    {
     "data": {
      "text/html": [
       "<div>\n",
       "<style scoped>\n",
       "    .dataframe tbody tr th:only-of-type {\n",
       "        vertical-align: middle;\n",
       "    }\n",
       "\n",
       "    .dataframe tbody tr th {\n",
       "        vertical-align: top;\n",
       "    }\n",
       "\n",
       "    .dataframe thead th {\n",
       "        text-align: right;\n",
       "    }\n",
       "</style>\n",
       "<table border=\"1\" class=\"dataframe\">\n",
       "  <thead>\n",
       "    <tr style=\"text-align: right;\">\n",
       "      <th></th>\n",
       "      <th>Demand</th>\n",
       "      <th>Temp_Avg</th>\n",
       "      <th>Temp_Max</th>\n",
       "      <th>Temp_Min</th>\n",
       "      <th>Rainfall_Avg</th>\n",
       "      <th>HumidityDay</th>\n",
       "      <th>HumidityNight</th>\n",
       "    </tr>\n",
       "    <tr>\n",
       "      <th>Month</th>\n",
       "      <th></th>\n",
       "      <th></th>\n",
       "      <th></th>\n",
       "      <th></th>\n",
       "      <th></th>\n",
       "      <th></th>\n",
       "      <th></th>\n",
       "    </tr>\n",
       "  </thead>\n",
       "  <tbody>\n",
       "    <tr>\n",
       "      <th>2015-01-01</th>\n",
       "      <td>13.355776</td>\n",
       "      <td>26.7</td>\n",
       "      <td>31.3</td>\n",
       "      <td>22.2</td>\n",
       "      <td>15.8</td>\n",
       "      <td>69</td>\n",
       "      <td>92.0</td>\n",
       "    </tr>\n",
       "    <tr>\n",
       "      <th>2015-02-01</th>\n",
       "      <td>12.717279</td>\n",
       "      <td>26.8</td>\n",
       "      <td>31.2</td>\n",
       "      <td>22.3</td>\n",
       "      <td>129.8</td>\n",
       "      <td>71</td>\n",
       "      <td>92.0</td>\n",
       "    </tr>\n",
       "    <tr>\n",
       "      <th>2015-03-01</th>\n",
       "      <td>13.780719</td>\n",
       "      <td>28.7</td>\n",
       "      <td>33.6</td>\n",
       "      <td>23.7</td>\n",
       "      <td>26.0</td>\n",
       "      <td>64</td>\n",
       "      <td>89.0</td>\n",
       "    </tr>\n",
       "    <tr>\n",
       "      <th>2015-04-01</th>\n",
       "      <td>14.926229</td>\n",
       "      <td>29.2</td>\n",
       "      <td>34.1</td>\n",
       "      <td>24.2</td>\n",
       "      <td>288.2</td>\n",
       "      <td>68</td>\n",
       "      <td>91.0</td>\n",
       "    </tr>\n",
       "    <tr>\n",
       "      <th>2015-05-01</th>\n",
       "      <td>15.463069</td>\n",
       "      <td>29.3</td>\n",
       "      <td>33.5</td>\n",
       "      <td>25.1</td>\n",
       "      <td>264.7</td>\n",
       "      <td>73</td>\n",
       "      <td>91.0</td>\n",
       "    </tr>\n",
       "  </tbody>\n",
       "</table>\n",
       "</div>"
      ],
      "text/plain": [
       "               Demand  Temp_Avg  Temp_Max  Temp_Min  Rainfall_Avg  \\\n",
       "Month                                                               \n",
       "2015-01-01  13.355776      26.7      31.3      22.2          15.8   \n",
       "2015-02-01  12.717279      26.8      31.2      22.3         129.8   \n",
       "2015-03-01  13.780719      28.7      33.6      23.7          26.0   \n",
       "2015-04-01  14.926229      29.2      34.1      24.2         288.2   \n",
       "2015-05-01  15.463069      29.3      33.5      25.1         264.7   \n",
       "\n",
       "            HumidityDay  HumidityNight  \n",
       "Month                                   \n",
       "2015-01-01           69           92.0  \n",
       "2015-02-01           71           92.0  \n",
       "2015-03-01           64           89.0  \n",
       "2015-04-01           68           91.0  \n",
       "2015-05-01           73           91.0  "
      ]
     },
     "execution_count": 24,
     "metadata": {},
     "output_type": "execute_result"
    }
   ],
   "source": [
    "filepath = '../Data/final/Anuradapura_demand.csv'\n",
    "data = pd.read_csv(filepath, index_col=\"Month\",parse_dates=[\"Month\"])\n",
    "print(data.shape) \n",
    "data.head()"
   ]
  },
  {
   "cell_type": "code",
   "execution_count": 25,
   "id": "36c22de1",
   "metadata": {},
   "outputs": [
    {
     "data": {
      "text/html": [
       "<div>\n",
       "<style scoped>\n",
       "    .dataframe tbody tr th:only-of-type {\n",
       "        vertical-align: middle;\n",
       "    }\n",
       "\n",
       "    .dataframe tbody tr th {\n",
       "        vertical-align: top;\n",
       "    }\n",
       "\n",
       "    .dataframe thead th {\n",
       "        text-align: right;\n",
       "    }\n",
       "</style>\n",
       "<table border=\"1\" class=\"dataframe\">\n",
       "  <thead>\n",
       "    <tr style=\"text-align: right;\">\n",
       "      <th></th>\n",
       "      <th>Demand</th>\n",
       "      <th>Temp_Avg</th>\n",
       "      <th>Temp_Max</th>\n",
       "      <th>Temp_Min</th>\n",
       "      <th>Rainfall_Avg</th>\n",
       "      <th>HumidityDay</th>\n",
       "      <th>HumidityNight</th>\n",
       "    </tr>\n",
       "  </thead>\n",
       "  <tbody>\n",
       "    <tr>\n",
       "      <th>count</th>\n",
       "      <td>84.000000</td>\n",
       "      <td>84.000000</td>\n",
       "      <td>84.000000</td>\n",
       "      <td>84.000000</td>\n",
       "      <td>84.000000</td>\n",
       "      <td>84.000000</td>\n",
       "      <td>83.000000</td>\n",
       "    </tr>\n",
       "    <tr>\n",
       "      <th>mean</th>\n",
       "      <td>18.291453</td>\n",
       "      <td>28.398810</td>\n",
       "      <td>32.642857</td>\n",
       "      <td>24.151190</td>\n",
       "      <td>114.367857</td>\n",
       "      <td>69.238095</td>\n",
       "      <td>90.397590</td>\n",
       "    </tr>\n",
       "    <tr>\n",
       "      <th>std</th>\n",
       "      <td>3.224086</td>\n",
       "      <td>1.349296</td>\n",
       "      <td>1.755356</td>\n",
       "      <td>1.193203</td>\n",
       "      <td>117.104345</td>\n",
       "      <td>6.399584</td>\n",
       "      <td>3.083946</td>\n",
       "    </tr>\n",
       "    <tr>\n",
       "      <th>min</th>\n",
       "      <td>8.302096</td>\n",
       "      <td>25.600000</td>\n",
       "      <td>28.600000</td>\n",
       "      <td>20.900000</td>\n",
       "      <td>0.000000</td>\n",
       "      <td>57.000000</td>\n",
       "      <td>83.000000</td>\n",
       "    </tr>\n",
       "    <tr>\n",
       "      <th>25%</th>\n",
       "      <td>16.197128</td>\n",
       "      <td>27.150000</td>\n",
       "      <td>31.275000</td>\n",
       "      <td>23.475000</td>\n",
       "      <td>18.500000</td>\n",
       "      <td>65.000000</td>\n",
       "      <td>88.000000</td>\n",
       "    </tr>\n",
       "    <tr>\n",
       "      <th>50%</th>\n",
       "      <td>18.773882</td>\n",
       "      <td>28.800000</td>\n",
       "      <td>33.000000</td>\n",
       "      <td>24.350000</td>\n",
       "      <td>73.950000</td>\n",
       "      <td>68.500000</td>\n",
       "      <td>91.000000</td>\n",
       "    </tr>\n",
       "    <tr>\n",
       "      <th>75%</th>\n",
       "      <td>20.547705</td>\n",
       "      <td>29.400000</td>\n",
       "      <td>33.925000</td>\n",
       "      <td>25.100000</td>\n",
       "      <td>170.975000</td>\n",
       "      <td>73.250000</td>\n",
       "      <td>92.000000</td>\n",
       "    </tr>\n",
       "    <tr>\n",
       "      <th>max</th>\n",
       "      <td>30.408826</td>\n",
       "      <td>31.100000</td>\n",
       "      <td>36.400000</td>\n",
       "      <td>25.900000</td>\n",
       "      <td>463.100000</td>\n",
       "      <td>84.000000</td>\n",
       "      <td>96.000000</td>\n",
       "    </tr>\n",
       "  </tbody>\n",
       "</table>\n",
       "</div>"
      ],
      "text/plain": [
       "          Demand   Temp_Avg   Temp_Max   Temp_Min  Rainfall_Avg  HumidityDay  \\\n",
       "count  84.000000  84.000000  84.000000  84.000000     84.000000    84.000000   \n",
       "mean   18.291453  28.398810  32.642857  24.151190    114.367857    69.238095   \n",
       "std     3.224086   1.349296   1.755356   1.193203    117.104345     6.399584   \n",
       "min     8.302096  25.600000  28.600000  20.900000      0.000000    57.000000   \n",
       "25%    16.197128  27.150000  31.275000  23.475000     18.500000    65.000000   \n",
       "50%    18.773882  28.800000  33.000000  24.350000     73.950000    68.500000   \n",
       "75%    20.547705  29.400000  33.925000  25.100000    170.975000    73.250000   \n",
       "max    30.408826  31.100000  36.400000  25.900000    463.100000    84.000000   \n",
       "\n",
       "       HumidityNight  \n",
       "count      83.000000  \n",
       "mean       90.397590  \n",
       "std         3.083946  \n",
       "min        83.000000  \n",
       "25%        88.000000  \n",
       "50%        91.000000  \n",
       "75%        92.000000  \n",
       "max        96.000000  "
      ]
     },
     "execution_count": 25,
     "metadata": {},
     "output_type": "execute_result"
    }
   ],
   "source": [
    "data.describe(include='all')"
   ]
  },
  {
   "cell_type": "code",
   "execution_count": 26,
   "id": "1a162683",
   "metadata": {},
   "outputs": [
    {
     "data": {
      "text/plain": [
       "Demand           0\n",
       "Temp_Avg         0\n",
       "Temp_Max         0\n",
       "Temp_Min         0\n",
       "Rainfall_Avg     0\n",
       "HumidityDay      0\n",
       "HumidityNight    1\n",
       "dtype: int64"
      ]
     },
     "execution_count": 26,
     "metadata": {},
     "output_type": "execute_result"
    }
   ],
   "source": [
    "data.isnull().sum() #return true/ false. If ture , its a missing place. If false, it contains a values."
   ]
  },
  {
   "cell_type": "code",
   "execution_count": 27,
   "id": "9686d65d",
   "metadata": {},
   "outputs": [
    {
     "data": {
      "text/plain": [
       "Demand           0\n",
       "Temp_Avg         0\n",
       "Temp_Max         0\n",
       "Temp_Min         0\n",
       "Rainfall_Avg     0\n",
       "HumidityDay      0\n",
       "HumidityNight    1\n",
       "dtype: int64"
      ]
     },
     "execution_count": 27,
     "metadata": {},
     "output_type": "execute_result"
    }
   ],
   "source": [
    "sample_data= data.copy()\n",
    "sample_data.isnull().sum()"
   ]
  },
  {
   "cell_type": "code",
   "execution_count": 28,
   "id": "10fb4e9e",
   "metadata": {},
   "outputs": [],
   "source": [
    "imputer = SimpleImputer(missing_values=np.NaN, strategy='mean') \n",
    "sample_data.HumidityNight = imputer.fit_transform(sample_data['HumidityNight'].values.reshape(-1,1))[:,0]"
   ]
  },
  {
   "cell_type": "code",
   "execution_count": 29,
   "id": "dff502c4",
   "metadata": {},
   "outputs": [
    {
     "data": {
      "image/png": "[encoded data removed]",
      "text/plain": [
       "<Figure size 640x480 with 1 Axes>"
      ]
     },
     "metadata": {},
     "output_type": "display_data"
    }
   ],
   "source": [
    "plt.boxplot(sample_data[\"Temp_Avg\"])  #finding outliers\n",
    "plt.show()"
   ]
  },
  {
   "cell_type": "code",
   "execution_count": 30,
   "id": "cb01fae5",
   "metadata": {},
   "outputs": [
    {
     "data": {
      "image/png": "[encoded data removed]",
      "text/plain": [
       "<Figure size 640x480 with 1 Axes>"
      ]
     },
     "metadata": {},
     "output_type": "display_data"
    }
   ],
   "source": [
    "plt.boxplot(sample_data[\"Rainfall_Avg\"])  #finding outliers\n",
    "plt.show()"
   ]
  },
  {
   "cell_type": "code",
   "execution_count": 31,
   "id": "11fbd1df",
   "metadata": {},
   "outputs": [
    {
     "data": {
      "text/plain": [
       "<AxesSubplot:>"
      ]
     },
     "execution_count": 31,
     "metadata": {},
     "output_type": "execute_result"
    },
    {
     "data": {
      "image/png": "[encoded data removed]",
      "text/plain": [
       "<Figure size 640x480 with 1 Axes>"
      ]
     },
     "metadata": {},
     "output_type": "display_data"
    }
   ],
   "source": [
    "sample_data.Rainfall_Avg.hist()"
   ]
  },
  {
   "cell_type": "code",
   "execution_count": 32,
   "id": "ed9eccfa",
   "metadata": {},
   "outputs": [
    {
     "data": {
      "image/png": "[encoded data removed]",
      "text/plain": [
       "<Figure size 640x480 with 1 Axes>"
      ]
     },
     "metadata": {},
     "output_type": "display_data"
    }
   ],
   "source": [
    "plt.boxplot(sample_data[\"HumidityDay\"])  #finding outliers\n",
    "plt.show()"
   ]
  },
  {
   "cell_type": "code",
   "execution_count": 33,
   "id": "9946a90f",
   "metadata": {},
   "outputs": [
    {
     "data": {
      "image/png": "[encoded data removed]",
      "text/plain": [
       "<Figure size 640x480 with 1 Axes>"
      ]
     },
     "metadata": {},
     "output_type": "display_data"
    }
   ],
   "source": [
    "plt.boxplot(sample_data[\"HumidityNight\"])  #finding outliers\n",
    "plt.show()"
   ]
  },
  {
   "cell_type": "code",
   "execution_count": 34,
   "id": "58622318",
   "metadata": {},
   "outputs": [],
   "source": [
    "# sample_data=sample_data[['Demand','Temp_Avg','Rainfall_Avg','HumidityDay','HumidityNight']]\n",
    "# sample_data.head()"
   ]
  },
  {
   "cell_type": "code",
   "execution_count": 35,
   "id": "4fe27137",
   "metadata": {},
   "outputs": [
    {
     "data": {
      "image/png": "[encoded data removed]",
      "text/plain": [
       "<Figure size 1200x720 with 5 Axes>"
      ]
     },
     "metadata": {},
     "output_type": "display_data"
    }
   ],
   "source": [
    "color_list=[\"blue\",\"green\",\"red\",\"olive\",\"orange\"]\n",
    "\n",
    "fig, axes = plt.subplots(nrows=5, ncols=1, dpi=120, figsize=(10,6))\n",
    "for i, ax in enumerate(axes.flatten()):\n",
    "    data = sample_data[sample_data.columns[i]]\n",
    "    ax.plot(data, color=color_list[i%(len(color_list))], linewidth=1)\n",
    "    \n",
    "    ax.set_title(sample_data.columns[i])\n",
    "    ax.xaxis.set_ticks_position('none')\n",
    "    ax.yaxis.set_ticks_position('none')\n",
    "    ax.spines[\"top\"].set_alpha(0)\n",
    "    ax.tick_params(labelsize=6)\n",
    "\n",
    "plt.tight_layout();"
   ]
  },
  {
   "cell_type": "code",
   "execution_count": 36,
   "id": "a4a6ebc1",
   "metadata": {},
   "outputs": [
    {
     "name": "stdout",
     "output_type": "stream",
     "text": [
      "Demand\n",
      "ADF Statistic: -1.1119295014960004\n",
      "p-value: 0.7102911867445969\n",
      "\n",
      "---------------------\n",
      "\n",
      "Average Temperature\n",
      "ADF Statistic: -1.5753918887532194\n",
      "p-value: 0.49594207061054546\n",
      "\n",
      "---------------------\n",
      "\n",
      "Average Rainfall\n",
      "ADF Statistic: -2.6283887033981177\n",
      "p-value: 0.08727068742609617\n",
      "\n",
      "---------------------\n",
      "\n",
      "Humidity Day\n",
      "ADF Statistic: -1.8632709860780101\n",
      "p-value: 0.34953186422257965\n",
      "\n",
      "---------------------\n",
      "\n",
      "Humidity Night\n",
      "ADF Statistic: -1.7916457461201944\n",
      "p-value: 0.3846171659704802\n"
     ]
    }
   ],
   "source": [
    "#check weather data stationary or not(augmented dickey-fuller test)\n",
    "\n",
    "ad_fuller_result_1 = adfuller(sample_data['Demand'])#.diff()[1:])\n",
    "\n",
    "print('Demand')\n",
    "print(f'ADF Statistic: {ad_fuller_result_1[0]}')\n",
    "print(f'p-value: {ad_fuller_result_1[1]}')\n",
    "\n",
    "print('\\n---------------------\\n')\n",
    "\n",
    "ad_fuller_result_2 = adfuller(sample_data['Temp_Avg'])#.diff()[1:])\n",
    "\n",
    "print('Average Temperature')\n",
    "print(f'ADF Statistic: {ad_fuller_result_2[0]}')\n",
    "print(f'p-value: {ad_fuller_result_2[1]}')\n",
    "\n",
    "print('\\n---------------------\\n')\n",
    "\n",
    "ad_fuller_result_2 = adfuller(sample_data['Rainfall_Avg'])#.diff()[1:])\n",
    "\n",
    "print('Average Rainfall')\n",
    "print(f'ADF Statistic: {ad_fuller_result_2[0]}')\n",
    "print(f'p-value: {ad_fuller_result_2[1]}')\n",
    "\n",
    "print('\\n---------------------\\n')\n",
    "\n",
    "ad_fuller_result_2 = adfuller(sample_data['HumidityDay'])#.diff()[1:])\n",
    "\n",
    "print('Humidity Day')\n",
    "print(f'ADF Statistic: {ad_fuller_result_2[0]}')\n",
    "print(f'p-value: {ad_fuller_result_2[1]}')\n",
    "\n",
    "print('\\n---------------------\\n')\n",
    "\n",
    "ad_fuller_result_2 = adfuller(sample_data['HumidityNight'])#.diff()[1:])\n",
    "\n",
    "print('Humidity Night')\n",
    "print(f'ADF Statistic: {ad_fuller_result_2[0]}')\n",
    "print(f'p-value: {ad_fuller_result_2[1]}')\n",
    "\n",
    "# p value shold be , p <0.05"
   ]
  },
  {
   "cell_type": "code",
   "execution_count": 37,
   "id": "a880d8fd",
   "metadata": {},
   "outputs": [
    {
     "name": "stdout",
     "output_type": "stream",
     "text": [
      "(83, 7)\n"
     ]
    },
    {
     "data": {
      "text/html": [
       "<div>\n",
       "<style scoped>\n",
       "    .dataframe tbody tr th:only-of-type {\n",
       "        vertical-align: middle;\n",
       "    }\n",
       "\n",
       "    .dataframe tbody tr th {\n",
       "        vertical-align: top;\n",
       "    }\n",
       "\n",
       "    .dataframe thead th {\n",
       "        text-align: right;\n",
       "    }\n",
       "</style>\n",
       "<table border=\"1\" class=\"dataframe\">\n",
       "  <thead>\n",
       "    <tr style=\"text-align: right;\">\n",
       "      <th></th>\n",
       "      <th>Demand</th>\n",
       "      <th>Temp_Avg</th>\n",
       "      <th>Temp_Max</th>\n",
       "      <th>Temp_Min</th>\n",
       "      <th>Rainfall_Avg</th>\n",
       "      <th>HumidityDay</th>\n",
       "      <th>HumidityNight</th>\n",
       "    </tr>\n",
       "    <tr>\n",
       "      <th>Month</th>\n",
       "      <th></th>\n",
       "      <th></th>\n",
       "      <th></th>\n",
       "      <th></th>\n",
       "      <th></th>\n",
       "      <th></th>\n",
       "      <th></th>\n",
       "    </tr>\n",
       "  </thead>\n",
       "  <tbody>\n",
       "    <tr>\n",
       "      <th>2015-02-01</th>\n",
       "      <td>-0.638497</td>\n",
       "      <td>0.1</td>\n",
       "      <td>-0.1</td>\n",
       "      <td>0.1</td>\n",
       "      <td>114.0</td>\n",
       "      <td>2.0</td>\n",
       "      <td>0.0</td>\n",
       "    </tr>\n",
       "    <tr>\n",
       "      <th>2015-03-01</th>\n",
       "      <td>1.063440</td>\n",
       "      <td>1.9</td>\n",
       "      <td>2.4</td>\n",
       "      <td>1.4</td>\n",
       "      <td>-103.8</td>\n",
       "      <td>-7.0</td>\n",
       "      <td>-3.0</td>\n",
       "    </tr>\n",
       "    <tr>\n",
       "      <th>2015-04-01</th>\n",
       "      <td>1.145510</td>\n",
       "      <td>0.5</td>\n",
       "      <td>0.5</td>\n",
       "      <td>0.5</td>\n",
       "      <td>262.2</td>\n",
       "      <td>4.0</td>\n",
       "      <td>2.0</td>\n",
       "    </tr>\n",
       "    <tr>\n",
       "      <th>2015-05-01</th>\n",
       "      <td>0.536840</td>\n",
       "      <td>0.1</td>\n",
       "      <td>-0.6</td>\n",
       "      <td>0.9</td>\n",
       "      <td>-23.5</td>\n",
       "      <td>5.0</td>\n",
       "      <td>0.0</td>\n",
       "    </tr>\n",
       "    <tr>\n",
       "      <th>2015-06-01</th>\n",
       "      <td>0.205275</td>\n",
       "      <td>0.1</td>\n",
       "      <td>-0.1</td>\n",
       "      <td>0.3</td>\n",
       "      <td>-254.6</td>\n",
       "      <td>-5.0</td>\n",
       "      <td>-3.0</td>\n",
       "    </tr>\n",
       "  </tbody>\n",
       "</table>\n",
       "</div>"
      ],
      "text/plain": [
       "              Demand  Temp_Avg  Temp_Max  Temp_Min  Rainfall_Avg  HumidityDay  \\\n",
       "Month                                                                           \n",
       "2015-02-01 -0.638497       0.1      -0.1       0.1         114.0          2.0   \n",
       "2015-03-01  1.063440       1.9       2.4       1.4        -103.8         -7.0   \n",
       "2015-04-01  1.145510       0.5       0.5       0.5         262.2          4.0   \n",
       "2015-05-01  0.536840       0.1      -0.6       0.9         -23.5          5.0   \n",
       "2015-06-01  0.205275       0.1      -0.1       0.3        -254.6         -5.0   \n",
       "\n",
       "            HumidityNight  \n",
       "Month                      \n",
       "2015-02-01            0.0  \n",
       "2015-03-01           -3.0  \n",
       "2015-04-01            2.0  \n",
       "2015-05-01            0.0  \n",
       "2015-06-01           -3.0  "
      ]
     },
     "execution_count": 37,
     "metadata": {},
     "output_type": "execute_result"
    }
   ],
   "source": [
    "# make first-order differencing \n",
    "df_transformed = sample_data.diff().dropna()\n",
    "df = sample_data.iloc[1:]\n",
    "print(df.shape)\n",
    "df_transformed.shape\n",
    "df_transformed.head()"
   ]
  },
  {
   "cell_type": "code",
   "execution_count": 38,
   "id": "671189c9",
   "metadata": {},
   "outputs": [
    {
     "name": "stdout",
     "output_type": "stream",
     "text": [
      "Demand\n",
      "ADF Statistic: -6.033009049162687\n",
      "p-value: 1.4033258681841313e-07\n",
      "\n",
      "---------------------\n",
      "\n",
      "Average Temperature\n",
      "ADF Statistic: -7.857229966282125\n",
      "p-value: 5.40202808209455e-12\n",
      "\n",
      "---------------------\n",
      "\n",
      "Average Rainfall\n",
      "ADF Statistic: -5.687368175368332\n",
      "p-value: 8.220200933212763e-07\n",
      "\n",
      "---------------------\n",
      "\n",
      "Humidity Day\n",
      "ADF Statistic: -6.98914214510481\n",
      "p-value: 7.826812143781976e-10\n",
      "\n",
      "---------------------\n",
      "\n",
      "Humidity Night\n",
      "ADF Statistic: -6.636578323519308\n",
      "p-value: 5.543227661598257e-09\n"
     ]
    }
   ],
   "source": [
    "#check weather data stationary or not(augmented dickey-fuller test)\n",
    "\n",
    "ad_fuller_result_1 = adfuller(df_transformed['Demand'])#.diff()[1:])\n",
    "\n",
    "print('Demand')\n",
    "print(f'ADF Statistic: {ad_fuller_result_1[0]}')\n",
    "print(f'p-value: {ad_fuller_result_1[1]}')\n",
    "\n",
    "print('\\n---------------------\\n')\n",
    "\n",
    "ad_fuller_result_2 = adfuller(df_transformed['Temp_Avg'])#.diff()[1:])\n",
    "\n",
    "print('Average Temperature')\n",
    "print(f'ADF Statistic: {ad_fuller_result_2[0]}')\n",
    "print(f'p-value: {ad_fuller_result_2[1]}')\n",
    "\n",
    "print('\\n---------------------\\n')\n",
    "\n",
    "ad_fuller_result_2 = adfuller(df_transformed['Rainfall_Avg'])#.diff()[1:])\n",
    "\n",
    "print('Average Rainfall')\n",
    "print(f'ADF Statistic: {ad_fuller_result_2[0]}')\n",
    "print(f'p-value: {ad_fuller_result_2[1]}')\n",
    "\n",
    "print('\\n---------------------\\n')\n",
    "\n",
    "ad_fuller_result_2 = adfuller(df_transformed['HumidityDay'])#.diff()[1:])\n",
    "\n",
    "print('Humidity Day')\n",
    "print(f'ADF Statistic: {ad_fuller_result_2[0]}')\n",
    "print(f'p-value: {ad_fuller_result_2[1]}')\n",
    "\n",
    "print('\\n---------------------\\n')\n",
    "\n",
    "ad_fuller_result_2 = adfuller(df_transformed['HumidityNight'])#.diff()[1:])\n",
    "\n",
    "print('Humidity Night')\n",
    "print(f'ADF Statistic: {ad_fuller_result_2[0]}')\n",
    "print(f'p-value: {ad_fuller_result_2[1]}')\n",
    "\n",
    "# p value shold be , p <0.05"
   ]
  },
  {
   "cell_type": "code",
   "execution_count": 39,
   "id": "109209ca",
   "metadata": {},
   "outputs": [
    {
     "name": "stdout",
     "output_type": "stream",
     "text": [
      "column-Temp_Avg :P_values - [0.0706, 0.1631, 0.1416, 0.1155, 0.1999, 0.2416]\n",
      "column-Temp_Max :P_values - [0.1172, 0.2916, 0.1653, 0.0857, 0.1827, 0.1591]\n",
      "column-Temp_Min :P_values - [0.0791, 0.118, 0.1757, 0.2523, 0.3373, 0.4362]\n",
      "column-Rainfall_Avg :P_values - [0.7672, 0.955, 0.9685, 0.3737, 0.4824, 0.3852]\n",
      "column-HumidityDay :P_values - [0.3772, 0.6033, 0.5563, 0.1794, 0.3227, 0.1329]\n",
      "column-HumidityNight :P_values - [0.5067, 0.6753, 0.4282, 0.3585, 0.4036, 0.4475]\n"
     ]
    }
   ],
   "source": [
    "#Test the Granger Causality\n",
    "\n",
    "max_lags=6\n",
    "y='Demand'\n",
    "\n",
    "for i in range(len(df_transformed.columns)-1):\n",
    "    results=grangercausalitytests(df_transformed[[y,df_transformed.columns[i+1]]],max_lags,verbose=False)\n",
    "    p_values=[round(results[i+1][0]['ssr_ftest'][1],4)for i in range(max_lags)]\n",
    "    print('column-{} :P_values - {}'.format(df_transformed.columns[i+1],p_values))"
   ]
  },
  {
   "cell_type": "code",
   "execution_count": 40,
   "id": "331b9833",
   "metadata": {},
   "outputs": [
    {
     "data": {
      "text/html": [
       "<div>\n",
       "<style scoped>\n",
       "    .dataframe tbody tr th:only-of-type {\n",
       "        vertical-align: middle;\n",
       "    }\n",
       "\n",
       "    .dataframe tbody tr th {\n",
       "        vertical-align: top;\n",
       "    }\n",
       "\n",
       "    .dataframe thead th {\n",
       "        text-align: right;\n",
       "    }\n",
       "</style>\n",
       "<table border=\"1\" class=\"dataframe\">\n",
       "  <thead>\n",
       "    <tr style=\"text-align: right;\">\n",
       "      <th></th>\n",
       "      <th>Demand</th>\n",
       "      <th>Temp_Avg</th>\n",
       "    </tr>\n",
       "    <tr>\n",
       "      <th>Month</th>\n",
       "      <th></th>\n",
       "      <th></th>\n",
       "    </tr>\n",
       "  </thead>\n",
       "  <tbody>\n",
       "    <tr>\n",
       "      <th>2015-01-01</th>\n",
       "      <td>13.355776</td>\n",
       "      <td>26.7</td>\n",
       "    </tr>\n",
       "    <tr>\n",
       "      <th>2015-02-01</th>\n",
       "      <td>12.717279</td>\n",
       "      <td>26.8</td>\n",
       "    </tr>\n",
       "    <tr>\n",
       "      <th>2015-03-01</th>\n",
       "      <td>13.780719</td>\n",
       "      <td>28.7</td>\n",
       "    </tr>\n",
       "    <tr>\n",
       "      <th>2015-04-01</th>\n",
       "      <td>14.926229</td>\n",
       "      <td>29.2</td>\n",
       "    </tr>\n",
       "    <tr>\n",
       "      <th>2015-05-01</th>\n",
       "      <td>15.463069</td>\n",
       "      <td>29.3</td>\n",
       "    </tr>\n",
       "    <tr>\n",
       "      <th>...</th>\n",
       "      <td>...</td>\n",
       "      <td>...</td>\n",
       "    </tr>\n",
       "    <tr>\n",
       "      <th>2021-08-01</th>\n",
       "      <td>20.739739</td>\n",
       "      <td>29.0</td>\n",
       "    </tr>\n",
       "    <tr>\n",
       "      <th>2021-09-01</th>\n",
       "      <td>21.633316</td>\n",
       "      <td>29.2</td>\n",
       "    </tr>\n",
       "    <tr>\n",
       "      <th>2021-10-01</th>\n",
       "      <td>21.214337</td>\n",
       "      <td>27.9</td>\n",
       "    </tr>\n",
       "    <tr>\n",
       "      <th>2021-11-01</th>\n",
       "      <td>20.385244</td>\n",
       "      <td>26.9</td>\n",
       "    </tr>\n",
       "    <tr>\n",
       "      <th>2021-12-01</th>\n",
       "      <td>20.907689</td>\n",
       "      <td>26.7</td>\n",
       "    </tr>\n",
       "  </tbody>\n",
       "</table>\n",
       "<p>84 rows × 2 columns</p>\n",
       "</div>"
      ],
      "text/plain": [
       "               Demand  Temp_Avg\n",
       "Month                          \n",
       "2015-01-01  13.355776      26.7\n",
       "2015-02-01  12.717279      26.8\n",
       "2015-03-01  13.780719      28.7\n",
       "2015-04-01  14.926229      29.2\n",
       "2015-05-01  15.463069      29.3\n",
       "...               ...       ...\n",
       "2021-08-01  20.739739      29.0\n",
       "2021-09-01  21.633316      29.2\n",
       "2021-10-01  21.214337      27.9\n",
       "2021-11-01  20.385244      26.9\n",
       "2021-12-01  20.907689      26.7\n",
       "\n",
       "[84 rows x 2 columns]"
      ]
     },
     "execution_count": 40,
     "metadata": {},
     "output_type": "execute_result"
    }
   ],
   "source": [
    "df_input=sample_data[['Demand','Temp_Avg']]\n",
    "df_input"
   ]
  },
  {
   "cell_type": "code",
   "execution_count": 45,
   "id": "0fd3ecb5",
   "metadata": {},
   "outputs": [],
   "source": [
    "df_train=df_input[:-12]\n",
    "df_test=df_input[-12:]"
   ]
  },
  {
   "cell_type": "code",
   "execution_count": 46,
   "id": "85e30a19",
   "metadata": {},
   "outputs": [
    {
     "data": {
      "text/plain": [
       "(72, 2)"
      ]
     },
     "execution_count": 46,
     "metadata": {},
     "output_type": "execute_result"
    }
   ],
   "source": [
    "df_train.shape"
   ]
  },
  {
   "cell_type": "code",
   "execution_count": 47,
   "id": "0d65a7b0",
   "metadata": {},
   "outputs": [
    {
     "data": {
      "text/plain": [
       "(12, 2)"
      ]
     },
     "execution_count": 47,
     "metadata": {},
     "output_type": "execute_result"
    }
   ],
   "source": [
    "df_test.shape"
   ]
  },
  {
   "cell_type": "code",
   "execution_count": 48,
   "id": "04cc7daf",
   "metadata": {},
   "outputs": [],
   "source": [
    "model = VAR(df_train.diff()[1:])"
   ]
  },
  {
   "cell_type": "code",
   "execution_count": 49,
   "id": "304ec185",
   "metadata": {},
   "outputs": [
    {
     "name": "stdout",
     "output_type": "stream",
     "text": [
      " VAR Order Selection (* highlights the minimums)  \n",
      "==================================================\n",
      "       AIC         BIC         FPE         HQIC   \n",
      "--------------------------------------------------\n",
      "0        3.099      3.172*       22.17       3.127\n",
      "1        3.076       3.295       21.68       3.161\n",
      "2        2.970       3.335       19.52       3.112\n",
      "3        2.989       3.500       19.93       3.187\n",
      "4        3.023       3.680       20.67       3.277\n",
      "5        3.091       3.894       22.25       3.402\n",
      "6        3.190       4.139       24.73       3.557\n",
      "7        3.001       4.096       20.69       3.425\n",
      "8        2.893       4.134       18.82       3.373\n",
      "9        2.842       4.229       18.19       3.378\n",
      "10       2.402       3.935      11.99*      2.995*\n",
      "11       2.449       4.128       12.91       3.098\n",
      "12       2.411       4.236       12.87       3.117\n",
      "13       2.482       4.453       14.40       3.244\n",
      "14       2.378       4.495       13.66       3.197\n",
      "15       2.454       4.717       15.68       3.329\n",
      "16      2.200*       4.609       13.11       3.132\n",
      "--------------------------------------------------\n"
     ]
    }
   ],
   "source": [
    "sorted_order=model.select_order(maxlags=16)\n",
    "print(sorted_order.summary())\n"
   ]
  },
  {
   "cell_type": "code",
   "execution_count": 50,
   "id": "858b8458",
   "metadata": {},
   "outputs": [
    {
     "name": "stdout",
     "output_type": "stream",
     "text": [
      "                             Statespace Model Results                             \n",
      "==================================================================================\n",
      "Dep. Variable:     ['Demand', 'Temp_Avg']   No. Observations:                   72\n",
      "Model:                            VAR(16)   Log Likelihood                -255.218\n",
      "                              + intercept   AIC                            648.437\n",
      "Date:                    Thu, 23 Feb 2023   BIC                            805.526\n",
      "Time:                            22:04:50   HQIC                           710.974\n",
      "Sample:                        01-01-2015                                         \n",
      "                             - 12-01-2020                                         \n",
      "Covariance Type:                      opg                                         \n",
      "===================================================================================\n",
      "Ljung-Box (L1) (Q):             2.03, 6.65   Jarque-Bera (JB):          41.17, 1.04\n",
      "Prob(Q):                        0.15, 0.01   Prob(JB):                   0.00, 0.60\n",
      "Heteroskedasticity (H):         2.33, 0.75   Skew:                      -0.80, 0.22\n",
      "Prob(H) (two-sided):            0.04, 0.49   Kurtosis:                   6.34, 2.61\n",
      "                          Results for equation Demand                           \n",
      "================================================================================\n",
      "                   coef    std err          z      P>|z|      [0.025      0.975]\n",
      "--------------------------------------------------------------------------------\n",
      "intercept       17.8638   1456.321      0.012      0.990   -2836.472    2872.200\n",
      "L1.Demand        0.0384      4.079      0.009      0.992      -7.956       8.033\n",
      "L1.Temp_Avg      0.7078     12.576      0.056      0.955     -23.940      25.355\n",
      "L2.Demand       -0.1107      3.805     -0.029      0.977      -7.569       7.347\n",
      "L2.Temp_Avg      0.0553     17.839      0.003      0.998     -34.908      35.018\n",
      "L3.Demand        0.0526      4.933      0.011      0.991      -9.615       9.721\n",
      "L3.Temp_Avg     -0.2305     10.152     -0.023      0.982     -20.129      19.668\n",
      "L4.Demand        0.0728      3.633      0.020      0.984      -7.048       7.194\n",
      "L4.Temp_Avg      0.0574     13.540      0.004      0.997     -26.480      26.595\n",
      "L5.Demand        0.0447      3.924      0.011      0.991      -7.647       7.736\n",
      "L5.Temp_Avg     -0.4386     15.284     -0.029      0.977     -30.395      29.517\n",
      "L6.Demand        0.0206      3.581      0.006      0.995      -6.998       7.039\n",
      "L6.Temp_Avg     -0.1326     16.328     -0.008      0.994     -32.134      31.869\n",
      "L7.Demand       -0.0072      4.238     -0.002      0.999      -8.313       8.299\n",
      "L7.Temp_Avg     -0.1202     37.221     -0.003      0.997     -73.072      72.832\n",
      "L8.Demand        0.1639      3.004      0.055      0.956      -5.724       6.052\n",
      "L8.Temp_Avg      0.2609     17.022      0.015      0.988     -33.102      33.624\n",
      "L9.Demand        0.0855      3.212      0.027      0.979      -6.210       6.381\n",
      "L9.Temp_Avg     -0.2315     11.398     -0.020      0.984     -22.571      22.108\n",
      "L10.Demand       0.0806      6.986      0.012      0.991     -13.611      13.772\n",
      "L10.Temp_Avg    -0.2037     14.417     -0.014      0.989     -28.461      28.053\n",
      "L11.Demand       0.0674      5.265      0.013      0.990     -10.253      10.387\n",
      "L11.Temp_Avg    -0.3837     16.635     -0.023      0.982     -32.988      32.221\n",
      "L12.Demand       0.0262      9.272      0.003      0.998     -18.147      18.200\n",
      "L12.Temp_Avg    -0.1554     25.239     -0.006      0.995     -49.623      49.312\n",
      "L13.Demand       0.0293     11.496      0.003      0.998     -22.502      22.561\n",
      "L13.Temp_Avg    -0.0812     15.566     -0.005      0.996     -30.589      30.427\n",
      "L14.Demand       0.0952     11.338      0.008      0.993     -22.127      22.318\n",
      "L14.Temp_Avg     0.2010     20.023      0.010      0.992     -39.043      39.445\n",
      "L15.Demand       0.0604      5.901      0.010      0.992     -11.505      11.626\n",
      "L15.Temp_Avg     0.1255     19.760      0.006      0.995     -38.604      38.855\n",
      "L16.Demand       0.0283      8.537      0.003      0.997     -16.703      16.760\n",
      "L16.Temp_Avg     0.1015     15.639      0.006      0.995     -30.550      30.753\n",
      "                         Results for equation Temp_Avg                          \n",
      "================================================================================\n",
      "                   coef    std err          z      P>|z|      [0.025      0.975]\n",
      "--------------------------------------------------------------------------------\n",
      "intercept       28.4390    111.834      0.254      0.799    -190.753     247.631\n",
      "L1.Demand       -0.0011      0.373     -0.003      0.998      -0.732       0.730\n",
      "L1.Temp_Avg      0.2216      1.766      0.126      0.900      -3.239       3.682\n",
      "L2.Demand        0.0083      0.644      0.013      0.990      -1.255       1.271\n",
      "L2.Temp_Avg      0.0105      1.983      0.005      0.996      -3.877       3.898\n",
      "L3.Demand        0.0026      0.239      0.011      0.991      -0.465       0.470\n",
      "L3.Temp_Avg     -0.0592      1.065     -0.056      0.956      -2.147       2.029\n",
      "L4.Demand       -0.0083      0.411     -0.020      0.984      -0.815       0.798\n",
      "L4.Temp_Avg     -0.0465      1.648     -0.028      0.977      -3.277       3.184\n",
      "L5.Demand        0.0051      0.426      0.012      0.990      -0.830       0.840\n",
      "L5.Temp_Avg     -0.1203      1.264     -0.095      0.924      -2.597       2.356\n",
      "L6.Demand        0.0039      0.458      0.009      0.993      -0.894       0.901\n",
      "L6.Temp_Avg     -0.0690      2.043     -0.034      0.973      -4.073       3.935\n",
      "L7.Demand       -0.0230      0.367     -0.063      0.950      -0.742       0.696\n",
      "L7.Temp_Avg     -0.0244      2.627     -0.009      0.993      -5.172       5.123\n",
      "L8.Demand        0.0192      0.747      0.026      0.979      -1.446       1.484\n",
      "L8.Temp_Avg     -0.0837      2.333     -0.036      0.971      -4.656       4.488\n",
      "L9.Demand        0.0081      0.573      0.014      0.989      -1.115       1.131\n",
      "L9.Temp_Avg     -0.0496      1.549     -0.032      0.974      -3.086       2.986\n",
      "L10.Demand      -0.0103      0.327     -0.032      0.975      -0.651       0.631\n",
      "L10.Temp_Avg    -0.0898      2.101     -0.043      0.966      -4.207       4.027\n",
      "L11.Demand      -0.0175      0.566     -0.031      0.975      -1.127       1.092\n",
      "L11.Temp_Avg     0.1076      1.627      0.066      0.947      -3.081       3.296\n",
      "L12.Demand      -0.0298      0.570     -0.052      0.958      -1.147       1.088\n",
      "L12.Temp_Avg     0.2703      1.424      0.190      0.849      -2.520       3.060\n",
      "L13.Demand      -0.0049      0.406     -0.012      0.990      -0.801       0.791\n",
      "L13.Temp_Avg     0.0889      1.441      0.062      0.951      -2.736       2.913\n",
      "L14.Demand       0.0045      0.335      0.013      0.989      -0.651       0.660\n",
      "L14.Temp_Avg    -0.0235      1.175     -0.020      0.984      -2.327       2.280\n",
      "L15.Demand       0.0133      0.540      0.025      0.980      -1.046       1.072\n",
      "L15.Temp_Avg    -0.0724      0.949     -0.076      0.939      -1.933       1.788\n",
      "L16.Demand       0.0190      0.606      0.031      0.975      -1.170       1.208\n",
      "L16.Temp_Avg    -0.0550      1.233     -0.045      0.964      -2.472       2.362\n",
      "                                  Error covariance matrix                                   \n",
      "============================================================================================\n",
      "                               coef    std err          z      P>|z|      [0.025      0.975]\n",
      "--------------------------------------------------------------------------------------------\n",
      "sqrt.var.Demand              3.7523      3.104      1.209      0.227      -2.332       9.836\n",
      "sqrt.cov.Demand.Temp_Avg     0.2059      2.016      0.102      0.919      -3.745       4.157\n",
      "sqrt.var.Temp_Avg            0.6568      0.697      0.942      0.346      -0.710       2.023\n",
      "============================================================================================\n",
      "\n",
      "Warnings:\n",
      "[1] Covariance matrix calculated using the outer product of gradients (complex-step).\n"
     ]
    }
   ],
   "source": [
    "var_model = VARMAX(df_train, order=(16,0),enforce_stationarity= True)\n",
    "fitted_model = var_model.fit(disp=False)\n",
    "print(fitted_model.summary())"
   ]
  },
  {
   "cell_type": "code",
   "execution_count": 51,
   "id": "50161631",
   "metadata": {},
   "outputs": [],
   "source": [
    "n_forecast = 12\n",
    "predict = fitted_model.get_prediction(start=len(df_train),end=len(df_train) + n_forecast-1)\n",
    "predictions=predict.predicted_mean"
   ]
  },
  {
   "cell_type": "code",
   "execution_count": 52,
   "id": "0f385cff",
   "metadata": {},
   "outputs": [
    {
     "data": {
      "text/html": [
       "<div>\n",
       "<style scoped>\n",
       "    .dataframe tbody tr th:only-of-type {\n",
       "        vertical-align: middle;\n",
       "    }\n",
       "\n",
       "    .dataframe tbody tr th {\n",
       "        vertical-align: top;\n",
       "    }\n",
       "\n",
       "    .dataframe thead th {\n",
       "        text-align: right;\n",
       "    }\n",
       "</style>\n",
       "<table border=\"1\" class=\"dataframe\">\n",
       "  <thead>\n",
       "    <tr style=\"text-align: right;\">\n",
       "      <th></th>\n",
       "      <th>Demand_predicted</th>\n",
       "      <th>Temp_Avg_predicted</th>\n",
       "    </tr>\n",
       "  </thead>\n",
       "  <tbody>\n",
       "    <tr>\n",
       "      <th>2021-01-01</th>\n",
       "      <td>17.959786</td>\n",
       "      <td>27.090562</td>\n",
       "    </tr>\n",
       "    <tr>\n",
       "      <th>2021-02-01</th>\n",
       "      <td>17.352181</td>\n",
       "      <td>27.927133</td>\n",
       "    </tr>\n",
       "    <tr>\n",
       "      <th>2021-03-01</th>\n",
       "      <td>18.025990</td>\n",
       "      <td>29.024670</td>\n",
       "    </tr>\n",
       "    <tr>\n",
       "      <th>2021-04-01</th>\n",
       "      <td>19.389260</td>\n",
       "      <td>29.432383</td>\n",
       "    </tr>\n",
       "    <tr>\n",
       "      <th>2021-05-01</th>\n",
       "      <td>19.903125</td>\n",
       "      <td>29.341620</td>\n",
       "    </tr>\n",
       "    <tr>\n",
       "      <th>2021-06-01</th>\n",
       "      <td>20.866339</td>\n",
       "      <td>28.934976</td>\n",
       "    </tr>\n",
       "    <tr>\n",
       "      <th>2021-07-01</th>\n",
       "      <td>20.965888</td>\n",
       "      <td>28.417947</td>\n",
       "    </tr>\n",
       "    <tr>\n",
       "      <th>2021-08-01</th>\n",
       "      <td>19.848377</td>\n",
       "      <td>28.482735</td>\n",
       "    </tr>\n",
       "    <tr>\n",
       "      <th>2021-09-01</th>\n",
       "      <td>19.523451</td>\n",
       "      <td>28.544384</td>\n",
       "    </tr>\n",
       "    <tr>\n",
       "      <th>2021-10-01</th>\n",
       "      <td>19.900186</td>\n",
       "      <td>28.458630</td>\n",
       "    </tr>\n",
       "    <tr>\n",
       "      <th>2021-11-01</th>\n",
       "      <td>20.384627</td>\n",
       "      <td>27.838049</td>\n",
       "    </tr>\n",
       "    <tr>\n",
       "      <th>2021-12-01</th>\n",
       "      <td>19.842807</td>\n",
       "      <td>27.250335</td>\n",
       "    </tr>\n",
       "  </tbody>\n",
       "</table>\n",
       "</div>"
      ],
      "text/plain": [
       "            Demand_predicted  Temp_Avg_predicted\n",
       "2021-01-01         17.959786           27.090562\n",
       "2021-02-01         17.352181           27.927133\n",
       "2021-03-01         18.025990           29.024670\n",
       "2021-04-01         19.389260           29.432383\n",
       "2021-05-01         19.903125           29.341620\n",
       "2021-06-01         20.866339           28.934976\n",
       "2021-07-01         20.965888           28.417947\n",
       "2021-08-01         19.848377           28.482735\n",
       "2021-09-01         19.523451           28.544384\n",
       "2021-10-01         19.900186           28.458630\n",
       "2021-11-01         20.384627           27.838049\n",
       "2021-12-01         19.842807           27.250335"
      ]
     },
     "execution_count": 52,
     "metadata": {},
     "output_type": "execute_result"
    }
   ],
   "source": [
    "predictions.columns=['Demand_predicted','Temp_Avg_predicted']\n",
    "predictions"
   ]
  },
  {
   "cell_type": "code",
   "execution_count": 53,
   "id": "8e0d4a62",
   "metadata": {},
   "outputs": [
    {
     "data": {
      "text/html": [
       "<div>\n",
       "<style scoped>\n",
       "    .dataframe tbody tr th:only-of-type {\n",
       "        vertical-align: middle;\n",
       "    }\n",
       "\n",
       "    .dataframe tbody tr th {\n",
       "        vertical-align: top;\n",
       "    }\n",
       "\n",
       "    .dataframe thead th {\n",
       "        text-align: right;\n",
       "    }\n",
       "</style>\n",
       "<table border=\"1\" class=\"dataframe\">\n",
       "  <thead>\n",
       "    <tr style=\"text-align: right;\">\n",
       "      <th></th>\n",
       "      <th>Demand</th>\n",
       "      <th>Temp_Avg</th>\n",
       "      <th>Demand_predicted</th>\n",
       "      <th>Temp_Avg_predicted</th>\n",
       "    </tr>\n",
       "  </thead>\n",
       "  <tbody>\n",
       "    <tr>\n",
       "      <th>2021-01-01</th>\n",
       "      <td>19.324695</td>\n",
       "      <td>26.3</td>\n",
       "      <td>17.959786</td>\n",
       "      <td>27.090562</td>\n",
       "    </tr>\n",
       "    <tr>\n",
       "      <th>2021-02-01</th>\n",
       "      <td>18.543998</td>\n",
       "      <td>26.9</td>\n",
       "      <td>17.352181</td>\n",
       "      <td>27.927133</td>\n",
       "    </tr>\n",
       "    <tr>\n",
       "      <th>2021-03-01</th>\n",
       "      <td>20.638740</td>\n",
       "      <td>28.4</td>\n",
       "      <td>18.025990</td>\n",
       "      <td>29.024670</td>\n",
       "    </tr>\n",
       "    <tr>\n",
       "      <th>2021-04-01</th>\n",
       "      <td>22.340633</td>\n",
       "      <td>29.5</td>\n",
       "      <td>19.389260</td>\n",
       "      <td>29.432383</td>\n",
       "    </tr>\n",
       "    <tr>\n",
       "      <th>2021-05-01</th>\n",
       "      <td>21.584340</td>\n",
       "      <td>28.9</td>\n",
       "      <td>19.903125</td>\n",
       "      <td>29.341620</td>\n",
       "    </tr>\n",
       "    <tr>\n",
       "      <th>2021-06-01</th>\n",
       "      <td>20.875111</td>\n",
       "      <td>29.1</td>\n",
       "      <td>20.866339</td>\n",
       "      <td>28.934976</td>\n",
       "    </tr>\n",
       "    <tr>\n",
       "      <th>2021-07-01</th>\n",
       "      <td>22.094731</td>\n",
       "      <td>29.1</td>\n",
       "      <td>20.965888</td>\n",
       "      <td>28.417947</td>\n",
       "    </tr>\n",
       "    <tr>\n",
       "      <th>2021-08-01</th>\n",
       "      <td>20.739739</td>\n",
       "      <td>29.0</td>\n",
       "      <td>19.848377</td>\n",
       "      <td>28.482735</td>\n",
       "    </tr>\n",
       "    <tr>\n",
       "      <th>2021-09-01</th>\n",
       "      <td>21.633316</td>\n",
       "      <td>29.2</td>\n",
       "      <td>19.523451</td>\n",
       "      <td>28.544384</td>\n",
       "    </tr>\n",
       "    <tr>\n",
       "      <th>2021-10-01</th>\n",
       "      <td>21.214337</td>\n",
       "      <td>27.9</td>\n",
       "      <td>19.900186</td>\n",
       "      <td>28.458630</td>\n",
       "    </tr>\n",
       "    <tr>\n",
       "      <th>2021-11-01</th>\n",
       "      <td>20.385244</td>\n",
       "      <td>26.9</td>\n",
       "      <td>20.384627</td>\n",
       "      <td>27.838049</td>\n",
       "    </tr>\n",
       "    <tr>\n",
       "      <th>2021-12-01</th>\n",
       "      <td>20.907689</td>\n",
       "      <td>26.7</td>\n",
       "      <td>19.842807</td>\n",
       "      <td>27.250335</td>\n",
       "    </tr>\n",
       "  </tbody>\n",
       "</table>\n",
       "</div>"
      ],
      "text/plain": [
       "               Demand  Temp_Avg  Demand_predicted  Temp_Avg_predicted\n",
       "2021-01-01  19.324695      26.3         17.959786           27.090562\n",
       "2021-02-01  18.543998      26.9         17.352181           27.927133\n",
       "2021-03-01  20.638740      28.4         18.025990           29.024670\n",
       "2021-04-01  22.340633      29.5         19.389260           29.432383\n",
       "2021-05-01  21.584340      28.9         19.903125           29.341620\n",
       "2021-06-01  20.875111      29.1         20.866339           28.934976\n",
       "2021-07-01  22.094731      29.1         20.965888           28.417947\n",
       "2021-08-01  20.739739      29.0         19.848377           28.482735\n",
       "2021-09-01  21.633316      29.2         19.523451           28.544384\n",
       "2021-10-01  21.214337      27.9         19.900186           28.458630\n",
       "2021-11-01  20.385244      26.9         20.384627           27.838049\n",
       "2021-12-01  20.907689      26.7         19.842807           27.250335"
      ]
     },
     "execution_count": 53,
     "metadata": {},
     "output_type": "execute_result"
    }
   ],
   "source": [
    "test_vs_pred=pd.concat([df_test,predictions],axis=1)\n",
    "test_vs_pred"
   ]
  },
  {
   "cell_type": "code",
   "execution_count": 54,
   "id": "045892f8",
   "metadata": {},
   "outputs": [
    {
     "data": {
      "text/plain": [
       "<AxesSubplot:>"
      ]
     },
     "execution_count": 54,
     "metadata": {},
     "output_type": "execute_result"
    },
    {
     "data": {
      "image/png": "[encoded data removed]",
      "text/plain": [
       "<Figure size 1200x500 with 1 Axes>"
      ]
     },
     "metadata": {},
     "output_type": "display_data"
    }
   ],
   "source": [
    "test_vs_pred.plot(figsize=(12,5))"
   ]
  },
  {
   "cell_type": "code",
   "execution_count": 55,
   "id": "3abfae3d",
   "metadata": {},
   "outputs": [
    {
     "name": "stdout",
     "output_type": "stream",
     "text": [
      "1.4992850939695705\n"
     ]
    }
   ],
   "source": [
    "Mean_Square_Error=mean_squared_error(df_test,predictions)\n",
    "print(Mean_Square_Error)"
   ]
  },
  {
   "cell_type": "code",
   "execution_count": 30,
   "id": "c3fbb4fd",
   "metadata": {},
   "outputs": [
    {
     "name": "stdout",
     "output_type": "stream",
     "text": [
      "1.2244529774432216\n"
     ]
    }
   ],
   "source": [
    "Root_Mean_Square_Error=sqrt(mean_squared_error(df_test,predictions))\n",
    "print(Root_Mean_Square_Error)"
   ]
  },
  {
   "cell_type": "code",
   "execution_count": 31,
   "id": "e3ba35de",
   "metadata": {},
   "outputs": [
    {
     "name": "stdout",
     "output_type": "stream",
     "text": [
      "0.9724638097991453\n"
     ]
    }
   ],
   "source": [
    "Mean_Absolute_Error=mean_absolute_error(df_test,predictions)\n",
    "print(Mean_Absolute_Error)"
   ]
  },
  {
   "cell_type": "code",
   "execution_count": 56,
   "id": "4ad78934",
   "metadata": {},
   "outputs": [
    {
     "name": "stdout",
     "output_type": "stream",
     "text": [
      "0.04288067187388993\n"
     ]
    }
   ],
   "source": [
    "Mean_Absolute_Precentage_Error=mean_absolute_percentage_error(df_test,predictions)\n",
    "print(Mean_Absolute_Precentage_Error)"
   ]
  },
  {
   "cell_type": "code",
   "execution_count": null,
   "id": "59bde24f",
   "metadata": {},
   "outputs": [],
   "source": []
  }
 ],
 "metadata": {
  "kernelspec": {
   "display_name": "Python 3 (ipykernel)",
   "language": "python",
   "name": "python3"
  },
  "language_info": {
   "codemirror_mode": {
    "name": "ipython",
    "version": 3
   },
   "file_extension": ".py",
   "mimetype": "text/x-python",
   "name": "python",
   "nbconvert_exporter": "python",
   "pygments_lexer": "ipython3",
   "version": "3.9.13"
  },
  "toc": {
   "base_numbering": 1,
   "nav_menu": {},
   "number_sections": true,
   "sideBar": true,
   "skip_h1_title": false,
   "title_cell": "Table of Contents",
   "title_sidebar": "Contents",
   "toc_cell": false,
   "toc_position": {},
   "toc_section_display": true,
   "toc_window_display": false
  }
 },
 "nbformat": 4,
 "nbformat_minor": 5
}
